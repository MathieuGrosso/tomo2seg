{
 "cells": [
  {
   "cell_type": "markdown",
   "metadata": {
    "id": "8JEHjvuBBIab"
   },
   "source": [
    "# Imports\n"
   ]
  },
  {
   "cell_type": "code",
   "execution_count": 2,
   "metadata": {
    "colab": {
     "base_uri": "https://localhost:8080/",
     "height": 33
    },
    "executionInfo": {
     "elapsed": 1970,
     "status": "ok",
     "timestamp": 1602255916978,
     "user": {
      "displayName": "João Paulo Casagrande Bertoldo",
      "photoUrl": "https://lh3.googleusercontent.com/a-/AOh14GioL6iQ5PNE9hm2XaOtZd36rClxQBdpy33-9-QsTUs=s64",
      "userId": "13620585220725745309"
     },
     "user_tz": -120
    },
    "id": "KTMgQv07JkgY",
    "outputId": "69cd78fc-f0f1-46f6-f1d8-63b99d55eaae"
   },
   "outputs": [],
   "source": [
    "%load_ext autoreload"
   ]
  },
  {
   "cell_type": "code",
   "execution_count": 25,
   "metadata": {
    "executionInfo": {
     "elapsed": 1967,
     "status": "ok",
     "timestamp": 1602255916979,
     "user": {
      "displayName": "João Paulo Casagrande Bertoldo",
      "photoUrl": "https://lh3.googleusercontent.com/a-/AOh14GioL6iQ5PNE9hm2XaOtZd36rClxQBdpy33-9-QsTUs=s64",
      "userId": "13620585220725745309"
     },
     "user_tz": -120
    },
    "id": "m7qeyEdDT3Hl"
   },
   "outputs": [],
   "source": [
    "%autoreload 2\n",
    "\n",
    "from dataclasses import dataclass, asdict, field\n",
    "from enum import Enum\n",
    "import functools\n",
    "import operator\n",
    "from functools import partial\n",
    "import logging\n",
    "import pathlib\n",
    "from pathlib import Path\n",
    "from pprint import pprint, PrettyPrinter\n",
    "import sys\n",
    "from typing import *\n",
    "import time\n",
    "import yaml\n",
    "from yaml import YAMLObject\n",
    "import socket\n",
    "\n",
    "import humanize\n",
    "from matplotlib import pyplot as plt, cm\n",
    "import numpy as np\n",
    "import pandas as pd\n",
    "from pymicro.file import file_utils\n",
    "import tensorflow as tf\n",
    "from numpy.random import RandomState\n",
    "\n",
    "from tensorflow import keras\n",
    "from tensorflow.keras import utils\n",
    "from tensorflow.keras import optimizers\n",
    "from tensorflow.keras import callbacks as keras_callbacks\n",
    "from tensorflow.keras import losses\n",
    "from tensorflow.keras import metrics as keras_metrics\n",
    "\n",
    "from tomo2seg import slack\n",
    "from tomo2seg import modular_unet\n",
    "from tomo2seg.logger import logger\n",
    "from tomo2seg import data, viz\n",
    "from tomo2seg.data import Volume\n",
    "from tomo2seg.metadata import Metadata\n",
    "from tomo2seg.volume_sequence import (\n",
    "    MetaCrop3DGenerator, VolumeCropSequence,\n",
    "    UniformGridPosition, SequentialGridPosition,\n",
    "    ET3DUniformCuboidAlmostEverywhere, ET3DConstantEverywhere, \n",
    "    GTUniformEverywhere, GTConstantEverywhere, \n",
    "    VSConstantEverywhere, VSUniformEverywhere\n",
    ")\n",
    "from tomo2seg import volume_sequence\n",
    "from tomo2seg.model import Model as Tomo2SegModel\n",
    "from tomo2seg import callbacks as tomo2seg_callbacks\n",
    "from tomo2seg import losses as tomo2seg_losses\n",
    "from tomo2seg import schedule as tomo2seg_schedule\n",
    "from tomo2seg import utils as tomo2seg_utils\n",
    "from tomo2seg import slackme"
   ]
  },
  {
   "cell_type": "code",
   "execution_count": 4,
   "metadata": {},
   "outputs": [],
   "source": [
    "# this registers a custom exception handler for the whole current notebook\n",
    "get_ipython().set_custom_exc((Exception,), slackme.custom_exc)"
   ]
  },
  {
   "cell_type": "markdown",
   "metadata": {},
   "source": [
    "# Args"
   ]
  },
  {
   "cell_type": "code",
   "execution_count": 16,
   "metadata": {},
   "outputs": [
    {
     "name": "stdout",
     "output_type": "stream",
     "text": [
      "INFO::tomo2seg::{<ipython-input-16-9c8f50b4cdd9>:<module>:031}::[2020-12-11::16:10:29.904]\n",
      "MAX_INTERNAL_NVOXELS=133632000.0 (133,632,000.0)\n",
      "\n",
      "INFO::tomo2seg::{<ipython-input-16-9c8f50b4cdd9>:<module>:049}::[2020-12-11::16:10:29.906]\n",
      "args\n",
      "{   'early_stop_mode': <EarlyStopMode.no_early_stop: 0>,\n",
      "    'is_continuation': False,\n",
      "    'random_state_seed': 42,\n",
      "    'runid': 1607698009}\n",
      "\n"
     ]
    }
   ],
   "source": [
    "@dataclass\n",
    "class Args:\n",
    "\n",
    "    class EarlyStopMode(Enum):\n",
    "        no_early_stop = 0\n",
    "    \n",
    "    early_stop_mode: EarlyStopMode\n",
    "    random_state_seed: int = 42\n",
    "        \n",
    "    runid: int = None\n",
    "    is_continuation: bool = False\n",
    "        \n",
    "    def __post_init__(self):\n",
    "        \n",
    "        if self.is_continuation:\n",
    "            assert self.runid is not None, f\"Incompatible args {self.runid=} {self.is_continuation=}\"\n",
    "        \n",
    "        if self.runid is None:\n",
    "            self.runid = int(time.time())\n",
    "\n",
    "# these are estimates based on things i've seen fit in the GPU\n",
    "MAX_INTERNAL_NVOXELS = max(\n",
    "    # seen cases\n",
    "    4 * (8 * 6) * (96**3),\n",
    "    8 * (16 * 6) * (320**2),  \n",
    "    3 * (16 * 6) * (800 * 928),\n",
    ")\n",
    "\n",
    "MAX_INTERNAL_NVOXELS *= 5/8  # a smaller gpu on other pcs...\n",
    "\n",
    "logger.info(f\"{MAX_INTERNAL_NVOXELS=} ({humanize.intcomma(MAX_INTERNAL_NVOXELS)})\")\n",
    "\n",
    "# override_batch_size = None\n",
    "# doing this to reproduce the same conditions...\n",
    "override_batch_size_per_gpu = None  \n",
    "\n",
    "# None: continue from the latest model\n",
    "# 1: continue from model.autosaved_model_path\n",
    "# 2: continue from model.autosaved2_model_path\n",
    "# continue_from_autosave: Optional[int] = None \n",
    "    \n",
    "args = Args(\n",
    "    early_stop_mode = Args.EarlyStopMode.no_early_stop,\n",
    "#     random_state_seed=30,  # I'll change it so we don't repeat the same crops from the begining\n",
    "    runid = 1607698009,\n",
    "#     is_continuation=True,\n",
    ")\n",
    "\n",
    "logger.info(f\"args\\n{PrettyPrinter(indent=4, compact=False).pformat(asdict(args))}\")"
   ]
  },
  {
   "cell_type": "markdown",
   "metadata": {
    "id": "EnVqPFS9BNCg"
   },
   "source": [
    "\n",
    "# Setup\n"
   ]
  },
  {
   "cell_type": "code",
   "execution_count": 7,
   "metadata": {},
   "outputs": [
    {
     "name": "stdout",
     "output_type": "stream",
     "text": [
      "INFO::tomo2seg::{<ipython-input-7-050df0cd2614>:<module>:007}::[2020-12-11::16:06:22.938]\n",
      "tf_version='2.2.0'\n",
      "\n",
      "INFO::tomo2seg::{<ipython-input-7-050df0cd2614>:<module>:010}::[2020-12-11::16:06:22.940]\n",
      "Hostname: R7920-tomo\n",
      "Num GPUs Available: 2\n",
      "This should be:\n",
      "\t2 on R790-TOMO\n",
      "\t1 on akela\n",
      "\t1 on hathi\n",
      "\t1 on krilin\n",
      "\n",
      "DEBUG::tomo2seg::{<ipython-input-7-050df0cd2614>:<module>:014}::[2020-12-11::16:06:22.941]\n",
      "physical GPU devices:\n",
      "\tPhysicalDevice(name='/physical_device:GPU:0', device_type='GPU')\n",
      "\tPhysicalDevice(name='/physical_device:GPU:1', device_type='GPU')\n",
      "logical GPU devices:\n",
      "\tLogicalDevice(name='/device:GPU:0', device_type='GPU')\n",
      "\tLogicalDevice(name='/device:GPU:1', device_type='GPU')\n",
      "\n",
      "INFO:tensorflow:Using MirroredStrategy with devices ('/job:localhost/replica:0/task:0/device:GPU:0', '/job:localhost/replica:0/task:0/device:GPU:1')\n",
      "DEBUG::tomo2seg::{<ipython-input-7-050df0cd2614>:<module>:025}::[2020-12-11::16:06:22.945]\n",
      "gpu_strategy=<tensorflow.python.distribute.mirrored_strategy.MirroredStrategy object at 0x7f0639c912b0>\n",
      "\n"
     ]
    }
   ],
   "source": [
    "logger.setLevel(logging.DEBUG)\n",
    "random_state = np.random.RandomState(args.random_state_seed)\n",
    "\n",
    "n_gpus = len(tf.config.list_physical_devices('GPU'))\n",
    "    \n",
    "tf_version = tf.__version__\n",
    "logger.info(f\"{tf_version=}\")\n",
    "\n",
    "hostname = socket.gethostname()\n",
    "logger.info(\n",
    "    f\"Hostname: {hostname}\\nNum GPUs Available: {n_gpus}\\nThis should be:\\n\\t\" + '\\n\\t'.join(['2 on R790-TOMO', '1 on akela', '1 on hathi', '1 on krilin'])\n",
    ")\n",
    "\n",
    "logger.debug(\n",
    "    \"physical GPU devices:\\n\\t\" + \"\\n\\t\".join(map(str, tf.config.list_physical_devices('GPU'))) + \"\\n\" +\n",
    "    \"logical GPU devices:\\n\\t\" + \"\\n\\t\".join(map(stsr, tf.config.list_logical_devices('GPU'))) \n",
    ")\n",
    "\n",
    "# xla auto-clustering optimization (see: https://www.tensorflow.org/xla#auto-clustering)\n",
    "# this seems to break the training\n",
    "tf.config.optimizer.set_jit(False)\n",
    "\n",
    "# get a distribution strategy to use both gpus (see https://www.tensorflow.org/guide/distributed_training)\n",
    "gpu_strategy = tf.distribute.MirroredStrategy()  \n",
    "logger.debug(f\"{gpu_strategy=}\")"
   ]
  },
  {
   "cell_type": "markdown",
   "metadata": {
    "id": "j8e5FhmUaKND"
   },
   "source": [
    "# Data"
   ]
  },
  {
   "cell_type": "code",
   "execution_count": 8,
   "metadata": {},
   "outputs": [
    {
     "name": "stdout",
     "output_type": "stream",
     "text": [
      "INFO::tomo2seg::{<ipython-input-8-151513cc1605>:<module>:012}::[2020-12-11::16:06:26.060]\n",
      "volume_name='fracture00'\n",
      "\n",
      "INFO::tomo2seg::{<ipython-input-8-151513cc1605>:<module>:013}::[2020-12-11::16:06:26.062]\n",
      "volume_version='segmented00'\n",
      "\n",
      "INFO::tomo2seg::{<ipython-input-8-151513cc1605>:<module>:014}::[2020-12-11::16:06:26.063]\n",
      "labels_version='jordan'\n",
      "\n"
     ]
    }
   ],
   "source": [
    "from tomo2seg.datasets import (\n",
    "#     VOLUME_COMPOSITE_V1 as VOLUME_NAME_VERSION,\n",
    "#     VOLUME_COMPOSITE_V1_REDUCED as VOLUME_NAME_VERSION,\n",
    "#     VOLUME_COMPOSITE_V1_LABELS_REFINED3 as LABELS_VERSION,\n",
    "    VOLUME_FRACTURE00_SEGMENTED00 as VOLUME_NAME_VERSION,\n",
    "    VOLUME_FRACTURE00_SEGMENTED00_LABELS_REFINED3 as LABELS_VERSION,\n",
    ")\n",
    "\n",
    "volume_name, volume_version = VOLUME_NAME_VERSION\n",
    "labels_version = LABELS_VERSION\n",
    "\n",
    "logger.info(f\"{volume_name=}\")\n",
    "logger.info(f\"{volume_version=}\")\n",
    "logger.info(f\"{labels_version=}\")"
   ]
  },
  {
   "cell_type": "code",
   "execution_count": 24,
   "metadata": {
    "executionInfo": {
     "elapsed": 2916,
     "status": "ok",
     "timestamp": 1602255917946,
     "user": {
      "displayName": "João Paulo Casagrande Bertoldo",
      "photoUrl": "https://lh3.googleusercontent.com/a-/AOh14GioL6iQ5PNE9hm2XaOtZd36rClxQBdpy33-9-QsTUs=s64",
      "userId": "13620585220725745309"
     },
     "user_tz": -120
    },
    "id": "4CfP7usu2VKr"
   },
   "outputs": [
    {
     "name": "stdout",
     "output_type": "stream",
     "text": [
      "DEBUG::tomo2seg::{data.py:with_check:258}::[2020-12-11::16:19:09.170]\n",
      "vol=Volume(name='fracture00', version='segmented00', _metadata=None)\n",
      "\n",
      "DEBUG::tomo2seg::{data.py:metadata:195}::[2020-12-11::16:19:09.173]\n",
      "Loading metadata from `/home/users/jcasagrande/projects/tomo2seg/data/fracture00.segmented00/fracture00.segmented00.metadata.yml`.\n",
      "\n",
      "INFO::tomo2seg::{<ipython-input-24-c989932cb435>:<module>:008}::[2020-12-11::16:19:09.198]\n",
      "args\n",
      "{   '_metadata': {   'dimensions': [731, 301, 200],\n",
      "                     'dtype': 'uint16',\n",
      "                     'labels': [0, 1, 2, 3, 4],\n",
      "                     'labels_names': {   0: 'exterior',\n",
      "                                         1: 'inside',\n",
      "                                         2: 'defect',\n",
      "                                         3: 'porosity',\n",
      "                                         4: 'crack'},\n",
      "                     'set_partitions': {   'test': {   'alias': 'test',\n",
      "                                                       'x_range': [450, 731],\n",
      "                                                       'y_range': [0, 301],\n",
      "                                                       'z_range': [0, 200]},\n",
      "                                           'train': {   'alias': 'train',\n",
      "                                                        'x_range': [0, 260],\n",
      "                                                        'y_range': [0, 301],\n",
      "                                                        'z_range': [0, 200]},\n",
      "                                           'train2': {   'alias': 'train2',\n",
      "                                                         'x_range': [0, 450],\n",
      "                                                         'y_range': [0, 301],\n",
      "                                                         'z_range': [0, 200]},\n",
      "                                           'val': {   'alias': 'val',\n",
      "                                                      'x_range': [260, 450],\n",
      "                                                      'y_range': [0, 301],\n",
      "                                                      'z_range': [0, 200]},\n",
      "                                           'val2': {   'alias': 'val2',\n",
      "                                                       'x_range': [450, 731],\n",
      "                                                       'y_range': [0, 301],\n",
      "                                                       'z_range': [0, 200]}}},\n",
      "    'name': 'fracture00',\n",
      "    'version': 'segmented00'}\n",
      "\n",
      "INFO::tomo2seg::{<ipython-input-24-c989932cb435>:<module>:018}::[2020-12-11::16:19:09.200]\n",
      "Loading data from disk.\n",
      "\n",
      "DEBUG::tomo2seg::{<ipython-input-24-c989932cb435>:<module>:022}::[2020-12-11::16:19:09.201]\n",
      "normalization_factor=65535\n",
      "\n",
      "data type is uint16\n",
      "volume size is 731 x 301 x 200\n",
      "reading volume... from byte 0\n",
      "DEBUG::tomo2seg::{<ipython-input-24-c989932cb435>:<module>:034}::[2020-12-11::16:19:09.437]\n",
      "voldata.shape=(731, 301, 200)\n",
      "\n",
      "DEBUG::tomo2seg::{<ipython-input-24-c989932cb435>:<module>:039}::[2020-12-11::16:19:09.438]\n",
      "voldata_train.shape=(260, 301, 200)\n",
      "\n",
      "DEBUG::tomo2seg::{<ipython-input-24-c989932cb435>:<module>:040}::[2020-12-11::16:19:09.439]\n",
      "voldata_val.shape=(190, 301, 200)\n",
      "\n",
      "data type is uint8\n",
      "volume size is 731 x 301 x 200\n",
      "reading volume... from byte 0\n",
      "DEBUG::tomo2seg::{<ipython-input-24-c989932cb435>:<module>:054}::[2020-12-11::16:19:09.498]\n",
      "vollabels.shape=(731, 301, 200)\n",
      "\n",
      "DEBUG::tomo2seg::{<ipython-input-24-c989932cb435>:<module>:059}::[2020-12-11::16:19:09.500]\n",
      "vollabels_train.shape=(260, 301, 200)\n",
      "\n",
      "DEBUG::tomo2seg::{<ipython-input-24-c989932cb435>:<module>:060}::[2020-12-11::16:19:09.501]\n",
      "vollabels_val.shape=(190, 301, 200)\n",
      "\n"
     ]
    }
   ],
   "source": [
    "# Metadata/paths objects\n",
    "\n",
    "## Volume\n",
    "volume = Volume.with_check(\n",
    "    name=volume_name, version=volume_version\n",
    ")\n",
    "\n",
    "logger.info(f\"args\\n{PrettyPrinter(indent=4, compact=False).pformat(asdict(volume))}\")\n",
    "\n",
    "n_classes = len(volume.metadata.labels)\n",
    "\n",
    "def _read_raw(path_: Path, volume_: Volume): \n",
    "    # from pymicro\n",
    "    return \n",
    "\n",
    "read_raw = partial(_read_raw, volume_=volume)\n",
    "\n",
    "logger.info(\"Loading data from disk.\")\n",
    "\n",
    "normalization_factor = volume_sequence.NORMALIZE_FACTORS[volume.metadata.dtype]\n",
    "\n",
    "logger.debug(f\"{normalization_factor=}\")\n",
    "\n",
    "## Data\n",
    "voldata = file_utils.HST_read(\n",
    "    str(volume.data_path),  # it doesn't accept paths...\n",
    "    \n",
    "    autoparse_filename=False,  # the file names are not properly formatted\n",
    "    data_type=volume.metadata.dtype,\n",
    "    dims=volume.metadata.dimensions,\n",
    "    verbose=True,\n",
    ") / normalization_factor # normalize\n",
    "\n",
    "logger.debug(f\"{voldata.shape=}\")\n",
    "\n",
    "voldata_train = volume.train_partition.get_volume_partition(voldata)\n",
    "voldata_val = volume.val_partition.get_volume_partition(voldata)\n",
    "\n",
    "logger.debug(f\"{voldata_train.shape=}\")\n",
    "logger.debug(f\"{voldata_val.shape=}\")\n",
    "\n",
    "del voldata\n",
    "\n",
    "## Labels\n",
    "\n",
    "vollabels = file_utils.HST_read(\n",
    "    str(volume.versioned_labels_path(labels_version)),\n",
    "    \n",
    "    autoparse_filename=False,\n",
    "    data_type=\"uint8\",\n",
    "    dims=volume.metadata.dimensions,\n",
    "    verbose=True,\n",
    ")\n",
    "logger.debug(f\"{vollabels.shape=}\")\n",
    "\n",
    "vollabels_train = volume.train_partition.get_volume_partition(vollabels)\n",
    "vollabels_val = volume.val_partition.get_volume_partition(vollabels)\n",
    "\n",
    "logger.debug(f\"{vollabels_train.shape=}\")\n",
    "logger.debug(f\"{vollabels_val.shape=}\")\n",
    "\n",
    "del vollabels"
   ]
  },
  {
   "cell_type": "markdown",
   "metadata": {},
   "source": [
    "# Model"
   ]
  },
  {
   "cell_type": "code",
   "execution_count": 10,
   "metadata": {},
   "outputs": [
    {
     "name": "stdout",
     "output_type": "stream",
     "text": [
      "already deleted (:\n"
     ]
    }
   ],
   "source": [
    "try:\n",
    "    tomo2seg_model\n",
    "except NameError:\n",
    "    print(\"already deleted (:\")\n",
    "else:\n",
    "    del tomo2seg_model"
   ]
  },
  {
   "cell_type": "code",
   "execution_count": 11,
   "metadata": {
    "executionInfo": {
     "elapsed": 590,
     "status": "ok",
     "timestamp": 1602255973613,
     "user": {
      "displayName": "João Paulo Casagrande Bertoldo",
      "photoUrl": "https://lh3.googleusercontent.com/a-/AOh14GioL6iQ5PNE9hm2XaOtZd36rClxQBdpy33-9-QsTUs=s64",
      "userId": "13620585220725745309"
     },
     "user_tz": -120
    },
    "id": "lnPHivbmBhpY"
   },
   "outputs": [
    {
     "name": "stdout",
     "output_type": "stream",
     "text": [
      "INFO::tomo2seg::{<ipython-input-11-d16e5795bcb5>:<module>:031}::[2020-12-11::16:06:51.503]\n",
      "Creating a Tomo2SegModel.\n",
      "\n",
      "INFO::tomo2seg::{<ipython-input-11-d16e5795bcb5>:<module>:045}::[2020-12-11::16:06:51.505]\n",
      "args\n",
      "{   'factory_function': 'tomo2seg.modular_unet.u_net',\n",
      "    'factory_kwargs': {   'convlayer': <ConvLayer.conv2d: 0>,\n",
      "                          'depth': 4,\n",
      "                          'input_shape': (176, 288, 1),\n",
      "                          'nb_filters_0': 16,\n",
      "                          'output_channels': 5,\n",
      "                          'sigma_noise': 0,\n",
      "                          'unet_block_kwargs': {   'batch_norm': True,\n",
      "                                                   'dropout': 0,\n",
      "                                                   'kernel_size': 3,\n",
      "                                                   'res': True},\n",
      "                          'unet_down_kwargs': {'batchnorm': True},\n",
      "                          'unet_up_kwargs': {'batchnorm': True},\n",
      "                          'updown_conv_sampling': True},\n",
      "    'fold': 0,\n",
      "    'master_name': 'unet2d-crack',\n",
      "    'runid': 1607698009,\n",
      "    'version': '00'}\n",
      "\n",
      "INFO::tomo2seg::{<ipython-input-11-d16e5795bcb5>:<module>:046}::[2020-12-11::16:06:51.506]\n",
      "tomo2seg_model.name='unet2d-crack.00.fold000.1607-698-009'\n",
      "\n"
     ]
    }
   ],
   "source": [
    "# 176/288 is the biggest that covers the whole validation shape\n",
    "# it's kind of stupid that i'm limited by that...\n",
    "crop_shape = (176, 288, 1)  # multiple of 16 (requirement of a 4-level u-net)\n",
    "\n",
    "model_master_name = \"unet2d-crack\"\n",
    "model_version = \"00\"\n",
    "\n",
    "model_is_2halfd = False\n",
    "model_is_2d = True\n",
    "\n",
    "model_factory_function = modular_unet.u_net\n",
    "model_factory_kwargs = {\n",
    "    **modular_unet.kwargs_vanilla03,\n",
    "    **dict(\n",
    "        convlayer=modular_unet.ConvLayer.conv2d,\n",
    "        input_shape = crop_shape,\n",
    "        output_channels=n_classes,\n",
    "#         nb_filters_0 = 2,\n",
    "#         nb_filters_0 = 4,\n",
    "#         nb_filters_0 = 8,\n",
    "#         nb_filters_0 = 12,\n",
    "        nb_filters_0 = 16,\n",
    "#         nb_filters_0 = 32,\n",
    "    ),\n",
    "}\n",
    "\n",
    "try:\n",
    "    tomo2seg_model\n",
    "    \n",
    "except NameError:\n",
    "    logger.info(\"Creating a Tomo2SegModel.\")\n",
    "    \n",
    "    tomo2seg_model = Tomo2SegModel(\n",
    "        model_master_name, \n",
    "        model_version, \n",
    "        runid=args.runid,\n",
    "        factory_function=model_factory_function,\n",
    "        factory_kwargs=model_factory_kwargs,\n",
    "    )\n",
    "                \n",
    "else:\n",
    "    logger.warning(\"The model is already defined. To create a new one: `del tomo2seg_model`\")\n",
    "\n",
    "finally:\n",
    "    logger.info(f\"args\\n{PrettyPrinter(indent=4, compact=False).pformat(asdict(tomo2seg_model))}\")    \n",
    "    logger.info(f\"{tomo2seg_model.name=}\")"
   ]
  },
  {
   "cell_type": "code",
   "execution_count": 13,
   "metadata": {
    "executionInfo": {
     "elapsed": 590,
     "status": "ok",
     "timestamp": 1602255973613,
     "user": {
      "displayName": "João Paulo Casagrande Bertoldo",
      "photoUrl": "https://lh3.googleusercontent.com/a-/AOh14GioL6iQ5PNE9hm2XaOtZd36rClxQBdpy33-9-QsTUs=s64",
      "userId": "13620585220725745309"
     },
     "user_tz": -120
    },
    "id": "lnPHivbmBhpY"
   },
   "outputs": [
    {
     "name": "stdout",
     "output_type": "stream",
     "text": [
      "INFO::tomo2seg::{<ipython-input-13-c489e97597c1>:<module>:001}::[2020-12-11::16:08:19.565]\n",
      "Creating the Keras model.\n",
      "\n",
      "INFO::tomo2seg::{<ipython-input-13-c489e97597c1>:<module>:033}::[2020-12-11::16:08:19.606]\n",
      "A new model will be instantiated!\n",
      "\n",
      "INFO::tomo2seg::{<ipython-input-13-c489e97597c1>:<module>:048}::[2020-12-11::16:08:19.608]\n",
      "Instantiating a new model with model_factory_function=u_net.\n",
      "\n",
      "INFO:tensorflow:Reduce to /job:localhost/replica:0/task:0/device:CPU:0 then broadcast to ('/job:localhost/replica:0/task:0/device:CPU:0',).\n",
      "INFO:tensorflow:Reduce to /job:localhost/replica:0/task:0/device:CPU:0 then broadcast to ('/job:localhost/replica:0/task:0/device:CPU:0',).\n",
      "INFO:tensorflow:Reduce to /job:localhost/replica:0/task:0/device:CPU:0 then broadcast to ('/job:localhost/replica:0/task:0/device:CPU:0',).\n",
      "INFO:tensorflow:Reduce to /job:localhost/replica:0/task:0/device:CPU:0 then broadcast to ('/job:localhost/replica:0/task:0/device:CPU:0',).\n",
      "INFO:tensorflow:Reduce to /job:localhost/replica:0/task:0/device:CPU:0 then broadcast to ('/job:localhost/replica:0/task:0/device:CPU:0',).\n",
      "INFO:tensorflow:Reduce to /job:localhost/replica:0/task:0/device:CPU:0 then broadcast to ('/job:localhost/replica:0/task:0/device:CPU:0',).\n",
      "INFO:tensorflow:Reduce to /job:localhost/replica:0/task:0/device:CPU:0 then broadcast to ('/job:localhost/replica:0/task:0/device:CPU:0',).\n",
      "INFO:tensorflow:Reduce to /job:localhost/replica:0/task:0/device:CPU:0 then broadcast to ('/job:localhost/replica:0/task:0/device:CPU:0',).\n",
      "INFO:tensorflow:Reduce to /job:localhost/replica:0/task:0/device:CPU:0 then broadcast to ('/job:localhost/replica:0/task:0/device:CPU:0',).\n",
      "INFO:tensorflow:Reduce to /job:localhost/replica:0/task:0/device:CPU:0 then broadcast to ('/job:localhost/replica:0/task:0/device:CPU:0',).\n",
      "INFO::tomo2seg::{<ipython-input-13-c489e97597c1>:<module>:055}::[2020-12-11::16:08:23.064]\n",
      "Compiling the model.\n",
      "\n",
      "DEBUG::tomo2seg::{<ipython-input-13-c489e97597c1>:<module>:069}::[2020-12-11::16:08:23.066]\n",
      "loss=<function jaccard2_flat at 0x7f0639d9a9d0>\n",
      "\n",
      "DEBUG::tomo2seg::{<ipython-input-13-c489e97597c1>:<module>:070}::[2020-12-11::16:08:23.066]\n",
      "optimizer=<tensorflow.python.keras.optimizer_v2.adam.Adam object at 0x7f05b03ca130>\n",
      "\n",
      "DEBUG::tomo2seg::{<ipython-input-13-c489e97597c1>:<module>:071}::[2020-12-11::16:08:23.067]\n",
      "metrics=[]\n",
      "\n"
     ]
    }
   ],
   "source": [
    "logger.info(\"Creating the Keras model.\")\n",
    "\n",
    "with gpu_strategy.scope():\n",
    "    \n",
    "    if args.is_continuation:\n",
    "        logger.warning(\"Training continuation: a model will be loaded.\")\n",
    "\n",
    "        if continue_from_autosave is None:\n",
    "            logger.info(\"Using the LATEST model to continue the training.\")\n",
    "            load_model_path = tomo2seg_model.model_path\n",
    "        \n",
    "        elif continue_from_autosave == 1:\n",
    "            logger.info(\"Using the AUTOSAVED model to continue the training.\")\n",
    "            load_model_path = tomo2seg_model.autosaved_model_path\n",
    "        \n",
    "        elif continue_from_autosave == 2:\n",
    "            logger.info(\"Using the (best) AUTOSAVED2 model to continue the training.\")\n",
    "            load_model_path = tomo2seg_model.autosaved2_best_model_path\n",
    "        \n",
    "        else:\n",
    "            raise ValueError(f\"{continue_from_autosave=}\")\n",
    "        \n",
    "    elif (\n",
    "        tomo2seg_model.model_path.exists() or\n",
    "        tomo2seg_model.autosaved_model_path.exists()\n",
    "        # todo uncomment me when implemented\n",
    "#             or tomo2seg_model.autosaved2_best_model_path.exists()\n",
    "    ):\n",
    "        logger.error(f\"The model seems to already exist but this is not a continuation. Please, make sure the arguments are correct.\")\n",
    "        raise ValueError(f\"{args.is_continuation=} {tomo2seg_model.name=}\")\n",
    "    \n",
    "    else:\n",
    "        logger.info(f\"A new model will be instantiated!\")\n",
    "        \n",
    "        \n",
    "    if args.is_continuation:\n",
    "        \n",
    "        assert load_model_path.exists(), f\"Inconsistent arguments {args.is_continuation=} {load_model_path=}.\"\n",
    "        \n",
    "        logger.info(f\"Loading model {load_model_path.name}\")\n",
    "        \n",
    "        model = keras.models.load_model(str(load_model_path), compile=False)\n",
    "\n",
    "        assert model.name == tomo2seg_model.name, f\"{model.name=} {tomo2seg_model.name=}\"\n",
    "        \n",
    "    else:\n",
    "        \n",
    "        logger.info(f\"Instantiating a new model with model_factory_function={model_factory_function.__name__}.\")\n",
    "      \n",
    "        model = model_factory_function(\n",
    "            name=tomo2seg_model.name,\n",
    "            **model_factory_kwargs\n",
    "        )\n",
    "\n",
    "    logger.info(\"Compiling the model.\")\n",
    "\n",
    "    # using the avg jaccard is dangerous if one of the classes is too\n",
    "    # underrepresented because it's jaccard will be unstable\n",
    "    loss = tomo2seg_losses.jaccard2_flat\n",
    "    optimizer = optimizers.Adam(lr=.003)\n",
    "    metrics = [\n",
    "#         tomo2seg_losses.jaccard2_macro_avg,\n",
    "#         keras_metrics.Accuracy(),\n",
    "#     ] + [\n",
    "#         tomo2seg_losses.Jaccard2(class_idx)\n",
    "#         for class_idx in range(n_classes)\n",
    "    ]\n",
    "    \n",
    "    logger.debug(f\"{loss=}\")\n",
    "    logger.debug(f\"{optimizer=}\")\n",
    "    logger.debug(f\"{metrics=}\")\n",
    "    \n",
    "    model.compile(loss=loss, optimizer=optimizer, metrics=metrics)\n",
    "    "
   ]
  },
  {
   "cell_type": "code",
   "execution_count": 14,
   "metadata": {
    "executionInfo": {
     "elapsed": 590,
     "status": "ok",
     "timestamp": 1602255973613,
     "user": {
      "displayName": "João Paulo Casagrande Bertoldo",
      "photoUrl": "https://lh3.googleusercontent.com/a-/AOh14GioL6iQ5PNE9hm2XaOtZd36rClxQBdpy33-9-QsTUs=s64",
      "userId": "13620585220725745309"
     },
     "user_tz": -120
    },
    "id": "lnPHivbmBhpY"
   },
   "outputs": [
    {
     "name": "stdout",
     "output_type": "stream",
     "text": [
      "INFO::tomo2seg::{<ipython-input-14-220d06205e36>:<module>:003}::[2020-12-11::16:08:32.002]\n",
      "Saving the model at tomo2seg_model.model_path=PosixPath('/home/users/jcasagrande/projects/tomo2seg/data/models/unet2d-crack/unet2d-crack.00.fold000.1607-698-009').\n",
      "\n",
      "WARNING:tensorflow:From /home/users/jcasagrande/projects/tomo2seg/condaenv/lib/python3.8/site-packages/tensorflow/python/ops/resource_variable_ops.py:1813: calling BaseResourceVariable.__init__ (from tensorflow.python.ops.resource_variable_ops) with constraint is deprecated and will be removed in a future version.\n",
      "Instructions for updating:\n",
      "If using Keras pass *_constraint arguments to layers.\n",
      "INFO:tensorflow:Assets written to: /home/users/jcasagrande/projects/tomo2seg/data/models/unet2d-crack/unet2d-crack.00.fold000.1607-698-009/assets\n",
      "INFO::tomo2seg::{<ipython-input-14-220d06205e36>:<module>:007}::[2020-12-11::16:08:50.102]\n",
      "Writing the model summary at tomo2seg_model.summary_path=PosixPath('/home/users/jcasagrande/projects/tomo2seg/data/models/unet2d-crack/unet2d-crack.00.fold000.1607-698-009/summary.txt').\n",
      "\n",
      "INFO::tomo2seg::{<ipython-input-14-220d06205e36>:<module>:014}::[2020-12-11::16:08:50.195]\n",
      "Printing an image of the architecture at tomo2seg_model.architecture_plot_path=PosixPath('/home/users/jcasagrande/projects/tomo2seg/data/models/unet2d-crack/unet2d-crack.00.fold000.1607-698-009/architecture.png').\n",
      "\n"
     ]
    }
   ],
   "source": [
    "if not args.is_continuation:\n",
    "    \n",
    "    logger.info(f\"Saving the model at {tomo2seg_model.model_path=}.\")\n",
    "    \n",
    "    model.save(tomo2seg_model.model_path)\n",
    "\n",
    "    logger.info(f\"Writing the model summary at {tomo2seg_model.summary_path=}.\")\n",
    "    \n",
    "    with tomo2seg_model.summary_path.open(\"w\") as f:\n",
    "        def print_to_txt(line):\n",
    "            f.writelines([line + \"\\n\"])\n",
    "        model.summary(print_fn=print_to_txt, line_length=140)\n",
    "\n",
    "    logger.info(f\"Printing an image of the architecture at {tomo2seg_model.architecture_plot_path=}.\")\n",
    "    \n",
    "    utils.plot_model(model, show_shapes=True, to_file=tomo2seg_model.architecture_plot_path);"
   ]
  },
  {
   "cell_type": "markdown",
   "metadata": {
    "id": "KnsQ7lX0bVRh"
   },
   "source": [
    "# Data crop sequences"
   ]
  },
  {
   "cell_type": "markdown",
   "metadata": {},
   "source": [
    "## Batch size"
   ]
  },
  {
   "cell_type": "code",
   "execution_count": 17,
   "metadata": {},
   "outputs": [
    {
     "name": "stdout",
     "output_type": "stream",
     "text": [
      "DEBUG::tomo2seg::{utils.py:get_model_internal_nvoxel_factor:023}::[2020-12-11::16:10:37.474]\n",
      "input_layer=<tensorflow.python.keras.engine.input_layer.InputLayer object at 0x7f06bc974a00>\n",
      "\n",
      "DEBUG::tomo2seg::{utils.py:get_model_internal_nvoxel_factor:029}::[2020-12-11::16:10:37.475]\n",
      "input_nvoxels=50688\n",
      "\n",
      "DEBUG::tomo2seg::{utils.py:get_model_internal_nvoxel_factor:041}::[2020-12-11::16:10:37.477]\n",
      "max_internal_nvoxels=4866048 (4,866,048)\n",
      "\n",
      "DEBUG::tomo2seg::{<ipython-input-17-46fe188ba465>:<module>:003}::[2020-12-11::16:10:37.478]\n",
      "model_internal_nvoxel_factor=96\n",
      "\n",
      "DEBUG::tomo2seg::{<ipython-input-17-46fe188ba465>:<module>:007}::[2020-12-11::16:10:37.480]\n",
      "max_batch_nvoxels=1392000 (1,392,000)\n",
      "\n",
      "DEBUG::tomo2seg::{<ipython-input-17-46fe188ba465>:<module>:011}::[2020-12-11::16:10:37.481]\n",
      "crop_shape=(176, 288, 1) ==> crop_nvoxels=50688\n",
      "\n",
      "INFO::tomo2seg::{<ipython-input-17-46fe188ba465>:<module>:015}::[2020-12-11::16:10:37.482]\n",
      "batch_size_per_gpu=27\n",
      "\n",
      "INFO::tomo2seg::{<ipython-input-17-46fe188ba465>:<module>:025}::[2020-12-11::16:10:37.483]\n",
      "n_gpus=2\n",
      "\n",
      "INFO::tomo2seg::{<ipython-input-17-46fe188ba465>:<module>:029}::[2020-12-11::16:10:37.484]\n",
      "batch_size=54\n",
      "\n"
     ]
    }
   ],
   "source": [
    "model_internal_nvoxel_factor = tomo2seg_utils.get_model_internal_nvoxel_factor(model)\n",
    "\n",
    "logger.debug(f\"{model_internal_nvoxel_factor=}\")\n",
    "\n",
    "max_batch_nvoxels = int(np.floor(MAX_INTERNAL_NVOXELS / model_internal_nvoxel_factor))\n",
    "\n",
    "logger.debug(f\"{max_batch_nvoxels=} ({humanize.intcomma(max_batch_nvoxels)})\")\n",
    "\n",
    "crop_nvoxels = functools.reduce(operator.mul, crop_shape)\n",
    "\n",
    "logger.debug(f\"{crop_shape=} ==> {crop_nvoxels=}\")\n",
    "\n",
    "max_batch_size_per_gpu = batch_size_per_gpu = int(np.floor(max_batch_nvoxels / crop_nvoxels))\n",
    "\n",
    "logger.info(f\"{batch_size_per_gpu=}\")\n",
    "\n",
    "if override_batch_size_per_gpu is not None:\n",
    "    \n",
    "    assert override_batch_size_per_gpu > 0, f\"{override_batch_size_per_gpu=}\"\n",
    "    \n",
    "    batch_size_per_gpu = override_batch_size_per_gpu\n",
    "    \n",
    "    logger.warning(f\"{override_batch_size_per_gpu=} given ==> replacing {batch_size_per_gpu=}\")\n",
    "\n",
    "logger.info(f\"{n_gpus=}\")\n",
    "\n",
    "batch_size = batch_size_per_gpu * max(1, n_gpus)\n",
    "\n",
    "logger.info(f\"{batch_size=}\")\n",
    "\n",
    "common_random_state = 143"
   ]
  },
  {
   "cell_type": "markdown",
   "metadata": {},
   "source": [
    "## Common kwargs"
   ]
  },
  {
   "cell_type": "code",
   "execution_count": 26,
   "metadata": {},
   "outputs": [
    {
     "name": "stdout",
     "output_type": "stream",
     "text": [
      "DEBUG::tomo2seg::{<ipython-input-26-1625f0973e32>:<module>:008}::[2020-12-11::16:20:35.843]\n",
      "metacrop_gen_common_kwargs={'crop_shape': (176, 288, 1), 'common_random_state_seed': 42, 'is_2halfd': False, 'gt_type': <enum 'GT2D'>}\n",
      "\n",
      "DEBUG::tomo2seg::{<ipython-input-26-1625f0973e32>:<module>:019}::[2020-12-11::16:20:35.845]\n",
      "vol_crop_seq_common_kwargs={'output_as_2d': True, 'output_as_2halfd': False, 'labels': [0, 1, 2, 3, 4]}\n",
      "\n"
     ]
    }
   ],
   "source": [
    "metacrop_gen_common_kwargs = dict(\n",
    "    crop_shape=crop_shape,\n",
    "    common_random_state_seed=args.random_state_seed,\n",
    "    is_2halfd=model_is_2halfd,\n",
    "    gt_type=volume_sequence.GT2D if model_is_2d else volume_sequence.GT3D,\n",
    ")\n",
    "\n",
    "logger.debug(f\"{metacrop_gen_common_kwargs=}\")\n",
    "\n",
    "vol_crop_seq_common_kwargs = dict(\n",
    "    output_as_2d=model_is_2d,\n",
    "    output_as_2halfd=model_is_2halfd,\n",
    "    labels = volume.metadata.labels,\n",
    "\n",
    "    # not automated...\n",
    "#     debug__no_data_check=True,\n",
    ")\n",
    "\n",
    "logger.debug(f\"{vol_crop_seq_common_kwargs=}\")"
   ]
  },
  {
   "cell_type": "markdown",
   "metadata": {},
   "source": [
    "## Train"
   ]
  },
  {
   "cell_type": "code",
   "execution_count": 27,
   "metadata": {},
   "outputs": [
    {
     "name": "stdout",
     "output_type": "stream",
     "text": [
      "INFO::tomo2seg::{volume_sequence.py:build_from_volume_crop_shapes:442}::[2020-12-11::16:20:37.028]\n",
      "Built UniformGridPosition from volume_shape=(260, 301, 200) and crop_shape=(176, 288, 1) ==> {'x_range': (0, 85), 'y_range': (0, 14), 'z_range': (0, 200)}\n",
      "\n",
      "DEBUG::tomo2seg::{volume_sequence.py:__post_init__:404}::[2020-12-11::16:20:37.029]\n",
      "UniformGridPosition ==> npositions=238000 (238,000)\n",
      "\n",
      "WARNING::tomo2seg::{volume_sequence.py:__post_init__:699}::[2020-12-11::16:20:37.031]\n",
      "Initializing ET3DConstantEverywhere with a UniformGridPosition.\n",
      "The {x, y, z}_range values will be overwritten.\n",
      "\n",
      "WARNING::tomo2seg::{volume_sequence.py:__post_init__:699}::[2020-12-11::16:20:37.032]\n",
      "Initializing GTUniformEverywhere with a UniformGridPosition.\n",
      "The {x, y, z}_range values will be overwritten.\n",
      "\n",
      "WARNING::tomo2seg::{volume_sequence.py:__post_init__:699}::[2020-12-11::16:20:37.033]\n",
      "Initializing VSUniformEverywhere with a UniformGridPosition.\n",
      "The {x, y, z}_range values will be overwritten.\n",
      "\n",
      "DEBUG::tomo2seg::{volume_sequence.py:__post_init__:1364}::[2020-12-11::16:20:37.034]\n",
      "Initializing VolumeCropSequence.\n",
      "\n",
      "DEBUG::tomo2seg::{volume_sequence.py:__post_init__:1374}::[2020-12-11::16:20:37.035]\n",
      "Checking values and labels consistency, this might be a bit slow.\n",
      "\n",
      "DEBUG::tomo2seg::{volume_sequence.py:__post_init__:1383}::[2020-12-11::16:20:37.424]\n",
      "Done.\n",
      "\n",
      "WARNING::tomo2seg::{volume_sequence.py:__post_init__:1396}::[2020-12-11::16:20:37.425]\n",
      "No meta crops history file path given. The randomly generated crops will not be saved!\n",
      "\n"
     ]
    }
   ],
   "source": [
    "data = voldata_train\n",
    "labels = vollabels_train\n",
    "\n",
    "volume_shape = data.shape\n",
    "\n",
    ">\n",
    "/\n",
    "/unet2d-crack/unet2d-crack.00.fold000.1607-698-009/\n",
    "Name\n",
    "Last Modified\n",
    "\n",
    "\n",
    "crop_seq_train = VolumeCropSequence(\n",
    "    data_volume=data,\n",
    "    labels_volume=labels,\n",
    "    \n",
    "    batch_size=batch_size,\n",
    "    \n",
    "    meta_crop_generator=MetaCrop3DGenerator.build_setup_train00(\n",
    "        volume_shape=volume_shape,\n",
    "        **metacrop_gen_common_kwargs,\n",
    "        data_original_dtype=volume.metadata.dtype,\n",
    "    ),\n",
    "    \n",
    "    # this volume cropper only returns random crops, \n",
    "    # so the number of crops per epoch/batch is w/e i want\n",
    "    epoch_size=10,\n",
    "    \n",
    "    **vol_crop_seq_common_kwargs,\n",
    ")"
   ]
  },
  {
   "cell_type": "markdown",
   "metadata": {},
   "source": [
    "## Val"
   ]
  },
  {
   "cell_type": "code",
   "execution_count": 28,
   "metadata": {},
   "outputs": [
    {
     "name": "stdout",
     "output_type": "stream",
     "text": [
      "DEBUG::tomo2seg::{<ipython-input-28-b42244853bf8>:<module>:010}::[2020-12-11::16:21:14.441]\n",
      "val_batch_size=54\n",
      "\n",
      "INFO::tomo2seg::{volume_sequence.py:build_min_overlap:510}::[2020-12-11::16:21:14.443]\n",
      "Building SequentialGridPosition with minimal overlap (smallest n_steps in each directions) n_steps={'n_steps_x': 2, 'n_steps_y': 2, 'n_steps_z': 200}.\n",
      "\n",
      "INFO::tomo2seg::{volume_sequence.py:build_from_volume_crop_shapes:442}::[2020-12-11::16:21:14.444]\n",
      "Built SequentialGridPosition from volume_shape=(190, 301, 200) and crop_shape=(176, 288, 1) ==> {'x_range': (0, 15), 'y_range': (0, 14), 'z_range': (0, 200)}\n",
      "\n",
      "INFO::tomo2seg::{volume_sequence.py:__post_init__:490}::[2020-12-11::16:21:14.448]\n",
      "The SequentialGridPosition has len(self.positions)=800 different positions (therefore crops).\n",
      "\n",
      "WARNING::tomo2seg::{volume_sequence.py:__post_init__:699}::[2020-12-11::16:21:14.450]\n",
      "Initializing ET3DConstantEverywhere with a SequentialGridPosition.\n",
      "The {x, y, z}_range values will be overwritten.\n",
      "\n",
      "WARNING::tomo2seg::{volume_sequence.py:__post_init__:699}::[2020-12-11::16:21:14.451]\n",
      "Initializing GTConstantEverywhere with a SequentialGridPosition.\n",
      "The {x, y, z}_range values will be overwritten.\n",
      "\n",
      "WARNING::tomo2seg::{volume_sequence.py:__post_init__:699}::[2020-12-11::16:21:14.452]\n",
      "Initializing VSConstantEverywhere with a SequentialGridPosition.\n",
      "The {x, y, z}_range values will be overwritten.\n",
      "\n",
      "DEBUG::tomo2seg::{volume_sequence.py:__post_init__:1364}::[2020-12-11::16:21:14.454]\n",
      "Initializing VolumeCropSequence.\n",
      "\n",
      "DEBUG::tomo2seg::{volume_sequence.py:__post_init__:1374}::[2020-12-11::16:21:14.455]\n",
      "Checking values and labels consistency, this might be a bit slow.\n",
      "\n",
      "DEBUG::tomo2seg::{volume_sequence.py:__post_init__:1383}::[2020-12-11::16:21:14.746]\n",
      "Done.\n",
      "\n",
      "WARNING::tomo2seg::{volume_sequence.py:__post_init__:1396}::[2020-12-11::16:21:14.747]\n",
      "No meta crops history file path given. The randomly generated crops will not be saved!\n",
      "\n"
     ]
    }
   ],
   "source": [
    "data = voldata_val\n",
    "labels = vollabels_val\n",
    "\n",
    "volume_shape = data.shape\n",
    "\n",
    "# the validation has no reproducibility issues\n",
    "# so let's push the GPUs (:\n",
    "val_batch_size = max_batch_size_per_gpu * n_gpus\n",
    "\n",
    "logger.debug(f\"{val_batch_size=}\")\n",
    "\n",
    "grid_pos_gen = SequentialGridPosition.build_min_overlap(\n",
    "    volume_shape=volume_shape, \n",
    "    crop_shape=crop_shape,\n",
    "    # reduce the total number of crops\n",
    "#         n_steps_x=11,\n",
    "#         n_steps_y=11,\n",
    "#         n_steps_z=8,\n",
    ")\n",
    "\n",
    "crop_seq_val = VolumeCropSequence(\n",
    "    data_volume=data,\n",
    "    labels_volume=labels,\n",
    "    \n",
    "    batch_size=val_batch_size,\n",
    "    \n",
    "    # go through all the crops in validation\n",
    "    epoch_size=len(grid_pos_gen),      \n",
    "    \n",
    "    # data augmentation\n",
    "    meta_crop_generator=MetaCrop3DGenerator.build_setup_val00(\n",
    "        volume_shape=volume_shape,\n",
    "        grid_pos_gen=grid_pos_gen,\n",
    "        **metacrop_gen_common_kwargs,\n",
    "    ),\n",
    "    \n",
    "    **vol_crop_seq_common_kwargs,\n",
    ")"
   ]
  },
  {
   "cell_type": "markdown",
   "metadata": {
    "id": "YRsccmAxOX7v"
   },
   "source": [
    "# Callbacks"
   ]
  },
  {
   "cell_type": "code",
   "execution_count": 29,
   "metadata": {
    "executionInfo": {
     "elapsed": 8834,
     "status": "aborted",
     "timestamp": 1602255923910,
     "user": {
      "displayName": "João Paulo Casagrande Bertoldo",
      "photoUrl": "https://lh3.googleusercontent.com/a-/AOh14GioL6iQ5PNE9hm2XaOtZd36rClxQBdpy33-9-QsTUs=s64",
      "userId": "13620585220725745309"
     },
     "user_tz": -120
    },
    "id": "zRp2b17np-48"
   },
   "outputs": [
    {
     "name": "stdout",
     "output_type": "stream",
     "text": [
      "DEBUG::tomo2seg::{<ipython-input-29-be8d862a0547>:<module>:009}::[2020-12-11::16:21:58.934]\n",
      "autosave_cb=<tensorflow.python.keras.callbacks.ModelCheckpoint object at 0x7f05847ba250>\n",
      "\n"
     ]
    }
   ],
   "source": [
    "autosave_cb = keras_callbacks.ModelCheckpoint(\n",
    "    tomo2seg_model.autosaved2_model_path_str, \n",
    "    monitor=\"val_loss\", \n",
    "    verbose=1, \n",
    "    save_best_only=True, \n",
    "    mode=\"min\",\n",
    ")\n",
    "\n",
    "logger.debug(f\"{autosave_cb=}\")"
   ]
  },
  {
   "cell_type": "code",
   "execution_count": 30,
   "metadata": {
    "executionInfo": {
     "elapsed": 8834,
     "status": "aborted",
     "timestamp": 1602255923910,
     "user": {
      "displayName": "João Paulo Casagrande Bertoldo",
      "photoUrl": "https://lh3.googleusercontent.com/a-/AOh14GioL6iQ5PNE9hm2XaOtZd36rClxQBdpy33-9-QsTUs=s64",
      "userId": "13620585220725745309"
     },
     "user_tz": -120
    },
    "id": "zRp2b17np-48"
   },
   "outputs": [
    {
     "name": "stdout",
     "output_type": "stream",
     "text": [
      "INFO::tomo2seg::{<ipython-input-30-e64fcd7ac3fc>:<module>:007}::[2020-12-11::16:22:00.843]\n",
      "Creating a new history callback.\n",
      "\n",
      "INFO::tomo2seg::{callbacks.py:__init__:051}::[2020-12-11::16:22:00.877]\n",
      "Loading history from csv self.csv_path=PosixPath('/home/users/jcasagrande/projects/tomo2seg/data/models/unet2d-crack/unet2d-crack.00.fold000.1607-698-009/history.csv').\n",
      "\n",
      "DEBUG::tomo2seg::{callbacks.py:__init__:071}::[2020-12-11::16:22:00.880]\n",
      "History hasn't been saved yet.\n",
      "\n",
      "DEBUG::tomo2seg::{<ipython-input-30-e64fcd7ac3fc>:<module>:040}::[2020-12-11::16:22:00.881]\n",
      "history_cb=<tomo2seg.callbacks.History object at 0x7f05b0170a90>\n",
      "\n"
     ]
    }
   ],
   "source": [
    "# this is important because sometimes i update things in the notebook\n",
    "# so i need to make sure that the objects in the history cb are updated\n",
    "try:\n",
    "    history_cb\n",
    "    \n",
    "except NameError:\n",
    "    logger.info(\"Creating a new history callback.\")\n",
    "    \n",
    "    history_cb = tomo2seg_callbacks.History(\n",
    "        optimizer=model.optimizer,\n",
    "        crop_seq_train=crop_seq_train,\n",
    "        crop_seq_val=crop_seq_val,\n",
    "        backup=1,\n",
    "        csv_path=tomo2seg_model.history_path,\n",
    "    )\n",
    "    \n",
    "else:\n",
    "    logger.warning(\"The history callback already exists!\")\n",
    "    \n",
    "    history_df = history_cb.dataframe\n",
    "\n",
    "    try:\n",
    "        history_df_temp = pd.read_csv(tomo2seg_model.history_path)\n",
    "        # keep the longest one\n",
    "        history_df = history_df if history_df.shape[0] >= history_df_temp.shape[0] else history_df_temp\n",
    "        del history_df_temp\n",
    "    \n",
    "    except FileNotFoundError:\n",
    "        logger.info(\"History hasn't been saved yet.\")\n",
    "        \n",
    "    except pd.errors.EmptyDataError:\n",
    "        logger.info(\"History hasn't been saved yet.\")\n",
    "        \n",
    "finally:\n",
    "    # make sure the correct objects are linked \n",
    "    history_cb.optimizer = model.optimizer\n",
    "    history_cb.crop_seq_train = crop_seq_train\n",
    "    history_cb.crop_seq_val = crop_seq_val\n",
    "\n",
    "logger.debug(f\"{history_cb=}\")"
   ]
  },
  {
   "cell_type": "code",
   "execution_count": 31,
   "metadata": {},
   "outputs": [
    {
     "name": "stdout",
     "output_type": "stream",
     "text": [
      "DEBUG::tomo2seg::{<ipython-input-31-81847b52d74e>:<module>:001}::[2020-12-11::16:22:06.924]\n",
      "history_cb.dataframe.index.size=0\n",
      "\n",
      "DEBUG::tomo2seg::{<ipython-input-31-81847b52d74e>:<module>:002}::[2020-12-11::16:22:06.926]\n",
      "history_cb.last_epoch=0\n",
      "\n"
     ]
    }
   ],
   "source": [
    "logger.debug(f\"{history_cb.dataframe.index.size=}\")\n",
    "logger.debug(f\"{history_cb.last_epoch=}\")"
   ]
  },
  {
   "cell_type": "code",
   "execution_count": 32,
   "metadata": {
    "executionInfo": {
     "elapsed": 8834,
     "status": "aborted",
     "timestamp": 1602255923910,
     "user": {
      "displayName": "João Paulo Casagrande Bertoldo",
      "photoUrl": "https://lh3.googleusercontent.com/a-/AOh14GioL6iQ5PNE9hm2XaOtZd36rClxQBdpy33-9-QsTUs=s64",
      "userId": "13620585220725745309"
     },
     "user_tz": -120
    },
    "id": "zRp2b17np-48"
   },
   "outputs": [
    {
     "name": "stdout",
     "output_type": "stream",
     "text": [
      "DEBUG::tomo2seg::{<ipython-input-32-6edf00a82883>:<module>:005}::[2020-12-11::16:22:18.154]\n",
      "history_plot_cb=HistoryPlot(history_callback=<tomo2seg.callbacks.History object at 0x7f05b0170a90>, save_path=PosixPath('/home/users/jcasagrande/projects/tomo2seg/data/models/unet2d-crack/unet2d-crack.00.fold000.1607-698-009/train-hist-plot-wip.png'))\n",
      "\n"
     ]
    }
   ],
   "source": [
    "history_plot_cb = tomo2seg_callbacks.HistoryPlot(\n",
    "    history_callback=history_cb,\n",
    "    save_path=tomo2seg_model.train_history_plot_wip_path\n",
    ")\n",
    "logger.debug(f\"{history_plot_cb=}\")"
   ]
  },
  {
   "cell_type": "code",
   "execution_count": 33,
   "metadata": {
    "executionInfo": {
     "elapsed": 8834,
     "status": "aborted",
     "timestamp": 1602255923910,
     "user": {
      "displayName": "João Paulo Casagrande Bertoldo",
      "photoUrl": "https://lh3.googleusercontent.com/a-/AOh14GioL6iQ5PNE9hm2XaOtZd36rClxQBdpy33-9-QsTUs=s64",
      "userId": "13620585220725745309"
     },
     "user_tz": -120
    },
    "id": "zRp2b17np-48"
   },
   "outputs": [
    {
     "name": "stdout",
     "output_type": "stream",
     "text": [
      "INFO::tomo2seg::{<ipython-input-33-1b2efaf987e7>:<module>:001}::[2020-12-11::16:22:28.714]\n",
      "Setting up early stop with args.early_stop_mode=<EarlyStopMode.no_early_stop: 0>\n",
      "\n"
     ]
    }
   ],
   "source": [
    "logger.info(f\"Setting up early stop with {args.early_stop_mode=}\")\n",
    "\n",
    "if args.early_stop_mode == Args.EarlyStopMode.no_early_stop:\n",
    "    pass\n",
    "\n",
    "else:\n",
    "    raise NotImplementedError(f\"{args.early_stop_mode=}\")\n",
    "#     # todo modify the early stopping to take more conditions (don't stop too early before it doesnt break the jaccard2=.32)\n",
    "#     early_stop_cb = keras_callbacks.EarlyStopping(  \n",
    "#         monitor='val_loss', \n",
    "#         min_delta=.1 / 100, \n",
    "#         patience=50,\n",
    "#         verbose=2, \n",
    "#         mode='auto',\n",
    "#         baseline=.71,  # 0th-order classifier\n",
    "#         restore_best_weights=False,\n",
    "#     )"
   ]
  },
  {
   "cell_type": "markdown",
   "metadata": {
    "id": "7kYnLzlFdDeY"
   },
   "source": [
    "# Summary before training\n",
    "\n",
    "stuff that i use after the training but i want it to appear in the \n"
   ]
  },
  {
   "cell_type": "markdown",
   "metadata": {},
   "source": [
    "mode## Metadata\n",
    "\n",
    "todo put this back to work\n",
    "\n",
    "## Volume slices\n",
    "\n",
    "todo do this in a notebook\n",
    "\n",
    "## Generator samples\n",
    "\n",
    "todo do this in a notebook\n"
   ]
  },
  {
   "cell_type": "markdown",
   "metadata": {
    "id": "WuEmT2AZODXi"
   },
   "source": [
    "# Training\n"
   ]
  },
  {
   "cell_type": "markdown",
   "metadata": {},
   "source": [
    "## Teeth log lr schedule"
   ]
  },
  {
   "cell_type": "code",
   "execution_count": 41,
   "metadata": {},
   "outputs": [
    {
     "name": "stdout",
     "output_type": "stream",
     "text": [
      "INFO::tomo2seg::{schedule.py:__post_init__:071}::[2020-12-11::16:25:59.911]\n",
      "LogSpaceSchedule ==> self.n=103\n",
      "\n",
      "INFO::tomo2seg::{<ipython-input-41-b9dd8e0ae7a7>:<module>:008}::[2020-12-11::16:25:59.912]\n",
      "lr_schedule_cb.schedule.range=(0, 103)\n",
      "\n"
     ]
    }
   ],
   "source": [
    "lr_schedule_cb = keras_callbacks.LearningRateScheduler(\n",
    "    schedule=(\n",
    "        schedule := tomo2seg_schedule.LogSpaceSchedule(offset_epoch=0, wait=0, start=-3, stop=-5, n_between_scales=50)\n",
    "    ),\n",
    "    verbose=2,\n",
    ")\n",
    "\n",
    "logger.info(f\"{lr_schedule_cb.schedule.range=}\")"
   ]
  },
  {
   "cell_type": "code",
   "execution_count": 42,
   "metadata": {},
   "outputs": [
    {
     "name": "stdout",
     "output_type": "stream",
     "text": [
      "DEBUG::tomo2seg::{<ipython-input-42-c16af9d5fdc3>:<module>:019}::[2020-12-11::16:26:04.384]\n",
      "using callback TerminateOnNaN\n",
      "\n",
      "DEBUG::tomo2seg::{<ipython-input-42-c16af9d5fdc3>:<module>:019}::[2020-12-11::16:26:04.385]\n",
      "using callback ModelCheckpoint\n",
      "\n",
      "DEBUG::tomo2seg::{<ipython-input-42-c16af9d5fdc3>:<module>:019}::[2020-12-11::16:26:04.387]\n",
      "using callback History\n",
      "\n",
      "DEBUG::tomo2seg::{<ipython-input-42-c16af9d5fdc3>:<module>:019}::[2020-12-11::16:26:04.388]\n",
      "using callback HistoryPlot\n",
      "\n",
      "DEBUG::tomo2seg::{<ipython-input-42-c16af9d5fdc3>:<module>:019}::[2020-12-11::16:26:04.389]\n",
      "using callback LearningRateScheduler\n",
      "\n"
     ]
    }
   ],
   "source": [
    "callbacks = [\n",
    "    keras_callbacks.TerminateOnNaN(),\n",
    "    autosave_cb,\n",
    "    history_cb,\n",
    "    history_plot_cb,\n",
    "    lr_schedule_cb,\n",
    "]\n",
    "\n",
    "try:\n",
    "    early_stop_cb\n",
    "\n",
    "except NameError:\n",
    "    pass\n",
    "\n",
    "else:\n",
    "    callbacks.append(early_stop_cb)\n",
    "\n",
    "for cb in callbacks:\n",
    "    logger.debug(f\"using callback {cb.__class__.__name__}\")"
   ]
  },
  {
   "cell_type": "code",
   "execution_count": null,
   "metadata": {},
   "outputs": [
    {
     "name": "stdout",
     "output_type": "stream",
     "text": [
      "\n",
      "Epoch 00001: LearningRateScheduler reducing learning rate to 0.001.\n",
      "Epoch 1/103\n",
      "INFO:tensorflow:batch_all_reduce: 142 all-reduces with algorithm = nccl, num_packs = 1\n",
      "\n",
      "Epoch 00001: val_loss improved from inf to 0.65024, saving model to /home/users/jcasagrande/projects/tomo2seg/data/models/unet2d-crack/unet2d-crack.00.fold000.1607-698-009/unet2d-crack.00.fold000.1607-698-009.autosaved.001-0.650245.hdf5\n",
      "INFO::tomo2seg::{callbacks.py:on_epoch_end:110}::[2020-12-11::16:34:45.309]\n",
      "Saving backup of the training history epoch=0 self.csv_path=PosixPath('/home/users/jcasagrande/projects/tomo2seg/data/models/unet2d-crack/unet2d-crack.00.fold000.1607-698-009/history.csv')\n",
      "\n",
      "DEBUG::tomo2seg::{callbacks.py:on_epoch_end:128}::[2020-12-11::16:34:45.348]\n",
      "epoch=0 is too early to plot something.\n",
      "\n",
      "ERROR::tomo2seg::{callbacks.py:on_epoch_end:169}::[2020-12-11::16:34:45.444]\n",
      "AssertionError occurred while trying to plot the history.\n",
      "Traceback (most recent call last):\n",
      "  File \"/home/users/jcasagrande/projects/tomo2seg/tomo2seg/callbacks.py\", line 140, in on_epoch_end\n",
      "    hist_display = viz.TrainingHistoryDisplay(\n",
      "  File \"<string>\", line 9, in __init__\n",
      "  File \"/home/users/jcasagrande/projects/tomo2seg/tomo2seg/viz.py\", line 254, in __post_init__\n",
      "    assert len(x_axis) > 1, \"You don't have enough epochs to plot. Go to the gym and call me later.\"\n",
      "AssertionError: You don't have enough epochs to plot. Go to the gym and call me later.\n",
      "10/10 - 238s - loss: 0.2788 - val_loss: 0.6502 - lr: 0.0010\n",
      "\n",
      "Epoch 00002: LearningRateScheduler reducing learning rate to 0.0009558553094685293.\n",
      "Epoch 2/103\n"
     ]
    }
   ],
   "source": [
    "n_epochs = 103\n",
    "\n",
    "model.fit(\n",
    "    \n",
    "    # data sequences\n",
    "    x=crop_seq_train,\n",
    "    validation_data=crop_seq_val,\n",
    "\n",
    "    # epochs\n",
    "    initial_epoch=0,\n",
    "    epochs=n_epochs,\n",
    "#     initial_epoch=history_cb.last_epoch + 1,  # for some reason it is 0-starting and others 1-starting...\n",
    "#         epochs=history_cb.last_epoch + 1 + n_epochs,  \n",
    "\n",
    "    # others\n",
    "    callbacks=callbacks,  \n",
    "    verbose=2,\n",
    "\n",
    "    # todo change the volume sequence to dinamically load the volume\n",
    "    # because it would allow me to pass just a path string therefore\n",
    "    # making it serializible ==> i will be able to multithread (:\n",
    "    use_multiprocessing=False,   \n",
    ");\n",
    "\n",
    "slack.notify_finished()"
   ]
  },
  {
   "cell_type": "markdown",
   "metadata": {},
   "source": [
    "# History"
   ]
  },
  {
   "cell_type": "code",
   "execution_count": null,
   "metadata": {},
   "outputs": [],
   "source": [
    "fig, axs = plt.subplots(nrows := 2, ncols := 1, figsize=(2.5 * (sz := 5), nrows * sz), dpi=100)\n",
    "fig.set_tight_layout(True)\n",
    "\n",
    "hist_display = viz.TrainingHistoryDisplay(\n",
    "    history_cb.history, \n",
    "    model_name=tomo2seg_model.name,\n",
    "    loss_name=model.loss.__name__,\n",
    "    x_axis_mode=(\n",
    "        \"epoch\", \"batch\", \"crop\", \"voxel\", \"time\",\n",
    "    ),\n",
    ").plot(\n",
    "    axs, \n",
    "    with_lr=True,\n",
    "    metrics=(\n",
    "        \"loss\", \n",
    "    ),\n",
    ")\n",
    "\n",
    "axs[0].set_yscale(\"log\")\n",
    "axs[-1].set_yscale(\"log\")\n",
    "\n",
    "viz.mark_min_values(hist_display.axs_metrics_[0], hist_display.plots_[\"loss\"][0])\n",
    "viz.mark_min_values(hist_display.axs_metrics_[0], hist_display.plots_[\"val_loss\"][0], txt_kwargs=dict(rotation=0))\n",
    "\n",
    "hist_display.fig_.savefig(\n",
    "    tomo2seg_model.model_path / (hist_display.title + \".png\"),\n",
    "    format='png',\n",
    ")\n",
    "# plt.close()"
   ]
  },
  {
   "cell_type": "code",
   "execution_count": null,
   "metadata": {
    "executionInfo": {
     "elapsed": 8793,
     "status": "aborted",
     "timestamp": 1602255923919,
     "user": {
      "displayName": "João Paulo Casagrande Bertoldo",
      "photoUrl": "https://lh3.googleusercontent.com/a-/AOh14GioL6iQ5PNE9hm2XaOtZd36rClxQBdpy33-9-QsTUs=s64",
      "userId": "13620585220725745309"
     },
     "user_tz": -120
    },
    "id": "d-EnhRhrrEGQ"
   },
   "outputs": [],
   "source": [
    "history_cb.dataframe.to_csv(history_cb.csv_path, index=True)"
   ]
  },
  {
   "cell_type": "code",
   "execution_count": null,
   "metadata": {
    "executionInfo": {
     "elapsed": 8791,
     "status": "aborted",
     "timestamp": 1602255923920,
     "user": {
      "displayName": "João Paulo Casagrande Bertoldo",
      "photoUrl": "https://lh3.googleusercontent.com/a-/AOh14GioL6iQ5PNE9hm2XaOtZd36rClxQBdpy33-9-QsTUs=s64",
      "userId": "13620585220725745309"
     },
     "user_tz": -120
    },
    "id": "LQz6HBJss1o4"
   },
   "outputs": [],
   "source": [
    "model.save(tomo2seg_model.model_path)"
   ]
  },
  {
   "cell_type": "code",
   "execution_count": null,
   "metadata": {},
   "outputs": [],
   "source": [
    "this_nb_name = \"train-04-tomo88.ipynb\"\n",
    "import os\n",
    "this_dir = os.getcwd()\n",
    "logger.warning(f\"{this_nb_name=} {this_dir=}\")\n",
    "\n",
    "os.system(f\"jupyter nbconvert {this_dir}/{this_nb_name} --output-dir {str(tomo2seg_model.model_path)} --to html\")"
   ]
  },
  {
   "cell_type": "code",
   "execution_count": null,
   "metadata": {},
   "outputs": [],
   "source": []
  },
  {
   "cell_type": "code",
   "execution_count": null,
   "metadata": {},
   "outputs": [],
   "source": []
  },
  {
   "cell_type": "code",
   "execution_count": null,
   "metadata": {},
   "outputs": [],
   "source": []
  }
 ],
 "metadata": {
  "accelerator": "GPU",
  "colab": {
   "authorship_tag": "ABX9TyP2FW3h3DkQ4XcY6OgH7u/r",
   "collapsed_sections": [
    "EnVqPFS9BNCg",
    "j8e5FhmUaKND",
    "nJtppItnKn5G"
   ],
   "mount_file_id": "1LuEITv9j0lLf8Z418J3a94SjEZ8GvKvI",
   "name": "dryrun-02.ipynb",
   "provenance": [
    {
     "file_id": "1NiX28EcC_FVOYCJL4usp7n5iQ2x3aXIm",
     "timestamp": 1602152789440
    }
   ],
   "toc_visible": true
  },
  "kernelspec": {
   "display_name": "Python 3",
   "language": "python",
   "name": "python3"
  },
  "language_info": {
   "codemirror_mode": {
    "name": "ipython",
    "version": 3
   },
   "file_extension": ".py",
   "mimetype": "text/x-python",
   "name": "python",
   "nbconvert_exporter": "python",
   "pygments_lexer": "ipython3",
   "version": "3.8.2"
  }
 },
 "nbformat": 4,
 "nbformat_minor": 4
}
