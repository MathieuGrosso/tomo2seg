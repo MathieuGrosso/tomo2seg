{
 "cells": [
  {
   "cell_type": "markdown",
   "metadata": {},
   "source": [
    "# Setup"
   ]
  },
  {
   "cell_type": "code",
   "execution_count": 1,
   "metadata": {},
   "outputs": [],
   "source": [
    "%load_ext autoreload"
   ]
  },
  {
   "cell_type": "code",
   "execution_count": 2,
   "metadata": {},
   "outputs": [],
   "source": [
    "%autoreload 2\n",
    "\n",
    "import copy\n",
    "import functools\n",
    "import itertools\n",
    "import logging\n",
    "import re\n",
    "import time\n",
    "import yaml\n",
    "from collections import Counter\n",
    "import pathlib\n",
    "from pathlib import Path\n",
    "from pprint import pprint\n",
    "import sys\n",
    "from yaml import YAMLObject\n",
    "\n",
    "import humanize\n",
    "from matplotlib import pyplot as plt, cm\n",
    "import numpy as np\n",
    "from numpy import ndarray\n",
    "import pandas as pd\n",
    "from pymicro.file import file_utils\n",
    "import tensorflow as tf\n",
    "from numpy.random import RandomState\n",
    "from progressbar import progressbar as pbar\n",
    "from enum import Enum\n",
    "import re\n",
    "from enum import Enum\n",
    "from matplotlib import patches\n",
    "from pymicro.file import file_utils\n",
    "import tensorflow as tf\n",
    "from tqdm import tqdm\n",
    "import numpy as np\n",
    "import scipy as sp\n",
    "from numpy import ndarray\n",
    "from matplotlib import pyplot as plt, patches, cm\n",
    "from sklearn import metrics as met\n",
    "from progressbar import progressbar as pbar\n",
    "from tensorflow.keras import layers\n",
    "from sklearn import metrics, preprocessing\n",
    "from sklearn import model_selection\n",
    "\n",
    "from tomo2seg import modular_unet\n",
    "from tomo2seg.logger import logger\n",
    "from tomo2seg import data, viz\n",
    "from tomo2seg.data import Volume\n",
    "from tomo2seg.metadata import Metadata\n",
    "from tomo2seg.volume_sequence import (\n",
    "    VolumeCropSequence, MetaCrop3DGenerator, VSConstantEverywhere, \n",
    "    GTConstantEverywhere, SequentialGridPosition, ET3DConstantEverywhere\n",
    ")\n",
    "from tomo2seg import volume_sequence\n",
    "from tomo2seg.model import Model as Tomo2SegModel\n",
    "from tomo2seg.data import EstimationVolume\n",
    "from tomo2seg import AggregationStrategy"
   ]
  },
  {
   "cell_type": "markdown",
   "metadata": {},
   "source": [
    "# Setup"
   ]
  },
  {
   "cell_type": "code",
   "execution_count": 3,
   "metadata": {},
   "outputs": [],
   "source": [
    "logger.setLevel(logging.DEBUG)"
   ]
  },
  {
   "cell_type": "code",
   "execution_count": 4,
   "metadata": {},
   "outputs": [],
   "source": [
    "random_state = 42\n",
    "random_state = np.random.RandomState(random_state)\n",
    "runid = int(time.time())"
   ]
  },
  {
   "cell_type": "code",
   "execution_count": 5,
   "metadata": {},
   "outputs": [
    {
     "name": "stdout",
     "output_type": "stream",
     "text": [
      "DEBUG::tomo2seg::{<ipython-input-5-9df7dd5953d5>:<module>:001}::[2020-11-22::23:59:21.628]\n",
      "tf.__version__='2.2.0'\n",
      "\n",
      "INFO::tomo2seg::{<ipython-input-5-9df7dd5953d5>:<module>:002}::[2020-11-22::23:59:21.632]\n",
      "Num GPUs Available: 0\n",
      "This should be 2 on R790-TOMO.\n",
      "\n",
      "DEBUG::tomo2seg::{<ipython-input-5-9df7dd5953d5>:<module>:003}::[2020-11-22::23:59:21.695]\n",
      "Both here should return 2 devices...\n",
      "tf.config.list_physical_devices('GPU')=[]\n",
      "tf.config.list_logical_devices('GPU')=[]\n",
      "\n",
      "WARNING:tensorflow:There are non-GPU devices in `tf.distribute.Strategy`, not using nccl allreduce.\n",
      "INFO:tensorflow:Using MirroredStrategy with devices ('/job:localhost/replica:0/task:0/device:CPU:0',)\n",
      "DEBUG::tomo2seg::{<ipython-input-5-9df7dd5953d5>:<module>:011}::[2020-11-22::23:59:21.699]\n",
      "strategy=<tensorflow.python.distribute.mirrored_strategy.MirroredStrategy object at 0x7f25fc3799a0>\n",
      "\n"
     ]
    }
   ],
   "source": [
    "logger.debug(f\"{tf.__version__=}\")\n",
    "logger.info(f\"Num GPUs Available: {len(tf.config.list_physical_devices('GPU'))}\\nThis should be 2 on R790-TOMO.\")\n",
    "logger.debug(f\"Both here should return 2 devices...\\n{tf.config.list_physical_devices('GPU')=}\\n{tf.config.list_logical_devices('GPU')=}\")\n",
    "\n",
    "# xla auto-clustering optimization (see: https://www.tensorflow.org/xla#auto-clustering)\n",
    "# this seems to break the training\n",
    "tf.config.optimizer.set_jit(False)\n",
    "\n",
    "# get a distribution strategy to use both gpus (see https://www.tensorflow.org/guide/distributed_training)\n",
    "strategy = tf.distribute.MirroredStrategy()  \n",
    "logger.debug(f\"{strategy=}\")"
   ]
  },
  {
   "cell_type": "markdown",
   "metadata": {},
   "source": [
    "# Options"
   ]
  },
  {
   "cell_type": "code",
   "execution_count": 6,
   "metadata": {},
   "outputs": [],
   "source": [
    "analyze_crops = False"
   ]
  },
  {
   "cell_type": "markdown",
   "metadata": {},
   "source": [
    "# Metadata/paths objects"
   ]
  },
  {
   "cell_type": "markdown",
   "metadata": {},
   "source": [
    "## Model"
   ]
  },
  {
   "cell_type": "code",
   "execution_count": 7,
   "metadata": {},
   "outputs": [
    {
     "name": "stdout",
     "output_type": "stream",
     "text": [
      "unet-2d-small.vanilla00.000.1605-971-456.autosaved.hdf5\n",
      "\u001b[01;34munet-2d-small.vanilla00.000.1605-972-712\u001b[0m/\n",
      "unet-2d-small.vanilla00.000.1605-972-712.autosaved.hdf5\n",
      "\u001b[01;34munet-2d-small.vanilla00.000.1605-982-196\u001b[0m/\n",
      "unet-2d-small.vanilla00.000.1605-982-196.autosaved.hdf5\n"
     ]
    }
   ],
   "source": [
    "ls ../data/models | grep unet-2d-small"
   ]
  },
  {
   "cell_type": "code",
   "execution_count": 8,
   "metadata": {},
   "outputs": [
    {
     "name": "stdout",
     "output_type": "stream",
     "text": [
      "INFO::tomo2seg::{<ipython-input-8-cfe47d5c3241>:<module>:004}::[2020-11-22::23:59:21.979]\n",
      "tomo2seg_model=Model(master_name='unet-2d-small', version='vanilla00', fold=0, runid=1605982196, factory_function=None, factory_kwargs=None)\n",
      "\n"
     ]
    }
   ],
   "source": [
    "tomo2seg_model = Tomo2SegModel.build_from_model_name(\n",
    "    \"unet-2d-small.vanilla00.000.1605-982-196\"\n",
    ")\n",
    "logger.info(f\"{tomo2seg_model=}\")"
   ]
  },
  {
   "cell_type": "markdown",
   "metadata": {},
   "source": [
    "## Data"
   ]
  },
  {
   "cell_type": "code",
   "execution_count": 9,
   "metadata": {},
   "outputs": [
    {
     "name": "stdout",
     "output_type": "stream",
     "text": [
      "INFO::tomo2seg::{<ipython-input-9-cdb1781c8ebd>:<module>:010}::[2020-11-22::23:59:22.027]\n",
      "volume_name='PA66GF30' volume_version='v1-reduced' labels_version='refined3'\n",
      "\n"
     ]
    }
   ],
   "source": [
    "from tomo2seg.datasets import (\n",
    "#     VOLUME_COMPOSITE_V1 as VOLUME_NAME_VERSION,\n",
    "    VOLUME_COMPOSITE_V1_REDUCED as VOLUME_NAME_VERSION,\n",
    "    VOLUME_COMPOSITE_V1_LABELS_REFINED3 as LABELS_VERSION\n",
    ")\n",
    "\n",
    "volume_name, volume_version = VOLUME_NAME_VERSION\n",
    "labels_version = LABELS_VERSION\n",
    "\n",
    "logger.info(f\"{volume_name=} {volume_version=} {labels_version=}\")"
   ]
  },
  {
   "cell_type": "code",
   "execution_count": 10,
   "metadata": {},
   "outputs": [
    {
     "name": "stdout",
     "output_type": "stream",
     "text": [
      "DEBUG::tomo2seg::{data.py:with_check:237}::[2020-11-22::23:59:22.093]\n",
      "vol=Volume(name='PA66GF30', version='v1-reduced', _metadata=None)\n",
      "\n",
      "ERROR::tomo2seg::{data.py:with_check:255}::[2020-11-22::23:59:22.094]\n",
      "Missing file: /home/joaopcbertoldo/projects/tomo2seg/data/PA66GF30.v1-reduced/PA66GF30.v1-reduced.labels.raw\n",
      "\n",
      "WARNING::tomo2seg::{data.py:with_check:259}::[2020-11-22::23:59:22.099]\n",
      "Missing file: /home/joaopcbertoldo/projects/tomo2seg/data/PA66GF30.v1-reduced/PA66GF30.v1-reduced.weights.raw\n",
      "\n",
      "DEBUG::tomo2seg::{data.py:metadata:194}::[2020-11-22::23:59:22.100]\n",
      "Loading metadata from `/home/joaopcbertoldo/projects/tomo2seg/data/PA66GF30.v1-reduced/PA66GF30.v1-reduced.metadata.yml`.\n",
      "\n",
      "INFO::tomo2seg::{<ipython-input-10-9697bd3fb44b>:<module>:004}::[2020-11-22::23:59:22.111]\n",
      "volume=Volume(name='PA66GF30', version='v1-reduced', _metadata=Volume.Metadata(dimensions=[256, 256, 256], dtype='uint8', labels=[0, 1, 2], labels_names={0: 'matrix', 1: 'fiber', 2: 'porosity'}, set_partitions={'train': {'x_range': [0, 256], 'y_range': [0, 256], 'z_range': [0, 128], 'alias': 'train'}, 'val': {'x_range': [0, 256], 'y_range': [0, 256], 'z_range': [128, 192], 'alias': 'val'}, 'test': {'x_range': [0, 256], 'y_range': [0, 256], 'z_range': [192, 256], 'alias': 'test'}}))\n",
      "\n"
     ]
    }
   ],
   "source": [
    "volume = Volume.with_check(\n",
    "    name=volume_name, version=volume_version\n",
    ")\n",
    "logger.info(f\"{volume=}\")\n",
    "\n",
    "def _read_raw(path_: Path, volume_: Volume, dims=None): \n",
    "    # from pymicro\n",
    "    return file_utils.HST_read(\n",
    "        str(path_),  # it doesn't accept paths...\n",
    "        # pre-loaded kwargs\n",
    "        autoparse_filename=False,  # the file names are not properly formatted\n",
    "        data_type=volume.metadata.dtype,\n",
    "        dims=dims or volume.metadata.dimensions,\n",
    "        verbose=True,\n",
    "    )\n",
    "\n",
    "read_raw = functools.partial(_read_raw, volume_=volume)"
   ]
  },
  {
   "cell_type": "markdown",
   "metadata": {},
   "source": [
    "## Estimation volume"
   ]
  },
  {
   "cell_type": "code",
   "execution_count": 11,
   "metadata": {},
   "outputs": [
    {
     "name": "stdout",
     "output_type": "stream",
     "text": [
      "DEBUG::tomo2seg::{<ipython-input-11-3c21340cedd6>:<module>:010}::[2020-11-22::23:59:22.167]\n",
      "partition=SetPartition(x_range=(0, 256), y_range=(0, 256), z_range=(192, 256), alias='test') runid=1606072056 volume_and_partition_name='PA66GF30.v1-reduced.partition=test'\n",
      "\n"
     ]
    }
   ],
   "source": [
    "# data_volume = voldata_train\n",
    "# partition = volume.val_partition\n",
    "partition = volume.test_partition\n",
    "runid = 1606072056\n",
    "\n",
    "volume_and_partition_name = f\"{volume.fullname}.partition={partition.alias}\"\n",
    "\n",
    "read_raw_partition = functools.partial(_read_raw, volume_=volume, dims=partition.shape)\n",
    "\n",
    "logger.debug(f\"{partition=} {runid=} {volume_and_partition_name=}\")"
   ]
  },
  {
   "cell_type": "code",
   "execution_count": 12,
   "metadata": {},
   "outputs": [
    {
     "name": "stdout",
     "output_type": "stream",
     "text": [
      "INFO::tomo2seg::{<ipython-input-12-bafe1e91b086>:<module>:007}::[2020-11-22::23:59:22.210]\n",
      "estimation_volume=EstimationVolume(volume_fullname='PA66GF30.v1-reduced', model_name='unet-2d-small.vanilla00.000.1605-982-196', runid=1606072056, partition=SetPartition(x_range=(0, 256), y_range=(0, 256), z_range=(192, 256), alias='test'))\n",
      "\n"
     ]
    }
   ],
   "source": [
    "estimation_volume = EstimationVolume.from_objects(\n",
    "    volume=volume, \n",
    "    model=tomo2seg_model, \n",
    "    set_partition=partition,\n",
    "    runid=runid,\n",
    ")\n",
    "logger.info(f\"{estimation_volume=}\")\n",
    "\n",
    "figs_dir = estimation_volume.dir"
   ]
  },
  {
   "cell_type": "markdown",
   "metadata": {},
   "source": [
    "# Load from the disk"
   ]
  },
  {
   "cell_type": "code",
   "execution_count": 13,
   "metadata": {},
   "outputs": [
    {
     "name": "stdout",
     "output_type": "stream",
     "text": [
      "DEBUG::tomo2seg::{<ipython-input-13-ded26959866d>:<module>:001}::[2020-11-22::23:59:22.278]\n",
      "Loading data from disk.\n",
      "\n"
     ]
    }
   ],
   "source": [
    "logger.debug(\"Loading data from disk.\")"
   ]
  },
  {
   "cell_type": "markdown",
   "metadata": {},
   "source": [
    "## Data"
   ]
  },
  {
   "cell_type": "code",
   "execution_count": 14,
   "metadata": {},
   "outputs": [
    {
     "name": "stdout",
     "output_type": "stream",
     "text": [
      "data type is uint8\n",
      "volume size is 256 x 256 x 256\n",
      "reading volume... from byte 0\n",
      "DEBUG::tomo2seg::{<ipython-input-14-7e7a825f2d03>:<module>:002}::[2020-11-22::23:59:22.345]\n",
      "data_volume.shape=(256, 256, 256)\n",
      "\n",
      "DEBUG::tomo2seg::{<ipython-input-14-7e7a825f2d03>:<module>:005}::[2020-11-22::23:59:22.346]\n",
      "(only partition.alias='test') data_volume.shape=(256, 256, 64)\n",
      "\n"
     ]
    }
   ],
   "source": [
    "data_volume = read_raw(volume.data_path)\n",
    "logger.debug(f\"{data_volume.shape=}\")\n",
    "\n",
    "data_volume = partition.get_volume_partition(data_volume)\n",
    "logger.debug(f\"(only {partition.alias=}) {data_volume.shape=}\")"
   ]
  },
  {
   "cell_type": "markdown",
   "metadata": {},
   "source": [
    "## Labels"
   ]
  },
  {
   "cell_type": "code",
   "execution_count": 15,
   "metadata": {},
   "outputs": [
    {
     "name": "stdout",
     "output_type": "stream",
     "text": [
      "data type is uint8\n",
      "volume size is 256 x 256 x 256\n",
      "reading volume... from byte 0\n",
      "DEBUG::tomo2seg::{<ipython-input-15-5b1b50957cf2>:<module>:002}::[2020-11-22::23:59:22.473]\n",
      "labels_volume.shape=(256, 256, 256)\n",
      "\n",
      "DEBUG::tomo2seg::{<ipython-input-15-5b1b50957cf2>:<module>:005}::[2020-11-22::23:59:22.474]\n",
      "(only partition.alias='test') labels_volume.shape=(256, 256, 64)\n",
      "\n"
     ]
    }
   ],
   "source": [
    "labels_volume = read_raw(volume.versioned_labels_path(labels_version))\n",
    "logger.debug(f\"{labels_volume.shape=}\")\n",
    "\n",
    "labels_volume = partition.get_volume_partition(labels_volume)\n",
    "logger.debug(f\"(only {partition.alias=}) {labels_volume.shape=}\")"
   ]
  },
  {
   "cell_type": "markdown",
   "metadata": {},
   "source": [
    "## Probabilities"
   ]
  },
  {
   "cell_type": "code",
   "execution_count": 16,
   "metadata": {},
   "outputs": [
    {
     "name": "stdout",
     "output_type": "stream",
     "text": [
      "DEBUG::tomo2seg::{<ipython-input-16-5abccb8499c7>:<module>:006}::[2020-11-22::23:59:22.601]\n",
      "probas_volume.shape=(256, 256, 64, 3)\n",
      "\n"
     ]
    }
   ],
   "source": [
    "probabilities_are_available = False\n",
    "\n",
    "if estimation_volume.probabilities_path.exists():\n",
    "    # float16 instead of 64 to save memory\n",
    "    probas_volume = np.load(estimation_volume.probabilities_path).astype(np.float16)\n",
    "    logger.debug(f\"{probas_volume.shape=}\")\n",
    "    probabilities_are_available = True\n",
    "    \n",
    "else:\n",
    "    logger.info(\"Probabilities are not available.\")"
   ]
  },
  {
   "cell_type": "markdown",
   "metadata": {},
   "source": [
    "## Predictions"
   ]
  },
  {
   "cell_type": "code",
   "execution_count": 17,
   "metadata": {},
   "outputs": [
    {
     "name": "stdout",
     "output_type": "stream",
     "text": [
      "data type is uint8\n",
      "volume size is 256 x 256 x 64\n",
      "reading volume... from byte 0\n",
      "DEBUG::tomo2seg::{<ipython-input-17-fb06bad75c33>:<module>:002}::[2020-11-22::23:59:22.663]\n",
      "predictions_volume.shape=(256, 256, 64)\n",
      "\n"
     ]
    }
   ],
   "source": [
    "predictions_volume = read_raw_partition(estimation_volume.predictions_path)\n",
    "logger.debug(f\"{predictions_volume.shape=}\")"
   ]
  },
  {
   "cell_type": "markdown",
   "metadata": {},
   "source": [
    "# Class imbalance"
   ]
  },
  {
   "cell_type": "code",
   "execution_count": 18,
   "metadata": {},
   "outputs": [
    {
     "name": "stdout",
     "output_type": "stream",
     "text": [
      "DEBUG::tomo2seg::{<ipython-input-18-470efc35a83d>:<module>:005}::[2020-11-22::23:59:22.727]\n",
      "labels_idx=[0, 1, 2]\n",
      "labels_names=['matrix', 'fiber', 'porosity']\n",
      "n_classes=3\n",
      "\n"
     ]
    }
   ],
   "source": [
    "labels_idx = volume.metadata.labels\n",
    "labels_names = [volume.metadata.labels_names[idx] for idx in labels_idx]\n",
    "n_classes = len(labels_idx)\n",
    "\n",
    "logger.debug(f\"{labels_idx=}\\n{labels_names=}\\n{n_classes=}\")"
   ]
  },
  {
   "cell_type": "code",
   "execution_count": 19,
   "metadata": {},
   "outputs": [
    {
     "name": "stdout",
     "output_type": "stream",
     "text": [
      "INFO::tomo2seg::{<ipython-input-19-7e3186c17741>:<module>:001}::[2020-11-22::23:59:22.792]\n",
      "Computing label class imbalance.\n",
      "\n"
     ]
    }
   ],
   "source": [
    "logger.info(\"Computing label class imbalance.\")\n",
    "_, labels_counts = np.unique(labels_volume, return_counts=True)"
   ]
  },
  {
   "cell_type": "code",
   "execution_count": 21,
   "metadata": {},
   "outputs": [
    {
     "name": "stdout",
     "output_type": "stream",
     "text": [
      "INFO::tomo2seg::{viz.py:plot:527}::[2020-11-22::23:59:32.712]\n",
      "The minimum accuracy is: random_model_accu=79.77%\n",
      "\n",
      "INFO::tomo2seg::{<ipython-input-21-085ae63c31fe>:<module>:010}::[2020-11-22::23:59:32.713]\n",
      "Saving figure (figname := display.title + '.png')='PA66GF30.v1-reduced.partition=test.class-imbalance.png'\n",
      "\n"
     ]
    },
    {
     "data": {
      "image/png": "[encoded data removed]",
      "text/plain": [
       "<Figure size 840x840 with 1 Axes>"
      ]
     },
     "metadata": {
      "needs_background": "light"
     },
     "output_type": "display_data"
    }
   ],
   "source": [
    "fig, ax = plt.subplots(1, 1, figsize=(sz := 7, sz), dpi=(dpi := 120))\n",
    "\n",
    "display = viz.ClassImbalanceDisplay(\n",
    "    volume_name=volume_and_partition_name,\n",
    "    labels_idx=labels_idx,\n",
    "    labels_names=labels_names,\n",
    "    labels_counts=labels_counts,\n",
    ").plot(ax)\n",
    "\n",
    "logger.info(f\"Saving figure {(figname := display.title + '.png')=}\")\n",
    "display.fig_.savefig(\n",
    "    fname=figs_dir / figname,\n",
    "    format=\"png\",\n",
    "    metadata=display.metadata,\n",
    ")    "
   ]
  },
  {
   "cell_type": "markdown",
   "metadata": {},
   "source": [
    "# Value histograms"
   ]
  },
  {
   "cell_type": "raw",
   "metadata": {},
   "source": [
    "computing histograms with tensors is faster (:"
   ]
  },
  {
   "cell_type": "code",
   "execution_count": 22,
   "metadata": {},
   "outputs": [],
   "source": [
    "data_volume_raveled_t = tf.convert_to_tensor(\n",
    "    value=data_volume.ravel(),\n",
    "    dtype=tf.int32,\n",
    "    name=f\"{volume.fullname}-data-raveled\"\n",
    ")"
   ]
  },
  {
   "cell_type": "markdown",
   "metadata": {},
   "source": [
    "## All data"
   ]
  },
  {
   "cell_type": "code",
   "execution_count": 23,
   "metadata": {},
   "outputs": [],
   "source": [
    "data_hist_t = tf.histogram_fixed_width(\n",
    "    values=data_volume_raveled_t,\n",
    "    value_range=tf.constant((hist_range := [0, 255]), dtype=data_volume_raveled_t.dtype),\n",
    "    nbins=(n_bins := 256),\n",
    "    dtype=data_volume_raveled_t.dtype,\n",
    "    name=f\"{volume.fullname}.data-histogram\"\n",
    ")\n",
    "data_hist_t = data_hist_t / tf.math.reduce_sum(data_hist_t)\n",
    "# todo save these values# "
   ]
  },
  {
   "cell_type": "code",
   "execution_count": 24,
   "metadata": {},
   "outputs": [
    {
     "name": "stdout",
     "output_type": "stream",
     "text": [
      "INFO::tomo2seg::{<ipython-input-24-b1f18ac9ca0e>:<module>:010}::[2020-11-22::23:59:38.743]\n",
      "Saving figure (figname := display.title + '.png')='PA66GF30.v1-reduced.partition=test.voxel-value-histogram.png'\n",
      "\n"
     ]
    },
    {
     "name": "stderr",
     "output_type": "stream",
     "text": [
      "/home/joaopcbertoldo/projects/tomo2seg/tomo2seg/viz.py:584: UserWarning: FixedFormatter should only be used together with FixedLocator\n",
      "  axlog.set_yticklabels(\n"
     ]
    },
    {
     "data": {
      "image/png": "[encoded data removed]",
      "text/plain": [
       "<Figure size 1920x960 with 2 Axes>"
      ]
     },
     "metadata": {
      "needs_background": "light"
     },
     "output_type": "display_data"
    }
   ],
   "source": [
    "fig, ax = plt.subplots(1, 1, figsize=(2* (sz := 8), sz), dpi=(dpi := 120))\n",
    "\n",
    "# i want to get the vertical borders to show up\n",
    "display = viz.VoxelValueHistogramDisplay(\n",
    "    volume_name=volume_and_partition_name,\n",
    "    bins=np.linspace(*hist_range, n_bins).astype(int).tolist(),\n",
    "    values=data_hist_t.numpy().tolist(),\n",
    ").plot(ax)\n",
    " \n",
    "logger.info(f\"Saving figure {(figname := display.title + '.png')=}\")\n",
    "display.fig_.savefig(\n",
    "    fname=figs_dir / figname,\n",
    "    format=\"png\",\n",
    "    metadata=display.metadata,\n",
    ")    "
   ]
  },
  {
   "cell_type": "markdown",
   "metadata": {},
   "source": [
    "## Per label"
   ]
  },
  {
   "cell_type": "code",
   "execution_count": 25,
   "metadata": {},
   "outputs": [],
   "source": [
    "labels_volume_raveled_t = tf.convert_to_tensor(\n",
    "    labels_volume.ravel(), dtype=tf.int8\n",
    ")"
   ]
  },
  {
   "cell_type": "code",
   "execution_count": 53,
   "metadata": {},
   "outputs": [
    {
     "name": "stdout",
     "output_type": "stream",
     "text": [
      "DEBUG::tomo2seg::{<ipython-input-53-d94bc39a492e>:<module>:006}::[2020-11-23::00:11:34.237]\n",
      "Computing histogram for label_idx=0\n",
      "\n",
      "DEBUG::tomo2seg::{<ipython-input-53-d94bc39a492e>:<module>:006}::[2020-11-23::00:11:34.285]\n",
      "Computing histogram for label_idx=1\n",
      "\n",
      "DEBUG::tomo2seg::{<ipython-input-53-d94bc39a492e>:<module>:006}::[2020-11-23::00:11:34.307]\n",
      "Computing histogram for label_idx=2\n",
      "\n"
     ]
    }
   ],
   "source": [
    "data_hists_per_label = []\n",
    "data_hists_per_label_global_prop = []\n",
    "n_voxels = np.sum(labels_counts)\n",
    "\n",
    "for label_idx in labels_idx:\n",
    "    logger.debug(f\"Computing histogram for {label_idx=}\")\n",
    "    \n",
    "    label_data_hist_t = tf.histogram_fixed_width(\n",
    "        values=data_volume_raveled_t[labels_volume_raveled_t == label_idx],\n",
    "        value_range=tf.constant(hist_range, dtype=data_volume_raveled_t.dtype),\n",
    "        nbins=n_bins,\n",
    "        dtype=data_volume_raveled_t.dtype,\n",
    "        name=f\"{volume.fullname}.data-histogram\"\n",
    "    )\n",
    "    data_hists_per_label.append(\n",
    "        (label_data_hist_t / tf.math.reduce_sum(label_data_hist_t)).numpy().tolist()\n",
    "    )\n",
    "    data_hists_per_label_global_prop.append(\n",
    "        (label_data_hist_t.numpy() / n_voxels).tolist()\n",
    "    )"
   ]
  },
  {
   "cell_type": "code",
   "execution_count": 63,
   "metadata": {},
   "outputs": [
    {
     "name": "stdout",
     "output_type": "stream",
     "text": [
      "INFO::tomo2seg::{<ipython-input-63-1cd08fa0d945>:<module>:017}::[2020-11-23::00:17:12.255]\n",
      "Saving figure (figname := display.title + '.png')='PA66GF30.v1-reduced.partition=test.data-histogram-per-label.png'\n",
      "\n"
     ]
    },
    {
     "name": "stderr",
     "output_type": "stream",
     "text": [
      "/home/joaopcbertoldo/projects/tomo2seg/tomo2seg/viz.py:678: UserWarning: Attempted to set non-positive bottom ylim on a log-scaled axis.\n",
      "Invalid limit will be ignored.\n",
      "  \n"
     ]
    },
    {
     "data": {
      "image/png": "[encoded data removed]",
      "text/plain": [
       "<Figure size 1680x1920 with 2 Axes>"
      ]
     },
     "metadata": {
      "needs_background": "light"
     },
     "output_type": "display_data"
    }
   ],
   "source": [
    "fig, axs = plt.subplots(\n",
    "    nrows := 2, ncols := 1, figsize=(ncols * 1.75 * (sz := 8), nrows * sz), dpi=(dpi := 120),\n",
    "    gridspec_kw=dict(hspace=sz/15)\n",
    ")\n",
    "\n",
    "bins = np.linspace(*hist_range, n_bins).astype(int).tolist()\n",
    "\n",
    "display = viz.VoxelValueHistogramPerClassDisplay(\n",
    "    volume_name=volume_and_partition_name,\n",
    "    bins=bins,\n",
    "    values_per_label=data_hists_per_label,\n",
    "    values_per_label_global_proportion=data_hists_per_label_global_prop,\n",
    "    labels_idx=labels_idx,\n",
    "    labels_names=labels_names,\n",
    ").plot(axs)\n",
    " \n",
    "logger.info(f\"Saving figure {(figname := display.title + '.png')=}\")\n",
    "display.fig_.savefig(\n",
    "    fname=figs_dir / figname,\n",
    "    format=\"png\",\n",
    "    metadata=display.metadata,\n",
    ")    "
   ]
  },
  {
   "cell_type": "markdown",
   "metadata": {},
   "source": [
    "# HERE"
   ]
  },
  {
   "cell_type": "markdown",
   "metadata": {},
   "source": [
    "# Per-class predicted probabilities histograms"
   ]
  },
  {
   "cell_type": "code",
   "execution_count": null,
   "metadata": {},
   "outputs": [],
   "source": [
    "logger.info(\"Computing probability histograms per label.\")\n",
    "probas_volume_reshaped = probas_volume.reshape(-1, n_classes)"
   ]
  },
  {
   "cell_type": "code",
   "execution_count": null,
   "metadata": {},
   "outputs": [],
   "source": [
    "histograms = []\n",
    "bins = np.linspace(0, 1, 101)\n",
    "\n",
    "for label_idx in labels_idx:\n",
    "    logger.debug(f\"Computing histogram for {label_idx=}\")\n",
    "    \n",
    "    selector = labels_volume.ravel() == label_idx\n",
    "    \n",
    "    label_hists = []\n",
    "    for class_proba_idx in labels_idx:\n",
    "        values, _ = np.histogram(\n",
    "            probas_volume_reshaped[selector, class_proba_idx], bins=bins\n",
    "        ) \n",
    "        label_hists.append(values / values.sum())\n",
    "        \n",
    "    histograms.append(label_hists)\n",
    "    \n",
    "histograms = np.array(histograms)"
   ]
  },
  {
   "cell_type": "code",
   "execution_count": null,
   "metadata": {},
   "outputs": [],
   "source": [
    "logger.info(f\"Saving probabilities histograms at `{estimation_volume.probabilities_histograms_path=}`\")\n",
    "np.save(\n",
    "    estimation_volume.probabilities_histograms_path,\n",
    "    histograms\n",
    ")"
   ]
  },
  {
   "cell_type": "raw",
   "metadata": {},
   "source": []
  },
  {
   "cell_type": "code",
   "execution_count": null,
   "metadata": {},
   "outputs": [],
   "source": [
    "logger.info(f\"Saving figure {(fig_name := 'class-probabilities-per-label.png')=}\")\n",
    "\n",
    "fig, axs = plt.subplots(\n",
    "    3, 1, figsize=(2 * (sz := 5), 3 * sz), dpi=(dpi := 200),\n",
    "    gridspec_kw=dict(wspace=0, hspace=sz/12)\n",
    ")\n",
    "xlims = (-.05, 1.05)\n",
    "ylims_10pow = (-5, 0)\n",
    "ylims = tuple(10 ** p for p in ylims_10pow)\n",
    "\n",
    "for label_idx, ax in zip(labels_idx, axs.ravel()):\n",
    "    logger.debug(f\"Plotting histograms for {label_idx=}\")\n",
    "    \n",
    "    for class_proba_idx in labels_idx:\n",
    "        logger.debug(f\"Drawing histogram for probability of {class_proba_idx=}\")\n",
    "        \n",
    "        ax.step(\n",
    "            np.concatenate([bins, [1.001]]),\n",
    "            np.concatenate([[0], histograms[label_idx, class_proba_idx], [0]]),\n",
    "            label=f\"class '{labels_names[class_proba_idx]}' (idx={class_proba_idx}) proba\",\n",
    "            linewidth=2\n",
    "        )\n",
    "    \n",
    "    ax.set_yscale('log')\n",
    "    ax.set_ylim(ylims[0], 1.5 * ylims[1])\n",
    "    ax.set_yticks(np.logspace(ylims_10pow[0], ylims_10pow[1], ylims_10pow[1] - ylims_10pow[0] + 1))\n",
    "    ax.set_ylabel(\n",
    "        f\"Proportion of pixels in *log scale* \\n\"\n",
    "        f\"log10(#voxels in bin / #voxels of '{(label_name := labels_names[label_idx])}')\"\n",
    "    )\n",
    "    \n",
    "    ax.set_xlim(*xlims)\n",
    "    ax.set_xticks(np.linspace(0, 1, 11))\n",
    "    ax.set_xlabel(\"Probability\\nbins of 0.01 = 1% width\")\n",
    "\n",
    "    ax.tick_params(axis='y', left=True, right=True, labelleft=True, labelright=True, which=\"both\")    \n",
    "    ax.grid(True, axis='y', which='major', ls='--')    \n",
    "    \n",
    "    ax.set_title(\n",
    "        f\"Pixels labeled as '{label_name}' (idx={label_idx})\\n\"\n",
    "        f\"#voxels = {humanize.intword(label_n_voxels := labels_counts[label_idx])} \"\n",
    "        f\"({humanize.intcomma(label_n_voxels)})\"\n",
    "    )\n",
    "    ax.legend(loc=\"upper center\", fontsize=\"x-small\", framealpha=1)\n",
    "\n",
    "fig.suptitle(\n",
    "    \"Class probability histogram per label.\"\n",
    "    \"\\nEach graph only considers the pixels from a given (known) label (ground truth).\"\n",
    ")\n",
    "    \n",
    "fig.savefig(\n",
    "    fname=estimation_volume.dir / fig_name,\n",
    "    dpi=dpi,\n",
    "    **figs_common_kwargs,\n",
    "    metadata={\n",
    "        \"Title\": f\"vol={volume.fullname}::analysis::{fig_name}\",\n",
    "        **figs_common_kwargs\n",
    "    }\n",
    ")"
   ]
  },
  {
   "cell_type": "markdown",
   "metadata": {},
   "source": [
    "# Prediction normalized entropy"
   ]
  },
  {
   "cell_type": "code",
   "execution_count": null,
   "metadata": {},
   "outputs": [],
   "source": [
    "eps = 1e-18\n",
    "max_entropy = - np.log(1 / (n_classes + eps))"
   ]
  },
  {
   "cell_type": "code",
   "execution_count": null,
   "metadata": {},
   "outputs": [],
   "source": [
    "logger.info(\"Computing voxels' probability distribution normalized entropies.\")\n",
    "normalized_voxel_entropies = - (probas_volume * np.log(probas_volume + eps)).sum(axis=-1) / max_entropy"
   ]
  },
  {
   "cell_type": "code",
   "execution_count": null,
   "metadata": {},
   "outputs": [],
   "source": [
    "logger.debug(f\"{normalized_voxel_entropies.shape=}\")"
   ]
  },
  {
   "cell_type": "code",
   "execution_count": null,
   "metadata": {},
   "outputs": [],
   "source": [
    "logger.info(f\"Saving normalized entropies volume to {(str_path := str(estimation_volume.voxel_normalized_entropy_path))=}\")\n",
    "file_utils.HST_write(normalized_voxel_entropies.astype(np.float32), str_path)"
   ]
  },
  {
   "cell_type": "code",
   "execution_count": null,
   "metadata": {},
   "outputs": [],
   "source": [
    "logger.debug(\"Computing entropy histograms per label.\")\n",
    "\n",
    "entropy_histograms = []\n",
    "\n",
    "bins = np.linspace(0, 1, 101)\n",
    "\n",
    "for label_idx in labels_idx:\n",
    "    logger.debug(f\"Computing histogram for {label_idx=}\")\n",
    "    \n",
    "    selector = labels_volume == label_idx\n",
    "    values, _ = np.histogram(\n",
    "        normalized_voxel_entropies[selector].ravel(), \n",
    "        bins=bins\n",
    "    ) \n",
    "    entropy_histograms.append(values / values.sum())\n",
    "    \n",
    "entropy_histograms = np.array(entropy_histograms)"
   ]
  },
  {
   "cell_type": "code",
   "execution_count": null,
   "metadata": {},
   "outputs": [],
   "source": [
    "logger.info(f\"Saving normalized entropy histograms at `{estimation_volume.voxel_normalized_entropy_histograms_path=}`\")\n",
    "np.save(\n",
    "    estimation_volume.voxel_normalized_entropy_histograms_path,\n",
    "    entropy_histograms\n",
    ")"
   ]
  },
  {
   "cell_type": "code",
   "execution_count": null,
   "metadata": {},
   "outputs": [],
   "source": [
    "logger.debug(f\"Saving figure {(fig_name := 'normalized-entropy-histogram-per-label.png')=}\")\n",
    "\n",
    "fig, ax = plt.subplots(\n",
    "    1, 1, figsize=(2 * (sz := 6), sz), dpi=(dpi := 200),\n",
    ")\n",
    "xlims = (-.05, 1.05)\n",
    "ylims_10pow = (-5, 0)\n",
    "ylims = tuple(10 ** p for p in ylims_10pow)\n",
    "\n",
    "for label_idx in labels_idx:\n",
    "    logger.debug(f\"Plotting histogram for {label_idx=}\")\n",
    "    \n",
    "    ax.step(\n",
    "        np.concatenate([bins, [1.001]]),\n",
    "        np.concatenate([[0], entropy_histograms[label_idx], [0]]),\n",
    "        label=f\"voxels '{labels_names[label_idx]}' (idx={label_idx}) (#voxels: {humanize.intcomma(labels_counts[label_idx])})\",\n",
    "        linewidth=1.5\n",
    "    )\n",
    "    \n",
    "    ax.set_yscale('log')\n",
    "    ax.set_ylim(ylims[0], 1.5 * ylims[1])\n",
    "    ax.set_yticks(np.logspace(ylims_10pow[0], ylims_10pow[1], ylims_10pow[1] - ylims_10pow[0] + 1))\n",
    "    ax.set_ylabel(\n",
    "        f\"Proportion of voxels in *log scale* \\n\"\n",
    "        f\"log10(#voxels in bin / #voxels of '{(label_name := labels_names[label_idx])}')\"\n",
    "    )\n",
    "    \n",
    "    ax.set_xlim(*xlims)\n",
    "    ax.set_xticks(np.linspace(0, 1, 11))\n",
    "    ax.set_xlabel(\"Normalized entropy\\nbins of 0.01 = 1% width\")\n",
    "\n",
    "    ax.tick_params(axis='y', left=True, right=True, labelleft=True, labelright=True, which=\"both\")    \n",
    "    ax.grid(True, axis='y', which='major', ls='--')    \n",
    "    \n",
    "    ax.set_title(\n",
    "        f\"Normalized entropy (NE) histogram\\n\"\n",
    "        f\"NE = - (SUM_i P[x_i] * log(P[x_i])) / MAX_NE\" \n",
    "    )\n",
    "    ax.legend(loc=\"upper center\", fontsize=\"small\", framealpha=1)\n",
    "\n",
    "fig.savefig(\n",
    "    fname=estimation_volume.dir / fig_name,\n",
    "    dpi=dpi,\n",
    "    **figs_common_kwargs,\n",
    "    metadata={\n",
    "        \"Title\": f\"vol={volume.fullname}::analysis::{fig_name}\",\n",
    "        **figs_common_kwargs\n",
    "    }\n",
    ")"
   ]
  },
  {
   "cell_type": "markdown",
   "metadata": {},
   "source": [
    "# Probabilities plane (2D)\n",
    "\n",
    "It is possible to visualize the probabilities on a plane because \n",
    "\n",
    "$$\\sum_{i = 1}^{n\\_classes} p_i = 1$$\n",
    "\n",
    "So, when $n\\_classes = 3$, we actually have 2 degrees of freedom. "
   ]
  },
  {
   "cell_type": "code",
   "execution_count": null,
   "metadata": {},
   "outputs": [],
   "source": [
    "import matplotlib"
   ]
  },
  {
   "cell_type": "code",
   "execution_count": null,
   "metadata": {},
   "outputs": [],
   "source": []
  },
  {
   "cell_type": "code",
   "execution_count": null,
   "metadata": {},
   "outputs": [],
   "source": [
    "%%time\n",
    "\n",
    "logger.info(\n",
    "    f\"Saving figure of probabilities scattered on a plane {(fig_name := f'probabilities-scatter.png')=}\"\n",
    ")\n",
    "\n",
    "fig, ax = plt.subplots(\n",
    "    n_rows := 1, \n",
    "    n_cols := 1, \n",
    "    figsize=(n_cols * (sz := 16), n_rows * sz), \n",
    "    dpi=(dpi := 150),\n",
    ")\n",
    "\n",
    "x_label, y_label, z_label = labels_idx\n",
    "\n",
    "logger.debug(f\"{(x_label, y_label, z_label)=}\")\n",
    "\n",
    "colors = ['r', 'g', 'b']\n",
    "argmax_points = [\n",
    "    xmax_points := np.array([[.5, 0], [1, 0], [.5, .5], [1./3, 1./3]]),\n",
    "    ymax_points := np.vstack([xmax_points[:, 1], xmax_points[:, 0]]).T,\n",
    "    zmax_points := np.array([[0, 0], [0, .5], [1./3, 1./3], [.5, 0]]),\n",
    "]\n",
    "\n",
    "for points, c in zip(argmax_points, colors):\n",
    "    ax.add_patch(matplotlib.patches.Polygon(points, color=c, alpha=.1))\n",
    "\n",
    "n_per_label = int(1e4)\n",
    "logger.debug(f\"{n_per_label=}\")\n",
    "\n",
    "ax.set_xlim(0, 1 + (margin := .00))\n",
    "ax.set_ylim(0, 1 + margin)\n",
    "\n",
    "ticks = np.linspace(0, 1, 11)\n",
    "ax.set_xticks(ticks)\n",
    "ax.set_yticks(ticks)\n",
    "\n",
    "ax.set_title(\n",
    "    f\"Voxel probabilities scatter with {humanize.intcomma(n_per_label)} voxels per label\\n\"\n",
    "    \"background colors indicate the class of max probability\",\n",
    "    fontsize='x-large'\n",
    ") \n",
    "ax.set_xlabel(f\"Probability of '{labels_names[x_label]}' (idx={x_label})\", fontsize='x-large')\n",
    "ax.set_ylabel(f\"Probability of '{labels_names[y_label]}' (idx={y_label})\", fontsize='x-large')\n",
    "\n",
    "for third_proba in ticks[1:-1]:\n",
    "    ax.plot([0, third_proba], [third_proba, 0], c='gray', ls='-.', linewidth=.35)\n",
    "    ax.text(third_proba / 2, third_proba / 2, f\"{1. - third_proba:.1f}\", c='gray', rotation=-45, rotation_mode='anchor', fontsize='small')\n",
    "ax.plot([0, 1], [1, 0], c='k', ls='--', linewidth=.75)\n",
    "ax.text((p := .4) + .01, 1 - p, f\"Probability of '{labels_names[z_label]}' (idx={z_label}) = 0.0\", c='k', rotation=-44.5, rotation_mode='anchor', fontsize='x-large')\n",
    "\n",
    "for label_idx, c, label_name in zip(labels_idx, colors, labels_names):\n",
    "    logger.debug(f\"{label_idx=}\")\n",
    "    sample = probas_volume_reshaped[labels_volume.ravel() == label_idx, :]\n",
    "    idx = random_state.choice(\n",
    "        np.arange(0, len(sample)), size=n_per_label, replace=False\n",
    "    )\n",
    "    sample = sample[idx, :]\n",
    "    logger.debug(f\"{label_idx=}  {len(sample)=}\")\n",
    "    ax.scatter(\n",
    "        sample[:, x_label], sample[:, y_label],\n",
    "        c=c, marker='.', label=label_name\n",
    "    )\n",
    "    \n",
    "ax.legend(loc='upper right', fontsize='xx-large')\n",
    "\n",
    "fig.savefig(\n",
    "    fname=estimation_volume.dir / fig_name,\n",
    "    dpi=dpi,\n",
    "    **figs_common_kwargs,\n",
    "    metadata={\n",
    "        \"Title\": f\"vol={volume.fullname}::analysis::{fig_name}\",\n",
    "        **figs_common_kwargs\n",
    "    }\n",
    ")"
   ]
  },
  {
   "cell_type": "code",
   "execution_count": null,
   "metadata": {},
   "outputs": [],
   "source": [
    "del probas_volume_reshaped"
   ]
  },
  {
   "cell_type": "markdown",
   "metadata": {},
   "source": [
    "# Pixel-wise metrics"
   ]
  },
  {
   "cell_type": "raw",
   "metadata": {},
   "source": []
  },
  {
   "cell_type": "markdown",
   "metadata": {},
   "source": [
    "## Classification report"
   ]
  },
  {
   "cell_type": "code",
   "execution_count": null,
   "metadata": {},
   "outputs": [],
   "source": [
    "classification_report_func = functools.partial(\n",
    "    metrics.classification_report,\n",
    "    # options\n",
    "    labels=labels_idx,\n",
    "    target_names=labels_names,\n",
    "    sample_weight=None,\n",
    "    output_dict=True,\n",
    "    zero_division=\"warn\",\n",
    ")"
   ]
  },
  {
   "cell_type": "code",
   "execution_count": null,
   "metadata": {},
   "outputs": [],
   "source": [
    "%%time\n",
    "logger.info(\"Computing classification report\")\n",
    "classification_report = classification_report_func(\n",
    "    labels_volume.ravel(), predictions_volume.ravel(),\n",
    ")"
   ]
  },
  {
   "cell_type": "markdown",
   "metadata": {},
   "source": [
    "### extra: jaccard"
   ]
  },
  {
   "cell_type": "code",
   "execution_count": null,
   "metadata": {},
   "outputs": [],
   "source": [
    "jaccard_binary_func = functools.partial(\n",
    "    metrics.jaccard_score, labels=labels_idx, average=None\n",
    ")\n",
    "\n",
    "jaccard_macro_func = functools.partial(\n",
    "    metrics.jaccard_score, labels=labels_idx, average=\"macro\",\n",
    ")\n",
    "\n",
    "jaccard_weighted_func = functools.partial(\n",
    "    metrics.jaccard_score, labels=labels_idx, average=\"weighted\",\n",
    ")"
   ]
  },
  {
   "cell_type": "code",
   "execution_count": null,
   "metadata": {},
   "outputs": [],
   "source": [
    "logger.info(\"Computing jaccard score.\")\n",
    "\n",
    "logger.debug(\"Computing jaccard score per label.\")\n",
    "bin_jacc = jaccard_binary_func(labels_volume.ravel(), predictions_volume.ravel())\n",
    "\n",
    "for label_idx, label_name in zip(labels_idx, labels_names):\n",
    "    classification_report[label_name][\"jaccard\"] = float(bin_jacc[label_idx])\n",
    "    \n",
    "logger.debug(\"Computing jaccard score averages.\")\n",
    "classification_report[\"macro avg\"][\"jaccard\"] = float(\n",
    "    jaccard_macro_func(labels_volume.ravel(), predictions_volume.ravel())\n",
    ")\n",
    "classification_report[\"weighted avg\"][\"jaccard\"] = float(\n",
    "    jaccard_weighted_func(labels_volume.ravel(), predictions_volume.ravel())\n",
    ")"
   ]
  },
  {
   "cell_type": "markdown",
   "metadata": {},
   "source": [
    "### extra: Normalized Discounted Cumulative Gain (ndcg)"
   ]
  },
  {
   "cell_type": "code",
   "execution_count": null,
   "metadata": {},
   "outputs": [],
   "source": [
    "%%time\n",
    "\n",
    "if probabilities_are_available:\n",
    "    logger.info(\"Probabilities are availabe, computing NDCG\")\n",
    "\n",
    "    ohe = preprocessing.OneHotEncoder(\n",
    "        categories=[labels_idx], dtype=np.int8, handle_unknown=\"error\"\n",
    "    )\n",
    "\n",
    "    # even if categories are given, fit() still has to be called\n",
    "    ohe.fit(np.array(labels_idx).reshape(-1, 1))\n",
    "    \n",
    "    # computing with everthing will take too long\n",
    "    logger.debug(f\"{(ndcg_n_samples := 10**6)=}\")\n",
    "    \n",
    "    logger.debug(f\"Sampling voxels {ndcg_n_samples=}\")\n",
    "    ndcg_indices = random_state.choice(\n",
    "        np.arange(0, n_voxels), replace=False, size=ndcg_n_samples\n",
    "    )\n",
    "\n",
    "    ndcg_labels = labels_volume.ravel()[ndcg_indices]\n",
    "    ndcg_probas = probas_volume.reshape(-1, n_classes)[ndcg_indices, :]\n",
    "    \n",
    "    logger.debug(f\"Number of pixels of each class: {dict(Counter(ndcg_labels))}\")    \n",
    "    \n",
    "    logger.info(f\"Computing ndcg score\")\n",
    "    classification_report[\"ndcg\"] = float(metrics.ndcg_score(\n",
    "        ohe.transform(ndcg_labels.reshape(-1, 1)).toarray(), ndcg_probas\n",
    "    ))"
   ]
  },
  {
   "cell_type": "markdown",
   "metadata": {},
   "source": [
    "### Save"
   ]
  },
  {
   "cell_type": "code",
   "execution_count": null,
   "metadata": {},
   "outputs": [],
   "source": [
    "class HumanizedDumper(yaml.Dumper):\n",
    "    pass\n",
    "   \n",
    "\n",
    "def percentage_float_representer(dumper, value):\n",
    "    return dumper.represent_scalar(u'tag:yaml.org,2002:str', f\"{value:.2%}\")\n",
    "\n",
    "\n",
    "def humanize_int_representer(dumper, value):\n",
    "    return dumper.represent_scalar(u'tag:yaml.org,2002:str', f\"{humanize.intword(value)} ({humanize.intcomma(value)})\")\n",
    "\n",
    "\n",
    "HumanizedDumper.add_representer(float, percentage_float_representer)\n",
    "HumanizedDumper.add_representer(int, humanize_int_representer)"
   ]
  },
  {
   "cell_type": "code",
   "execution_count": null,
   "metadata": {},
   "outputs": [],
   "source": [
    "yaml_dump_classification_report = functools.partial(\n",
    "    yaml.dump,\n",
    "    default_flow_style=False, \n",
    "    indent=4, \n",
    "    sort_keys=False\n",
    ")"
   ]
  },
  {
   "cell_type": "code",
   "execution_count": null,
   "metadata": {},
   "outputs": [],
   "source": [
    "logger.info(\n",
    "    f\"Saving exact and humanized classification report to (respectively):\"\n",
    "    f\"\\n{estimation_volume.pixelwise_classification_report_exact}\"\n",
    "    f\"\\n{estimation_volume.pixelwise_classification_report_human}\"\n",
    ")\n",
    "\n",
    "with estimation_volume.pixelwise_classification_report_exact.open('w') as f:\n",
    "    yaml_dump_classification_report(classification_report, f)\n",
    "\n",
    "with estimation_volume.pixelwise_classification_report_human.open('w') as f:\n",
    "    report_str = yaml_dump_classification_report(classification_report, Dumper=HumanizedDumper)\n",
    "    f.write(report_str)"
   ]
  },
  {
   "cell_type": "code",
   "execution_count": null,
   "metadata": {},
   "outputs": [],
   "source": [
    "print(report_str)"
   ]
  },
  {
   "cell_type": "code",
   "execution_count": null,
   "metadata": {},
   "outputs": [],
   "source": [
    "with estimation_volume.pixelwise_classification_report_exact.open() as f:\n",
    "# with estimation_volume.pixelwise_classification_report_human.open() as f:\n",
    "    classification_report = yaml.load(f, Loader=yaml.Loader)"
   ]
  },
  {
   "cell_type": "code",
   "execution_count": null,
   "metadata": {},
   "outputs": [],
   "source": [
    "table = []\n",
    "cols = sorted(classification_report['macro avg'].keys())\n",
    "idx = []\n",
    "# table.append([''] + headers)\n",
    "\n",
    "for key, val in classification_report.items():\n",
    "    if type(val) != dict:\n",
    "        continue\n",
    "    idx.append(key)\n",
    "    table.append([\n",
    "        val[dic_key]\n",
    "        for dic_key in headers\n",
    "    ])\n",
    "                "
   ]
  },
  {
   "cell_type": "code",
   "execution_count": null,
   "metadata": {},
   "outputs": [],
   "source": [
    "import pandas as pd"
   ]
  },
  {
   "cell_type": "code",
   "execution_count": null,
   "metadata": {},
   "outputs": [],
   "source": [
    "df = pd.DataFrame(table, columns=headers, index=idx)"
   ]
  },
  {
   "cell_type": "code",
   "execution_count": null,
   "metadata": {},
   "outputs": [],
   "source": [
    "df[['support', 'precision', 'recall']]"
   ]
  },
  {
   "cell_type": "code",
   "execution_count": null,
   "metadata": {},
   "outputs": [],
   "source": [
    "df[['support', 'f1-score']]"
   ]
  },
  {
   "cell_type": "code",
   "execution_count": null,
   "metadata": {},
   "outputs": [],
   "source": [
    "df[['support', 'jaccard']]"
   ]
  },
  {
   "cell_type": "code",
   "execution_count": null,
   "metadata": {},
   "outputs": [],
   "source": []
  },
  {
   "cell_type": "code",
   "execution_count": null,
   "metadata": {},
   "outputs": [],
   "source": []
  },
  {
   "cell_type": "markdown",
   "metadata": {},
   "source": [
    "## Confusion matrix"
   ]
  },
  {
   "cell_type": "code",
   "execution_count": null,
   "metadata": {},
   "outputs": [],
   "source": [
    "%%time\n",
    "\n",
    "logger.info(\"Computing confusion matrix.\")\n",
    "\n",
    "# doing it in batches to fit my pc memory...\n",
    "n_batches = 30\n",
    "batch_indices = np.linspace(0, n_voxels, n_batches + 1).astype(int)\n",
    "\n",
    "confusion_matrix = np.zeros((n_classes, n_classes))\n",
    "\n",
    "for s, e in pbar(zip(batch_indices[:-1], batch_indices[1:]), max_value=n_batches):\n",
    "    confusion_matrix += metrics.confusion_matrix(\n",
    "        # data\n",
    "        labels_volume.ravel()[s:e], predictions_volume.ravel()[s:e],\n",
    "        # options\n",
    "        labels=volume.metadata.labels,\n",
    "        sample_weight=None,\n",
    "    )"
   ]
  },
  {
   "cell_type": "code",
   "execution_count": null,
   "metadata": {},
   "outputs": [],
   "source": [
    "logger.info(f\"Saving confusion matrix to {estimation_volume.confusion_matrix_path=}.\")\n",
    "\n",
    "np.save(\n",
    "    estimation_volume.confusion_matrix_path,\n",
    "    confusion_matrix\n",
    ")"
   ]
  },
  {
   "cell_type": "code",
   "execution_count": null,
   "metadata": {},
   "outputs": [],
   "source": [
    "logger.debug(f\"Saving figure {(fig_name := 'confusion-matrix.png')=}\")\n",
    "\n",
    "fig, axs = plt.subplots(\n",
    "    n_rows := 1, \n",
    "    n_cols := 3, \n",
    "    figsize=(n_cols * (sz := 7), n_rows * sz), \n",
    "    dpi=(dpi := 120),\n",
    "    gridspec_kw=dict(wspace=sz/30),\n",
    ")\n",
    "\n",
    "cm_display = metrics.ConfusionMatrixDisplay(\n",
    "    cm_normalized := confusion_matrix / confusion_matrix.sum(), \n",
    "    display_labels=labels_names,\n",
    ")\n",
    "cm_display.plot(values_format='.3%', cmap=cm.inferno, ax=axs[0])\n",
    "cm_display.ax_.set_title(\"Confusion matrix normalized (%)\")\n",
    "\n",
    "cm_display = metrics.ConfusionMatrixDisplay(\n",
    "    cm_true_label_normalized := confusion_matrix / confusion_matrix.sum(axis=1).reshape(-1, 1), \n",
    "    display_labels=labels_names,\n",
    ")\n",
    "cm_display.plot(values_format='.1%', cmap=cm.inferno, ax=axs[1])\n",
    "cm_display.ax_.set_title(\"Confusion matrix normalized (%)\\nby *true label* (by line)\")\n",
    "\n",
    "cm_display = metrics.ConfusionMatrixDisplay(\n",
    "    cm_predicted_label_normalized := confusion_matrix / confusion_matrix.sum(axis=0).reshape(1, -1), \n",
    "    display_labels=labels_names,\n",
    ")\n",
    "cm_display.plot(values_format='.1%', cmap=cm.inferno, ax=axs[2])\n",
    "cm_display.ax_.set_title(\"Confusion matrix normalized (%)\\nby *predicted label* (by column)\")\n",
    "\n",
    "fig.suptitle(\"Global confusion matrix\")\n",
    "\n",
    "fig.savefig(\n",
    "    fname=estimation_volume.dir / fig_name,\n",
    "    dpi=dpi,\n",
    "    **figs_common_kwargs,\n",
    "    metadata={\n",
    "        \"Title\": f\"vol={volume.fullname}::analysis::{fig_name}\",\n",
    "        **figs_common_kwargs\n",
    "    }\n",
    ")"
   ]
  },
  {
   "cell_type": "markdown",
   "metadata": {},
   "source": [
    "## Binary confusion matrices"
   ]
  },
  {
   "cell_type": "code",
   "execution_count": null,
   "metadata": {},
   "outputs": [],
   "source": [
    "logger.info(\"Computing binary confusion matrices (per label).\")\n",
    "\n",
    "binary_confusion_matrices = []\n",
    "\n",
    "for label_idx in range(n_classes):\n",
    "    tp = confusion_matrix[label_idx, label_idx]\n",
    "    fn = confusion_matrix[label_idx, :].sum() - tp\n",
    "    fp = confusion_matrix[:, label_idx].sum() - tp\n",
    "    tn = confusion_matrix.sum() - fp - fn - tp\n",
    "    binary_confusion_matrices.append([\n",
    "        [tn, fp],\n",
    "        [fn, tp],\n",
    "    ])\n",
    "    \n",
    "binary_confusion_matrices = np.array(binary_confusion_matrices)\n",
    "\n",
    "logger.debug(f\"{binary_confusion_matrices.shape=}\")"
   ]
  },
  {
   "cell_type": "code",
   "execution_count": null,
   "metadata": {},
   "outputs": [],
   "source": [
    "logger.info(f\"Saving binary confusion matrices to {estimation_volume.binary_confusion_matrices_path}.\")\n",
    "np.save(\n",
    "    estimation_volume.binary_confusion_matrices_path,\n",
    "    binary_confusion_matrices\n",
    ")"
   ]
  },
  {
   "cell_type": "code",
   "execution_count": null,
   "metadata": {},
   "outputs": [],
   "source": [
    "logger.info(\n",
    "    f\"Saving figure of binary confusion matrices at \"\n",
    "    f\"{(fig_name := f'binary-confusion-matrices.png')=}\"\n",
    ")\n",
    "\n",
    "fig, axs = plt.subplots(\n",
    "    n_rows := 2, \n",
    "    n_cols := n_classes, \n",
    "    figsize=(n_cols * (sz := 6), n_rows * sz), \n",
    "    dpi=(dpi := 120),\n",
    "    gridspec_kw=dict(wspace=sz/20, hspace=sz/20),\n",
    ")\n",
    "\n",
    "for label_idx, ax in zip(labels_idx, axs[0].ravel()):\n",
    "    logger.debug(f\"Drawing CM of class {label_idx=} (1st line)\")\n",
    "    confmat = binary_confusion_matrices[label_idx]\n",
    "    \n",
    "    cm_display = metrics.ConfusionMatrixDisplay(\n",
    "        confmat / confmat.sum(axis=1).reshape(-1, 1), \n",
    "        display_labels=[f\"non-{(label_name := labels_names[label_idx])}\", label_name],\n",
    "    )\n",
    "    cm_display.plot(values_format='.1%', cmap=cm.inferno, ax=ax)\n",
    "    cm_display.ax_.set_title(\n",
    "        f\"Binary CM normalized by line (%)\\n\"\n",
    "        f\"class `{label_name}` (idx={label_idx})\"\n",
    "    )\n",
    "\n",
    "for label_idx, ax in zip(labels_idx, axs[1].ravel()):\n",
    "    logger.debug(f\"Drawing CM of class {label_idx=} (2nd line)\")\n",
    "    confmat = binary_confusion_matrices[label_idx]\n",
    "    \n",
    "    cm_display = metrics.ConfusionMatrixDisplay(\n",
    "        confmat / confmat.sum(axis=0).reshape(1, -1), \n",
    "        display_labels=[f\"non-{(label_name := labels_names[label_idx])}\", label_name],\n",
    "    )\n",
    "    cm_display.plot(values_format='.1%', cmap=cm.inferno, ax=ax)\n",
    "    cm_display.ax_.set_title(\n",
    "        f\"Binary CM normalized by column (%)\\n\"\n",
    "        f\"class `{label_name}` (idx={label_idx})\"\n",
    "    )\n",
    "\n",
    "\n",
    "fig.savefig(\n",
    "    fname=estimation_volume.dir / fig_name,\n",
    "    dpi=dpi,\n",
    "    **figs_common_kwargs,\n",
    "    metadata={\n",
    "        \"Title\": f\"vol={volume.fullname}::analysis::{fig_name}\",\n",
    "        **figs_common_kwargs\n",
    "    }\n",
    ")"
   ]
  },
  {
   "cell_type": "markdown",
   "metadata": {},
   "source": [
    "## ROC curves"
   ]
  },
  {
   "cell_type": "code",
   "execution_count": null,
   "metadata": {},
   "outputs": [],
   "source": [
    "logger.info(\"Computing ROC curves\")\n",
    "\n",
    "roc_curves = []\n",
    "\n",
    "for label_idx in labels_idx:\n",
    "    logger.debug(f\"Computing roc curve of class idx={label_idx}\")\n",
    "    \n",
    "    fpr, tpr, th = metrics.roc_curve(\n",
    "        labels_volume.ravel(), probas_volume.reshape(-1, n_classes)[:, label_idx], \n",
    "        pos_label=label_idx,\n",
    "        drop_intermediate=True\n",
    "    )\n",
    "    roc_curves.append((\n",
    "        label_roc_curve := np.array([fpr, tpr, th])\n",
    "    ))\n",
    "    \n",
    "    logger.debug(\n",
    "        f\"Saving roc curve of class idx={label_idx} \"\n",
    "        f\"at {(roc_path := estimation_volume.get_class_roc_curve_path(label_idx))=}\"\n",
    "    )\n",
    "    np.save(roc_path,label_roc_curve)"
   ]
  },
  {
   "cell_type": "code",
   "execution_count": null,
   "metadata": {},
   "outputs": [],
   "source": [
    "logger.info(f\"Saving figure of ROC curves at {(fig_name := f'roc-curves.png')}\")\n",
    "\n",
    "fig, axs = plt.subplots(\n",
    "    n_rows := 1, \n",
    "    n_cols := 2, \n",
    "    figsize=(n_cols * (sz := 7), n_rows * sz), \n",
    "    dpi=(dpi := 130),\n",
    ")\n",
    "\n",
    "zoom = np.array(((0, .15), (.85, 1)))\n",
    "\n",
    "fig.suptitle(\"Per class ROC curves\")\n",
    "\n",
    "ax_full, ax_zoom = axs[0], axs[1]\n",
    "ax_full.set_title(\"Full curve range [0, 1] x [0, 1]\")\n",
    "ax_full.set_xlim(0, 1)\n",
    "ax_full.set_ylim(0, 1)\n",
    "\n",
    "ax_zoom.set_title(f\"Zoom on [{zoom[0, 0]}, {zoom[0, 1]}] x [{zoom[1, 0]}, {zoom[1, 1]}]\")\n",
    "ax_zoom.set_xlim(*zoom[0])\n",
    "ax_zoom.set_ylim(*zoom[1])\n",
    "\n",
    "for label_idx, (fpr, tpr, _) in zip(labels_idx, roc_curves):\n",
    "    roc_display = metrics.RocCurveDisplay(fpr=fpr, tpr=tpr, estimator_name=f\"{label_idx}\")\n",
    "    for ax in axs:\n",
    "        roc_display.plot(ax=ax)  \n",
    "\n",
    "max_label_name_length = max(*map(len, labels_names))\n",
    "\n",
    "for label_idx, (fpr, tpr, _) in zip(labels_idx, roc_curves):\n",
    "    ax_full.get_legend().texts[label_idx].set_text(\n",
    "        f\"class {(label_name := labels_names[label_idx])} (idx={label_idx})\"\n",
    "        f\" (AUC={(roc_auc := metrics.auc(fpr, tpr)):.4%})\"\n",
    "    )\n",
    "ax_zoom.legend_ = None\n",
    "         \n",
    "fig.savefig(\n",
    "    fname=estimation_volume.dir / fig_name,\n",
    "    dpi=dpi,\n",
    "    **figs_common_kwargs,\n",
    "    metadata={\n",
    "        \"Title\": f\"vol={volume.fullname}::analysis::{fig_name}\",\n",
    "        **figs_common_kwargs\n",
    "    }\n",
    ")"
   ]
  },
  {
   "cell_type": "markdown",
   "metadata": {},
   "source": [
    "# Confusion volume"
   ]
  },
  {
   "cell_type": "code",
   "execution_count": null,
   "metadata": {},
   "outputs": [],
   "source": [
    "logger.info(\"Computing confusion volumes\")\n",
    "\n",
    "for label_idx in labels_idx:\n",
    "\n",
    "    tp_volume = (labels_volume == label_idx) & (predictions_volume == label_idx)\n",
    "    fn_volume = (labels_volume == label_idx) & (predictions_volume != label_idx)\n",
    "    fp_volume = (labels_volume != label_idx) & (predictions_volume == label_idx)\n",
    "\n",
    "    conf_vol = (\n",
    "        np.zeros_like(labels_volume, dtype=(vol_dtype := np.uint8))\n",
    "        + 50 * fn_volume.astype(vol_dtype)\n",
    "        + 100 * fp_volume.astype(vol_dtype)\n",
    "        + 255 * tp_volume.astype(vol_dtype)\n",
    "    )\n",
    "    \n",
    "    logger.debug(\n",
    "        f\"Saving confusion volume for class {label_idx=} \"\n",
    "        f\"at {(str_path := str(estimation_volume.get_confusion_volume_path(label_idx)))=}\"\n",
    "    )\n",
    "    file_utils.HST_write(conf_vol, str_path)    "
   ]
  },
  {
   "cell_type": "markdown",
   "metadata": {},
   "source": [
    "## 2D error blobs"
   ]
  },
  {
   "cell_type": "code",
   "execution_count": null,
   "metadata": {},
   "outputs": [],
   "source": []
  },
  {
   "cell_type": "markdown",
   "metadata": {},
   "source": [
    "## 3D error blobs"
   ]
  },
  {
   "cell_type": "code",
   "execution_count": null,
   "metadata": {},
   "outputs": [],
   "source": []
  },
  {
   "cell_type": "markdown",
   "metadata": {},
   "source": [
    "# Physical metrics"
   ]
  },
  {
   "cell_type": "code",
   "execution_count": null,
   "metadata": {},
   "outputs": [],
   "source": []
  },
  {
   "cell_type": "markdown",
   "metadata": {},
   "source": [
    "# Notable slices"
   ]
  },
  {
   "cell_type": "code",
   "execution_count": null,
   "metadata": {},
   "outputs": [],
   "source": [
    "estimation_volume[\"lalala\"] "
   ]
  }
 ],
 "metadata": {
  "kernelspec": {
   "display_name": "Python 3",
   "language": "python",
   "name": "python3"
  },
  "language_info": {
   "codemirror_mode": {
    "name": "ipython",
    "version": 3
   },
   "file_extension": ".py",
   "mimetype": "text/x-python",
   "name": "python",
   "nbconvert_exporter": "python",
   "pygments_lexer": "ipython3",
   "version": "3.8.2"
  }
 },
 "nbformat": 4,
 "nbformat_minor": 4
}
