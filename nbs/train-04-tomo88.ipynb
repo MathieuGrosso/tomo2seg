{
 "cells": [
  {
   "cell_type": "markdown",
   "metadata": {
    "id": "8JEHjvuBBIab"
   },
   "source": [
    "# Imports\n"
   ]
  },
  {
   "cell_type": "code",
   "execution_count": 1,
   "metadata": {
    "colab": {
     "base_uri": "https://localhost:8080/",
     "height": 33
    },
    "executionInfo": {
     "elapsed": 1970,
     "status": "ok",
     "timestamp": 1602255916978,
     "user": {
      "displayName": "João Paulo Casagrande Bertoldo",
      "photoUrl": "https://lh3.googleusercontent.com/a-/AOh14GioL6iQ5PNE9hm2XaOtZd36rClxQBdpy33-9-QsTUs=s64",
      "userId": "13620585220725745309"
     },
     "user_tz": -120
    },
    "id": "KTMgQv07JkgY",
    "outputId": "69cd78fc-f0f1-46f6-f1d8-63b99d55eaae"
   },
   "outputs": [],
   "source": [
    "%load_ext autoreload"
   ]
  },
  {
   "cell_type": "code",
   "execution_count": 28,
   "metadata": {
    "executionInfo": {
     "elapsed": 1967,
     "status": "ok",
     "timestamp": 1602255916979,
     "user": {
      "displayName": "João Paulo Casagrande Bertoldo",
      "photoUrl": "https://lh3.googleusercontent.com/a-/AOh14GioL6iQ5PNE9hm2XaOtZd36rClxQBdpy33-9-QsTUs=s64",
      "userId": "13620585220725745309"
     },
     "user_tz": -120
    },
    "id": "m7qeyEdDT3Hl"
   },
   "outputs": [],
   "source": [
    "%autoreload 2\n",
    "\n",
    "from dataclasses import dataclass, asdict\n",
    "from enum import Enum\n",
    "import functools\n",
    "import operator\n",
    "from functools import partial\n",
    "import logging\n",
    "import pathlib\n",
    "from pathlib import Path\n",
    "from pprint import pprint, PrettyPrinter\n",
    "import sys\n",
    "from typing import *\n",
    "import time\n",
    "import yaml\n",
    "from yaml import YAMLObject\n",
    "import socket\n",
    "\n",
    "import humanize\n",
    "from matplotlib import pyplot as plt, cm\n",
    "import numpy as np\n",
    "import pandas as pd\n",
    "from pymicro.file import file_utils\n",
    "import tensorflow as tf\n",
    "from numpy.random import RandomState\n",
    "\n",
    "from tensorflow import keras\n",
    "from tensorflow.keras import utils\n",
    "from tensorflow.keras import optimizers\n",
    "from tensorflow.keras import callbacks as keras_callbacks\n",
    "from tensorflow.keras import losses\n",
    "from tensorflow.keras import metrics as keras_metrics\n",
    "\n",
    "from tomo2seg import slack\n",
    "from tomo2seg import modular_unet\n",
    "from tomo2seg.logger import logger\n",
    "from tomo2seg import data, viz\n",
    "from tomo2seg.data import Volume\n",
    "from tomo2seg.metadata import Metadata\n",
    "from tomo2seg.volume_sequence import (\n",
    "    MetaCrop3DGenerator, VolumeCropSequence,\n",
    "    UniformGridPosition, SequentialGridPosition,\n",
    "    ET3DUniformCuboidAlmostEverywhere, ET3DConstantEverywhere, \n",
    "    GTUniformEverywhere, GTConstantEverywhere, \n",
    "    VSConstantEverywhere, VSUniformEverywhere\n",
    ")\n",
    "from tomo2seg import volume_sequence\n",
    "from tomo2seg.model import Model as Tomo2SegModel\n",
    "from tomo2seg import callbacks as tomo2seg_callbacks\n",
    "from tomo2seg import losses as tomo2seg_losses\n",
    "from tomo2seg import schedule as tomo2seg_schedule\n",
    "from tomo2seg import utils as tomo2seg_utils\n",
    "from tomo2seg import slackme"
   ]
  },
  {
   "cell_type": "code",
   "execution_count": 3,
   "metadata": {},
   "outputs": [],
   "source": [
    "# this registers a custom exception handler for the whole current notebook\n",
    "get_ipython().set_custom_exc((Exception,), slackme.custom_exc)"
   ]
  },
  {
   "cell_type": "markdown",
   "metadata": {},
   "source": [
    "# Args"
   ]
  },
  {
   "cell_type": "code",
   "execution_count": 13,
   "metadata": {},
   "outputs": [
    {
     "name": "stdout",
     "output_type": "stream",
     "text": [
      "INFO::tomo2seg::{<ipython-input-13-dd3f42403bf1>:<module>:011}::[2020-12-11::11:19:39.040]\n",
      "MULTIPLE_REQUIREMENT=16\n",
      "\n",
      "INFO::tomo2seg::{<ipython-input-13-dd3f42403bf1>:<module>:023}::[2020-12-11::11:19:39.042]\n",
      "MAX_INTERNAL_NVOXELS=133632000.0 (133,632,000.0)\n",
      "\n",
      "INFO::tomo2seg::{<ipython-input-13-dd3f42403bf1>:<module>:043}::[2020-12-11::11:19:39.043]\n",
      "args\n",
      "{'early_stop_mode': <EarlyStopMode.no_early_stop: 0>, 'random_state_seed': 30}\n",
      "\n"
     ]
    }
   ],
   "source": [
    "@dataclass\n",
    "class Args:\n",
    "\n",
    "    class EarlyStopMode(Enum):\n",
    "        no_early_stop = 0\n",
    "    \n",
    "    early_stop_mode: EarlyStopMode\n",
    "    random_state_seed: int = 42\n",
    "    \n",
    "MULTIPLE_REQUIREMENT = 16\n",
    "logger.info(f\"{MULTIPLE_REQUIREMENT=}\")\n",
    "\n",
    "# these are estimates based on things i've seen fit in the GPU\n",
    "MAX_INTERNAL_NVOXELS = max(\n",
    "    # seen cases\n",
    "    4 * (8 * 6) * (96**3),\n",
    "    8 * (16 * 6) * (320**2),  \n",
    "    3 * (16 * 6) * (800 * 928),\n",
    ")\n",
    "\n",
    "MAX_INTERNAL_NVOXELS *= 5/8  # a smaller gpu on other pcs...\n",
    "\n",
    "logger.info(f\"{MAX_INTERNAL_NVOXELS=} ({humanize.intcomma(MAX_INTERNAL_NVOXELS)})\")\n",
    "\n",
    "# override_batch_size = None\n",
    "# doing this to reproduce the same conditions...\n",
    "override_batch_size_per_gpu = 1  \n",
    "\n",
    "is_continuation = True\n",
    "override_runid = 1607466349\n",
    "\n",
    "# None: continue from the latest model\n",
    "# 1: continue from model.autosaved_model_path\n",
    "# 2: continue from model.autosaved2_model_path\n",
    "continue_from_autosave: Optional[int] = None \n",
    "    \n",
    "\n",
    "args = Args(\n",
    "    early_stop_mode = Args.EarlyStopMode.no_early_stop,\n",
    "    random_state_seed=30,  # I'll change it so we don't repeat the same crops from the begining\n",
    ")\n",
    "\n",
    "logger.info(f\"args\\n{PrettyPrinter(indent=4, compact=False).pformat(asdict(args))}\")"
   ]
  },
  {
   "cell_type": "code",
   "execution_count": 5,
   "metadata": {},
   "outputs": [],
   "source": [
    "if is_continuation:\n",
    "    \n",
    "    try:\n",
    "        override_runid\n",
    "        \n",
    "    except NameError as ex:\n",
    "        raise ValueError(f\"{is_continuation=} but `{ex.args[0]}` is not defined!\")\n",
    "        \n",
    "else:\n",
    "    override_runid = None"
   ]
  },
  {
   "cell_type": "markdown",
   "metadata": {
    "id": "EnVqPFS9BNCg"
   },
   "source": [
    "\n",
    "# Setup\n"
   ]
  },
  {
   "cell_type": "code",
   "execution_count": 15,
   "metadata": {},
   "outputs": [],
   "source": [
    "logger.setLevel(logging.DEBUG)"
   ]
  },
  {
   "cell_type": "code",
   "execution_count": 17,
   "metadata": {},
   "outputs": [
    {
     "name": "stdout",
     "output_type": "stream",
     "text": [
      "INFO::tomo2seg::{<ipython-input-17-8aa92fbae571>:<module>:002}::[2020-12-11::11:20:54.343]\n",
      "runid=1607466349\n",
      "\n"
     ]
    }
   ],
   "source": [
    "runid = int(time.time()) if override_runid is None else override_runid\n",
    "logger.info(f\"{runid=}\")"
   ]
  },
  {
   "cell_type": "code",
   "execution_count": 21,
   "metadata": {},
   "outputs": [
    {
     "name": "stdout",
     "output_type": "stream",
     "text": [
      "INFO::tomo2seg::{<ipython-input-21-73c5f10d81da>:<module>:007}::[2020-12-11::11:22:18.674]\n",
      "tf_version='2.2.0'\n",
      "\n",
      "INFO::tomo2seg::{<ipython-input-21-73c5f10d81da>:<module>:010}::[2020-12-11::11:22:18.676]\n",
      "Hostname: R7920-tomo\n",
      "Num GPUs Available: 2\n",
      "This should be:\n",
      "\t2 on R790-TOMO\n",
      "\t1 on akela\n",
      "\t1 on hathi\n",
      "\t1 on krilin\n",
      "\n",
      "DEBUG::tomo2seg::{<ipython-input-21-73c5f10d81da>:<module>:014}::[2020-12-11::11:22:18.678]\n",
      "physical GPU devices:\n",
      "\tPhysicalDevice(name='/physical_device:GPU:0', device_type='GPU')\n",
      "\tPhysicalDevice(name='/physical_device:GPU:1', device_type='GPU')\n",
      "logical GPU devices:\n",
      "\tLogicalDevice(name='/device:GPU:0', device_type='GPU')\n",
      "\tLogicalDevice(name='/device:GPU:1', device_type='GPU')\n",
      "\n"
     ]
    }
   ],
   "source": [
    "logger.setLevel(logging.DEBUG)\n",
    "random_state = np.random.RandomState(args.random_state_seed)\n",
    "\n",
    "n_gpus = len(tf.config.list_physical_devices('GPU'))\n",
    "    \n",
    "tf_version = tf.__version__\n",
    "logger.info(f\"{tf_version=}\")\n",
    "\n",
    "hostname = socket.gethostname()\n",
    "logger.info(\n",
    "    f\"Hostname: {hostname}\\nNum GPUs Available: {n_gpus}\\nThis should be:\\n\\t\" + '\\n\\t'.join(['2 on R790-TOMO', '1 on akela', '1 on hathi', '1 on krilin'])\n",
    ")\n",
    "\n",
    "logger.debug(\n",
    "    \"physical GPU devices:\\n\\t\" + \"\\n\\t\".join(map(str, tf.config.list_physical_devices('GPU'))) + \"\\n\" +\n",
    "    \"logical GPU devices:\\n\\t\" + \"\\n\\t\".join(map(str, tf.config.list_logical_devices('GPU'))) \n",
    ")\n",
    "\n",
    "# xla auto-clustering optimization (see: https://www.tensorflow.org/xla#auto-clustering)\n",
    "# this seems to break the training\n",
    "tf.config.optimizer.set_jit(False)"
   ]
  },
  {
   "cell_type": "markdown",
   "metadata": {
    "id": "j8e5FhmUaKND"
   },
   "source": [
    "# Data"
   ]
  },
  {
   "cell_type": "code",
   "execution_count": 22,
   "metadata": {},
   "outputs": [
    {
     "name": "stdout",
     "output_type": "stream",
     "text": [
      "INFO::tomo2seg::{<ipython-input-22-cd76321aa4c8>:<module>:010}::[2020-12-11::11:22:37.427]\n",
      "volume_name='PA66GF30'\n",
      "\n",
      "INFO::tomo2seg::{<ipython-input-22-cd76321aa4c8>:<module>:011}::[2020-12-11::11:22:37.429]\n",
      "volume_version='v1'\n",
      "\n",
      "INFO::tomo2seg::{<ipython-input-22-cd76321aa4c8>:<module>:012}::[2020-12-11::11:22:37.430]\n",
      "labels_version='refined3'\n",
      "\n"
     ]
    }
   ],
   "source": [
    "from tomo2seg.datasets import (\n",
    "    VOLUME_COMPOSITE_V1 as VOLUME_NAME_VERSION,\n",
    "#     VOLUME_COMPOSITE_V1_REDUCED as VOLUME_NAME_VERSION,\n",
    "    VOLUME_COMPOSITE_V1_LABELS_REFINED3 as LABELS_VERSION\n",
    ")\n",
    "\n",
    "volume_name, volume_version = VOLUME_NAME_VERSION\n",
    "labels_version = LABELS_VERSION\n",
    "\n",
    "logger.info(f\"{volume_name=}\")\n",
    "logger.info(f\"{volume_version=}\")\n",
    "logger.info(f\"{labels_version=}\")"
   ]
  },
  {
   "cell_type": "code",
   "execution_count": 23,
   "metadata": {
    "executionInfo": {
     "elapsed": 2916,
     "status": "ok",
     "timestamp": 1602255917946,
     "user": {
      "displayName": "João Paulo Casagrande Bertoldo",
      "photoUrl": "https://lh3.googleusercontent.com/a-/AOh14GioL6iQ5PNE9hm2XaOtZd36rClxQBdpy33-9-QsTUs=s64",
      "userId": "13620585220725745309"
     },
     "user_tz": -120
    },
    "id": "4CfP7usu2VKr"
   },
   "outputs": [
    {
     "name": "stdout",
     "output_type": "stream",
     "text": [
      "DEBUG::tomo2seg::{data.py:with_check:258}::[2020-12-11::11:22:46.627]\n",
      "vol=Volume(name='PA66GF30', version='v1', _metadata=None)\n",
      "\n",
      "DEBUG::tomo2seg::{data.py:metadata:195}::[2020-12-11::11:22:46.722]\n",
      "Loading metadata from `/home/users/jcasagrande/projects/tomo2seg/data/PA66GF30.v1/PA66GF30.v1.metadata.yml`.\n",
      "\n",
      "INFO::tomo2seg::{<ipython-input-23-6e0649e4ec97>:<module>:007}::[2020-12-11::11:22:46.738]\n",
      "volume=Volume(name='PA66GF30', version='v1', _metadata=Volume.Metadata(dimensions=[1300, 1040, 1900], dtype='uint8', labels=[0, 1, 2], labels_names={0: 'matrix', 1: 'fiber', 2: 'porosity'}, set_partitions={'train': {'x_range': [0, 1300], 'y_range': [0, 1040], 'z_range': [0, 1300], 'alias': 'train'}, 'val': {'x_range': [0, 1300], 'y_range': [0, 1040], 'z_range': [1600, 1900], 'alias': 'val'}, 'test': {'x_range': [0, 1300], 'y_range': [0, 1040], 'z_range': [1300, 1600], 'alias': 'test'}}))\n",
      "\n",
      "INFO::tomo2seg::{<ipython-input-23-6e0649e4ec97>:<module>:024}::[2020-12-11::11:22:46.740]\n",
      "Loading data from disk.\n",
      "\n",
      "data type is uint8\n",
      "volume size is 1300 x 1040 x 1900\n",
      "reading volume... from byte 0\n",
      "DEBUG::tomo2seg::{<ipython-input-23-6e0649e4ec97>:<module>:028}::[2020-12-11::11:23:03.340]\n",
      "voldata.shape=(1300, 1040, 1900)\n",
      "\n",
      "DEBUG::tomo2seg::{<ipython-input-23-6e0649e4ec97>:<module>:033}::[2020-12-11::11:23:03.342]\n",
      "voldata_train.shape=(1300, 1040, 1300)\n",
      "\n",
      "DEBUG::tomo2seg::{<ipython-input-23-6e0649e4ec97>:<module>:034}::[2020-12-11::11:23:03.343]\n",
      "voldata_val.shape=(1300, 1040, 300)\n",
      "\n",
      "data type is uint8\n",
      "volume size is 1300 x 1040 x 1900\n",
      "reading volume... from byte 0\n",
      "DEBUG::tomo2seg::{<ipython-input-23-6e0649e4ec97>:<module>:040}::[2020-12-11::11:23:09.304]\n",
      "vollabels.shape=(1300, 1040, 1900)\n",
      "\n",
      "DEBUG::tomo2seg::{<ipython-input-23-6e0649e4ec97>:<module>:045}::[2020-12-11::11:23:09.309]\n",
      "vollabels_train.shape=(1300, 1040, 1300)\n",
      "\n",
      "DEBUG::tomo2seg::{<ipython-input-23-6e0649e4ec97>:<module>:046}::[2020-12-11::11:23:09.310]\n",
      "vollabels_val.shape=(1300, 1040, 300)\n",
      "\n"
     ]
    }
   ],
   "source": [
    "# Metadata/paths objects\n",
    "\n",
    "## Volume\n",
    "volume = Volume.with_check(\n",
    "    name=volume_name, version=volume_version\n",
    ")\n",
    "logger.info(f\"{volume=}\")\n",
    "\n",
    "n_classes = len(volume.metadata.labels)\n",
    "\n",
    "def _read_raw(path_: Path, volume_: Volume): \n",
    "    # from pymicro\n",
    "    return file_utils.HST_read(\n",
    "        str(path_),  # it doesn't accept paths...\n",
    "        # pre-loaded kwargs\n",
    "        autoparse_filename=False,  # the file names are not properly formatted\n",
    "        data_type=volume.metadata.dtype,\n",
    "        dims=volume.metadata.dimensions,\n",
    "        verbose=True,\n",
    "    )\n",
    "\n",
    "read_raw = partial(_read_raw, volume_=volume)\n",
    "\n",
    "logger.info(\"Loading data from disk.\")\n",
    "\n",
    "## Data\n",
    "voldata = read_raw(volume.data_path) / 255  # normalize\n",
    "logger.debug(f\"{voldata.shape=}\")\n",
    "\n",
    "voldata_train = volume.train_partition.get_volume_partition(voldata)\n",
    "voldata_val = volume.val_partition.get_volume_partition(voldata)\n",
    "\n",
    "logger.debug(f\"{voldata_train.shape=}\")\n",
    "logger.debug(f\"{voldata_val.shape=}\")\n",
    "\n",
    "del voldata\n",
    "\n",
    "## Labels\n",
    "vollabels = read_raw(volume.versioned_labels_path(labels_version))\n",
    "logger.debug(f\"{vollabels.shape=}\")\n",
    "\n",
    "vollabels_train = volume.train_partition.get_volume_partition(vollabels)\n",
    "vollabels_val = volume.val_partition.get_volume_partition(vollabels)\n",
    "\n",
    "logger.debug(f\"{vollabels_train.shape=}\")\n",
    "logger.debug(f\"{vollabels_val.shape=}\")\n",
    "\n",
    "del vollabels"
   ]
  },
  {
   "cell_type": "markdown",
   "metadata": {},
   "source": [
    "# Model"
   ]
  },
  {
   "cell_type": "code",
   "execution_count": 24,
   "metadata": {},
   "outputs": [
    {
     "name": "stdout",
     "output_type": "stream",
     "text": [
      "already deleted (:\n"
     ]
    }
   ],
   "source": [
    "try:\n",
    "    tomo2seg_model\n",
    "except NameError:\n",
    "    print(\"already deleted (:\")\n",
    "else:\n",
    "    del tomo2seg_model"
   ]
  },
  {
   "cell_type": "code",
   "execution_count": 37,
   "metadata": {
    "executionInfo": {
     "elapsed": 590,
     "status": "ok",
     "timestamp": 1602255973613,
     "user": {
      "displayName": "João Paulo Casagrande Bertoldo",
      "photoUrl": "https://lh3.googleusercontent.com/a-/AOh14GioL6iQ5PNE9hm2XaOtZd36rClxQBdpy33-9-QsTUs=s64",
      "userId": "13620585220725745309"
     },
     "user_tz": -120
    },
    "id": "lnPHivbmBhpY"
   },
   "outputs": [
    {
     "name": "stdout",
     "output_type": "stream",
     "text": [
      "WARNING::tomo2seg::{<ipython-input-37-45f8bf04870c>:<module>:040}::[2020-12-11::11:31:23.991]\n",
      "The model is already defined. To create a new one: `del tomo2seg_model`\n",
      "\n",
      "INFO::tomo2seg::{<ipython-input-37-45f8bf04870c>:<module>:043}::[2020-12-11::11:31:23.993]\n",
      "args\n",
      "{   'factory_function': 'tomo2seg.modular_unet.u_net',\n",
      "    'factory_kwargs': {   'convlayer': <ConvLayer.conv3d: 10>,\n",
      "                          'depth': 4,\n",
      "                          'input_shape': (112, 112, 112, 1),\n",
      "                          'nb_filters_0': 12,\n",
      "                          'output_channels': 3,\n",
      "                          'sigma_noise': 0,\n",
      "                          'unet_block_kwargs': {   'batch_norm': True,\n",
      "                                                   'dropout': 0,\n",
      "                                                   'kernel_size': 3,\n",
      "                                                   'res': True},\n",
      "                          'unet_down_kwargs': {'batchnorm': True},\n",
      "                          'unet_up_kwargs': {'batchnorm': True},\n",
      "                          'updown_conv_sampling': True},\n",
      "    'fold': 0,\n",
      "    'master_name': 'unet3d',\n",
      "    'runid': 1607466349,\n",
      "    'version': 'crop112-f12'}\n",
      "\n",
      "INFO::tomo2seg::{<ipython-input-37-45f8bf04870c>:<module>:044}::[2020-12-11::11:31:23.994]\n",
      "tomo2seg_model.name='unet3d.crop112-f12.fold000.1607-466-349'\n",
      "\n"
     ]
    }
   ],
   "source": [
    "crop_shape = (112, 112, 112, 1)  # multiple of 16 (requirement of a 4-level u-net)\n",
    "\n",
    "model_master_name = \"unet3d\"\n",
    "model_version = \"crop112-f12\"\n",
    "\n",
    "model_is_2halfd = False\n",
    "model_is_2d = False\n",
    "\n",
    "model_factory_function = modular_unet.u_net\n",
    "model_factory_kwargs = {\n",
    "    **modular_unet.kwargs_vanilla03,\n",
    "    **dict(\n",
    "        convlayer=modular_unet.ConvLayer.conv3d,\n",
    "        input_shape = crop_shape,\n",
    "        output_channels=n_classes,\n",
    "#         nb_filters_0 = 2,\n",
    "#         nb_filters_0 = 4,\n",
    "#         nb_filters_0 = 8,\n",
    "        nb_filters_0 = 12,\n",
    "#         nb_filters_0 = 16,\n",
    "#         nb_filters_0 = 32,\n",
    "    ),\n",
    "}\n",
    "\n",
    "try:\n",
    "    tomo2seg_model\n",
    "    \n",
    "except NameError:\n",
    "    logger.info(\"Creating a Tomo2SegModel.\")\n",
    "    \n",
    "    tomo2seg_model = Tomo2SegModel(\n",
    "        model_master_name, \n",
    "        model_version, \n",
    "        runid=runid,\n",
    "        factory_function=model_factory_function,\n",
    "        factory_kwargs=model_factory_kwargs,\n",
    "    )\n",
    "                \n",
    "else:\n",
    "    logger.warning(\"The model is already defined. To create a new one: `del tomo2seg_model`\")\n",
    "\n",
    "finally:\n",
    "    logger.info(f\"args\\n{PrettyPrinter(indent=4, compact=False).pformat(asdict(tomo2seg_model))}\")    \n",
    "    logger.info(f\"{tomo2seg_model.name=}\")"
   ]
  },
  {
   "cell_type": "code",
   "execution_count": 32,
   "metadata": {
    "executionInfo": {
     "elapsed": 590,
     "status": "ok",
     "timestamp": 1602255973613,
     "user": {
      "displayName": "João Paulo Casagrande Bertoldo",
      "photoUrl": "https://lh3.googleusercontent.com/a-/AOh14GioL6iQ5PNE9hm2XaOtZd36rClxQBdpy33-9-QsTUs=s64",
      "userId": "13620585220725745309"
     },
     "user_tz": -120
    },
    "id": "lnPHivbmBhpY"
   },
   "outputs": [
    {
     "name": "stdout",
     "output_type": "stream",
     "text": [
      "INFO::tomo2seg::{<ipython-input-32-ec7ef17ce733>:<module>:001}::[2020-12-11::11:26:39.843]\n",
      "Creating the Keras model.\n",
      "\n",
      "WARNING::tomo2seg::{<ipython-input-32-ec7ef17ce733>:<module>:006}::[2020-12-11::11:26:39.846]\n",
      "Training continuation: a model will be loaded.\n",
      "\n",
      "INFO::tomo2seg::{<ipython-input-32-ec7ef17ce733>:<module>:009}::[2020-12-11::11:26:39.847]\n",
      "Using the LATEST model to continue the training.\n",
      "\n",
      "INFO::tomo2seg::{<ipython-input-32-ec7ef17ce733>:<module>:040}::[2020-12-11::11:26:39.848]\n",
      "Loading model unet3d.crop112-f12.fold000.1607-466-349\n",
      "\n",
      "INFO:tensorflow:Reduce to /job:localhost/replica:0/task:0/device:CPU:0 then broadcast to ('/job:localhost/replica:0/task:0/device:CPU:0',).\n",
      "INFO:tensorflow:Reduce to /job:localhost/replica:0/task:0/device:CPU:0 then broadcast to ('/job:localhost/replica:0/task:0/device:CPU:0',).\n",
      "INFO:tensorflow:Reduce to /job:localhost/replica:0/task:0/device:CPU:0 then broadcast to ('/job:localhost/replica:0/task:0/device:CPU:0',).\n",
      "INFO:tensorflow:Reduce to /job:localhost/replica:0/task:0/device:CPU:0 then broadcast to ('/job:localhost/replica:0/task:0/device:CPU:0',).\n",
      "INFO:tensorflow:Reduce to /job:localhost/replica:0/task:0/device:CPU:0 then broadcast to ('/job:localhost/replica:0/task:0/device:CPU:0',).\n",
      "INFO:tensorflow:Reduce to /job:localhost/replica:0/task:0/device:CPU:0 then broadcast to ('/job:localhost/replica:0/task:0/device:CPU:0',).\n",
      "INFO:tensorflow:Reduce to /job:localhost/replica:0/task:0/device:CPU:0 then broadcast to ('/job:localhost/replica:0/task:0/device:CPU:0',).\n",
      "INFO:tensorflow:Reduce to /job:localhost/replica:0/task:0/device:CPU:0 then broadcast to ('/job:localhost/replica:0/task:0/device:CPU:0',).\n",
      "INFO:tensorflow:Reduce to /job:localhost/replica:0/task:0/device:CPU:0 then broadcast to ('/job:localhost/replica:0/task:0/device:CPU:0',).\n",
      "INFO:tensorflow:Reduce to /job:localhost/replica:0/task:0/device:CPU:0 then broadcast to ('/job:localhost/replica:0/task:0/device:CPU:0',).\n",
      "INFO::tomo2seg::{<ipython-input-32-ec7ef17ce733>:<module>:055}::[2020-12-11::11:26:56.375]\n",
      "Compiling the model.\n",
      "\n",
      "DEBUG::tomo2seg::{<ipython-input-32-ec7ef17ce733>:<module>:069}::[2020-12-11::11:26:56.376]\n",
      "loss=<function jaccard2_flat at 0x7fb329f6c310>\n",
      "\n",
      "DEBUG::tomo2seg::{<ipython-input-32-ec7ef17ce733>:<module>:070}::[2020-12-11::11:26:56.376]\n",
      "optimizer=<tensorflow.python.keras.optimizer_v2.adam.Adam object at 0x7fb2206f5520>\n",
      "\n",
      "DEBUG::tomo2seg::{<ipython-input-32-ec7ef17ce733>:<module>:071}::[2020-12-11::11:26:56.377]\n",
      "metrics=[]\n",
      "\n"
     ]
    }
   ],
   "source": [
    "logger.info(\"Creating the Keras model.\")\n",
    "\n",
    "with strategy.scope():\n",
    "    \n",
    "    if is_continuation:\n",
    "        logger.warning(\"Training continuation: a model will be loaded.\")\n",
    "\n",
    "        if continue_from_autosave is None:\n",
    "            logger.info(\"Using the LATEST model to continue the training.\")\n",
    "            load_model_path = tomo2seg_model.model_path\n",
    "        \n",
    "        elif continue_from_autosave == 1:\n",
    "            logger.info(\"Using the AUTOSAVED model to continue the training.\")\n",
    "            load_model_path = tomo2seg_model.autosaved_model_path\n",
    "        \n",
    "        elif continue_from_autosave == 2:\n",
    "            logger.info(\"Using the (best) AUTOSAVED2 model to continue the training.\")\n",
    "            load_model_path = tomo2seg_model.autosaved2_best_model_path\n",
    "        \n",
    "        else:\n",
    "            raise ValueError(f\"{continue_from_autosave=}\")\n",
    "        \n",
    "    elif (\n",
    "        tomo2seg_model.model_path.exists() or\n",
    "        tomo2seg_model.autosaved_model_path.exists()\n",
    "        # todo uncomment me when implemented\n",
    "#             or tomo2seg_model.autosaved2_best_model_path.exists()\n",
    "    ):\n",
    "        logger.error(f\"The model seems to already exist but this is not a continuation. Please, make sure the arguments are correct.\")\n",
    "        raise ValueError(f\"{is_continuation=} {tomo2seg_model.name=}\")\n",
    "    \n",
    "    else:\n",
    "        logger.info(f\"A new model will be instantiated!\")\n",
    "        \n",
    "        \n",
    "    if is_continuation:\n",
    "        \n",
    "        assert load_model_path.exists(), f\"Inconsistent arguments {is_continuation=} {load_model_path=}.\"\n",
    "        \n",
    "        logger.info(f\"Loading model {load_model_path.name}\")\n",
    "        \n",
    "        model = keras.models.load_model(str(load_model_path), compile=False)\n",
    "\n",
    "        assert model.name == tomo2seg_model.name, f\"{model.name=} {tomo2seg_model.name=}\"\n",
    "        \n",
    "    else:\n",
    "        \n",
    "        logger.info(f\"Instantiating a new model with model_factory_function={model_factory_function.__name__}.\")\n",
    "      \n",
    "        model = model_factory_function(\n",
    "            name=tomo2seg_model.name,\n",
    "            **model_factory_kwargs\n",
    "        )\n",
    "\n",
    "    logger.info(\"Compiling the model.\")\n",
    "\n",
    "    # using the avg jaccard is dangerous if one of the classes is too\n",
    "    # underrepresented because it's jaccard will be unstable\n",
    "    loss = tomo2seg_losses.jaccard2_flat\n",
    "    optimizer = optimizers.Adam(lr=.003)\n",
    "    metrics = [\n",
    "#         tomo2seg_losses.jaccard2_macro_avg,\n",
    "#         keras_metrics.Accuracy(),\n",
    "#     ] + [\n",
    "#         tomo2seg_losses.Jaccard2(class_idx)\n",
    "#         for class_idx in range(n_classes)\n",
    "    ]\n",
    "    \n",
    "    logger.debug(f\"{loss=}\")\n",
    "    logger.debug(f\"{optimizer=}\")\n",
    "    logger.debug(f\"{metrics=}\")\n",
    "    \n",
    "    model.compile(loss=loss, optimizer=optimizer, metrics=metrics)\n",
    "    "
   ]
  },
  {
   "cell_type": "code",
   "execution_count": 33,
   "metadata": {
    "executionInfo": {
     "elapsed": 590,
     "status": "ok",
     "timestamp": 1602255973613,
     "user": {
      "displayName": "João Paulo Casagrande Bertoldo",
      "photoUrl": "https://lh3.googleusercontent.com/a-/AOh14GioL6iQ5PNE9hm2XaOtZd36rClxQBdpy33-9-QsTUs=s64",
      "userId": "13620585220725745309"
     },
     "user_tz": -120
    },
    "id": "lnPHivbmBhpY"
   },
   "outputs": [],
   "source": [
    "if not is_continuation:\n",
    "    \n",
    "    logger.info(f\"Saving the model at {tomo2seg_model.model_path=}.\")\n",
    "    \n",
    "    model.save(tomo2seg_model.model_path)\n",
    "\n",
    "    logger.info(f\"Writing the model summary at {tomo2seg_model.summary_path=}.\")\n",
    "    \n",
    "    with tomo2seg_model.summary_path.open(\"w\") as f:\n",
    "        def print_to_txt(line):\n",
    "            f.writelines([line + \"\\n\"])\n",
    "        model.summary(print_fn=print_to_txt, line_length=140)\n",
    "\n",
    "    logger.info(f\"Printing an image of the architecture at {tomo2seg_model.architecture_plot_path=}.\")\n",
    "    \n",
    "    utils.plot_model(model, show_shapes=True, to_file=tomo2seg_model.architecture_plot_path);"
   ]
  },
  {
   "cell_type": "markdown",
   "metadata": {
    "id": "KnsQ7lX0bVRh"
   },
   "source": [
    "# Data crop sequences"
   ]
  },
  {
   "cell_type": "markdown",
   "metadata": {},
   "source": [
    "## Batch size"
   ]
  },
  {
   "cell_type": "code",
   "execution_count": 34,
   "metadata": {},
   "outputs": [
    {
     "name": "stdout",
     "output_type": "stream",
     "text": [
      "DEBUG::tomo2seg::{utils.py:get_model_internal_nvoxel_factor:023}::[2020-12-11::11:27:06.315]\n",
      "input_layer=<tensorflow.python.keras.engine.input_layer.InputLayer object at 0x7fb220653970>\n",
      "\n",
      "DEBUG::tomo2seg::{utils.py:get_model_internal_nvoxel_factor:029}::[2020-12-11::11:27:06.317]\n",
      "input_nvoxels=1404928\n",
      "\n",
      "DEBUG::tomo2seg::{utils.py:get_model_internal_nvoxel_factor:041}::[2020-12-11::11:27:06.319]\n",
      "max_internal_nvoxels=101154816 (101,154,816)\n",
      "\n",
      "DEBUG::tomo2seg::{<ipython-input-34-46fe188ba465>:<module>:003}::[2020-12-11::11:27:06.320]\n",
      "model_internal_nvoxel_factor=72\n",
      "\n",
      "DEBUG::tomo2seg::{<ipython-input-34-46fe188ba465>:<module>:007}::[2020-12-11::11:27:06.321]\n",
      "max_batch_nvoxels=1856000 (1,856,000)\n",
      "\n",
      "DEBUG::tomo2seg::{<ipython-input-34-46fe188ba465>:<module>:011}::[2020-12-11::11:27:06.322]\n",
      "crop_shape=(112, 112, 112, 1) ==> crop_nvoxels=1404928\n",
      "\n",
      "INFO::tomo2seg::{<ipython-input-34-46fe188ba465>:<module>:015}::[2020-12-11::11:27:06.323]\n",
      "batch_size_per_gpu=1\n",
      "\n",
      "WARNING::tomo2seg::{<ipython-input-34-46fe188ba465>:<module>:023}::[2020-12-11::11:27:06.324]\n",
      "override_batch_size_per_gpu=1 given ==> replacing batch_size_per_gpu=1\n",
      "\n",
      "INFO::tomo2seg::{<ipython-input-34-46fe188ba465>:<module>:025}::[2020-12-11::11:27:06.325]\n",
      "n_gpus=2\n",
      "\n",
      "INFO::tomo2seg::{<ipython-input-34-46fe188ba465>:<module>:029}::[2020-12-11::11:27:06.326]\n",
      "batch_size=2\n",
      "\n"
     ]
    }
   ],
   "source": [
    "model_internal_nvoxel_factor = tomo2seg_utils.get_model_internal_nvoxel_factor(model)\n",
    "\n",
    "logger.debug(f\"{model_internal_nvoxel_factor=}\")\n",
    "\n",
    "max_batch_nvoxels = int(np.floor(MAX_INTERNAL_NVOXELS / model_internal_nvoxel_factor))\n",
    "\n",
    "logger.debug(f\"{max_batch_nvoxels=} ({humanize.intcomma(max_batch_nvoxels)})\")\n",
    "\n",
    "crop_nvoxels = functools.reduce(operator.mul, crop_shape)\n",
    "\n",
    "logger.debug(f\"{crop_shape=} ==> {crop_nvoxels=}\")\n",
    "\n",
    "max_batch_size_per_gpu = batch_size_per_gpu = int(np.floor(max_batch_nvoxels / crop_nvoxels))\n",
    "\n",
    "logger.info(f\"{batch_size_per_gpu=}\")\n",
    "\n",
    "if override_batch_size_per_gpu is not None:\n",
    "    \n",
    "    assert override_batch_size_per_gpu > 0, f\"{override_batch_size_per_gpu=}\"\n",
    "    \n",
    "    batch_size_per_gpu = override_batch_size_per_gpu\n",
    "    \n",
    "    logger.warning(f\"{override_batch_size_per_gpu=} given ==> replacing {batch_size_per_gpu=}\")\n",
    "\n",
    "logger.info(f\"{n_gpus=}\")\n",
    "\n",
    "batch_size = batch_size_per_gpu * max(1, n_gpus)\n",
    "\n",
    "logger.info(f\"{batch_size=}\")\n",
    "\n",
    "common_random_state = 143"
   ]
  },
  {
   "cell_type": "markdown",
   "metadata": {},
   "source": [
    "## Train"
   ]
  },
  {
   "cell_type": "code",
   "execution_count": 38,
   "metadata": {},
   "outputs": [
    {
     "name": "stdout",
     "output_type": "stream",
     "text": [
      "DEBUG::tomo2seg::{<ipython-input-38-2fd74f33e73c>:<module>:008}::[2020-12-11::11:31:55.796]\n",
      "metacrop_gen_common_kwargs={'crop_shape': (112, 112, 112, 1), 'common_random_state_seed': 30, 'is_2halfd': False, 'gt_type': <enum 'GT3D'>}\n",
      "\n",
      "DEBUG::tomo2seg::{<ipython-input-38-2fd74f33e73c>:<module>:019}::[2020-12-11::11:31:55.798]\n",
      "vol_crop_seq_common_kwargs={'output_as_2d': False, 'output_as_2halfd': False, 'labels': [0, 1, 2], 'debug__no_data_check': True}\n",
      "\n"
     ]
    }
   ],
   "source": [
    "metacrop_gen_common_kwargs = dict(\n",
    "    crop_shape=crop_shape,\n",
    "    common_random_state_seed=args.random_state_seed,\n",
    "    is_2halfd=model_is_2halfd,\n",
    "    gt_type=volume_sequence.GT2D if model_is_2d else volume_sequence.GT3D,\n",
    ")\n",
    "\n",
    "logger.debug(f\"{metacrop_gen_common_kwargs=}\")\n",
    "\n",
    "vol_crop_seq_common_kwargs = dict(\n",
    "    output_as_2d=model_is_2d,\n",
    "    output_as_2halfd=model_is_2halfd,\n",
    "    labels = volume.metadata.labels,\n",
    "\n",
    "    # not automated...\n",
    "    debug__no_data_check=True,\n",
    ")\n",
    "\n",
    "logger.debug(f\"{vol_crop_seq_common_kwargs=}\")"
   ]
  },
  {
   "cell_type": "code",
   "execution_count": 41,
   "metadata": {},
   "outputs": [
    {
     "name": "stdout",
     "output_type": "stream",
     "text": [
      "INFO::tomo2seg::{volume_sequence.py:build_from_volume_crop_shapes:438}::[2020-12-11::11:35:30.492]\n",
      "Built UniformGridPosition from volume_shape=(1300, 1040, 1300) and crop_shape=(112, 112, 112, 1) ==> {'x_range': (0, 1189), 'y_range': (0, 929), 'z_range': (0, 1189)}\n",
      "\n",
      "DEBUG::tomo2seg::{volume_sequence.py:__post_init__:400}::[2020-12-11::11:35:30.493]\n",
      "UniformGridPosition ==> npositions=1313346809 (1,313,346,809)\n",
      "\n",
      "WARNING::tomo2seg::{volume_sequence.py:__post_init__:695}::[2020-12-11::11:35:30.495]\n",
      "Initializing ET3DConstantEverywhere with a UniformGridPosition.\n",
      "The {x, y, z}_range values will be overwritten.\n",
      "\n",
      "WARNING::tomo2seg::{volume_sequence.py:__post_init__:695}::[2020-12-11::11:35:30.496]\n",
      "Initializing GTUniformEverywhere with a UniformGridPosition.\n",
      "The {x, y, z}_range values will be overwritten.\n",
      "\n",
      "WARNING::tomo2seg::{volume_sequence.py:__post_init__:695}::[2020-12-11::11:35:30.498]\n",
      "Initializing VSUniformEverywhere with a UniformGridPosition.\n",
      "The {x, y, z}_range values will be overwritten.\n",
      "\n",
      "DEBUG::tomo2seg::{volume_sequence.py:__post_init__:1353}::[2020-12-11::11:35:30.499]\n",
      "Initializing VolumeCropSequence.\n",
      "\n",
      "WARNING::tomo2seg::{volume_sequence.py:__post_init__:1385}::[2020-12-11::11:35:30.500]\n",
      "No meta crops history file path given. The randomly generated crops will not be saved!\n",
      "\n"
     ]
    }
   ],
   "source": [
    "data = voldata_train\n",
    "labels = vollabels_train\n",
    "\n",
    "volume_shape = data.shape\n",
    "\n",
    "crop_seq_train = VolumeCropSequence(\n",
    "    data_volume=data,\n",
    "    labels_volume=labels,\n",
    "    \n",
    "    batch_size=batch_size,\n",
    "    \n",
    "    meta_crop_generator=MetaCrop3DGenerator.build_setup_train00(\n",
    "        volume_shape=volume_shape,\n",
    "        **metacrop_gen_common_kwargs\n",
    "    ),\n",
    "    \n",
    "    # this volume cropper only returns random crops, \n",
    "    # so the number of crops per epoch/batch is w/e i want\n",
    "    epoch_size=10,\n",
    "    \n",
    "    **vol_crop_seq_common_kwargs,\n",
    ")"
   ]
  },
  {
   "cell_type": "markdown",
   "metadata": {},
   "source": [
    "## Val"
   ]
  },
  {
   "cell_type": "code",
   "execution_count": 43,
   "metadata": {},
   "outputs": [
    {
     "name": "stdout",
     "output_type": "stream",
     "text": [
      "DEBUG::tomo2seg::{<ipython-input-43-844642c1b4a6>:<module>:010}::[2020-12-11::11:36:57.010]\n",
      "val_batch_size=2\n",
      "\n",
      "INFO::tomo2seg::{volume_sequence.py:build_min_overlap:506}::[2020-12-11::11:36:57.011]\n",
      "Building SequentialGridPosition with minimal overlap (smallest n_steps in each directions) n_steps={'n_steps_x': 12, 'n_steps_y': 10, 'n_steps_z': 3}.\n",
      "\n",
      "WARNING::tomo2seg::{volume_sequence.py:build_min_overlap:509}::[2020-12-11::11:36:57.012]\n",
      "n_steps_kwargs={'n_steps_z': 8} was given --> effective n_steps={'n_steps_x': 12, 'n_steps_y': 10, 'n_steps_z': 8}\n",
      "\n",
      "INFO::tomo2seg::{volume_sequence.py:build_from_volume_crop_shapes:438}::[2020-12-11::11:36:57.013]\n",
      "Built SequentialGridPosition from volume_shape=(1300, 1040, 300) and crop_shape=(112, 112, 112, 1) ==> {'x_range': (0, 1189), 'y_range': (0, 929), 'z_range': (0, 189)}\n",
      "\n",
      "INFO::tomo2seg::{volume_sequence.py:__post_init__:486}::[2020-12-11::11:36:57.018]\n",
      "The SequentialGridPosition has len(self.positions)=960 different positions (therefore crops).\n",
      "\n",
      "WARNING::tomo2seg::{volume_sequence.py:__post_init__:695}::[2020-12-11::11:36:57.020]\n",
      "Initializing ET3DConstantEverywhere with a SequentialGridPosition.\n",
      "The {x, y, z}_range values will be overwritten.\n",
      "\n",
      "WARNING::tomo2seg::{volume_sequence.py:__post_init__:695}::[2020-12-11::11:36:57.020]\n",
      "Initializing GTConstantEverywhere with a SequentialGridPosition.\n",
      "The {x, y, z}_range values will be overwritten.\n",
      "\n",
      "WARNING::tomo2seg::{volume_sequence.py:__post_init__:695}::[2020-12-11::11:36:57.021]\n",
      "Initializing VSConstantEverywhere with a SequentialGridPosition.\n",
      "The {x, y, z}_range values will be overwritten.\n",
      "\n",
      "DEBUG::tomo2seg::{volume_sequence.py:__post_init__:1353}::[2020-12-11::11:36:57.022]\n",
      "Initializing VolumeCropSequence.\n",
      "\n",
      "WARNING::tomo2seg::{volume_sequence.py:__post_init__:1385}::[2020-12-11::11:36:57.023]\n",
      "No meta crops history file path given. The randomly generated crops will not be saved!\n",
      "\n"
     ]
    }
   ],
   "source": [
    "data = voldata_val\n",
    "labels = vollabels_val\n",
    "\n",
    "volume_shape = data.shape\n",
    "\n",
    "# the validation has no reproducibility issues\n",
    "# so let's push the GPUs (:\n",
    "val_batch_size = max_batch_size_per_gpu * n_gpus\n",
    "\n",
    "logger.debug(f\"{val_batch_size=}\")\n",
    "\n",
    "grid_pos_gen = SequentialGridPosition.build_min_overlap(\n",
    "    volume_shape=volume_shape, \n",
    "    crop_shape=crop_shape,\n",
    "    # reduce the total number of crops\n",
    "#         n_steps_x=11,\n",
    "#         n_steps_y=11,\n",
    "        n_steps_z=8,\n",
    ")\n",
    "\n",
    "crop_seq_val = VolumeCropSequence(\n",
    "    data_volume=data,\n",
    "    labels_volume=labels,\n",
    "    \n",
    "    batch_size=val_batch_size,\n",
    "    \n",
    "    # go through all the crops in validation\n",
    "    epoch_size=len(grid_pos_gen),      \n",
    "    \n",
    "    # data augmentation\n",
    "    meta_crop_generator=MetaCrop3DGenerator.build_setup_val00(\n",
    "        volume_shape=volume_shape,\n",
    "        grid_pos_gen=grid_pos_gen,\n",
    "        **metacrop_gen_common_kwargs,\n",
    "    ),\n",
    "    \n",
    "    **vol_crop_seq_common_kwargs,\n",
    ")"
   ]
  },
  {
   "cell_type": "markdown",
   "metadata": {
    "id": "YRsccmAxOX7v"
   },
   "source": [
    "# Callbacks"
   ]
  },
  {
   "cell_type": "code",
   "execution_count": 44,
   "metadata": {
    "executionInfo": {
     "elapsed": 8834,
     "status": "aborted",
     "timestamp": 1602255923910,
     "user": {
      "displayName": "João Paulo Casagrande Bertoldo",
      "photoUrl": "https://lh3.googleusercontent.com/a-/AOh14GioL6iQ5PNE9hm2XaOtZd36rClxQBdpy33-9-QsTUs=s64",
      "userId": "13620585220725745309"
     },
     "user_tz": -120
    },
    "id": "zRp2b17np-48"
   },
   "outputs": [
    {
     "name": "stdout",
     "output_type": "stream",
     "text": [
      "DEBUG::tomo2seg::{<ipython-input-44-be8d862a0547>:<module>:009}::[2020-12-11::11:37:25.912]\n",
      "autosave_cb=<tensorflow.python.keras.callbacks.ModelCheckpoint object at 0x7fb2204efbb0>\n",
      "\n"
     ]
    }
   ],
   "source": [
    "autosave_cb = keras_callbacks.ModelCheckpoint(\n",
    "    tomo2seg_model.autosaved2_model_path_str, \n",
    "    monitor=\"val_loss\", \n",
    "    verbose=1, \n",
    "    save_best_only=True, \n",
    "    mode=\"min\",\n",
    ")\n",
    "\n",
    "logger.debug(f\"{autosave_cb=}\")"
   ]
  },
  {
   "cell_type": "code",
   "execution_count": 45,
   "metadata": {
    "executionInfo": {
     "elapsed": 8834,
     "status": "aborted",
     "timestamp": 1602255923910,
     "user": {
      "displayName": "João Paulo Casagrande Bertoldo",
      "photoUrl": "https://lh3.googleusercontent.com/a-/AOh14GioL6iQ5PNE9hm2XaOtZd36rClxQBdpy33-9-QsTUs=s64",
      "userId": "13620585220725745309"
     },
     "user_tz": -120
    },
    "id": "zRp2b17np-48"
   },
   "outputs": [
    {
     "name": "stdout",
     "output_type": "stream",
     "text": [
      "INFO::tomo2seg::{<ipython-input-45-e64fcd7ac3fc>:<module>:007}::[2020-12-11::11:37:32.466]\n",
      "Creating a new history callback.\n",
      "\n",
      "INFO::tomo2seg::{callbacks.py:__init__:051}::[2020-12-11::11:37:32.477]\n",
      "Loading history from csv self.csv_path=PosixPath('/home/users/jcasagrande/projects/tomo2seg/data/models/unet3d/unet3d.crop112-f12.fold000.1607-466-349/history.csv').\n",
      "\n",
      "DEBUG::tomo2seg::{<ipython-input-45-e64fcd7ac3fc>:<module>:040}::[2020-12-11::11:37:32.496]\n",
      "history_cb=<tomo2seg.callbacks.History object at 0x7fb220598ac0>\n",
      "\n"
     ]
    }
   ],
   "source": [
    "# this is important because sometimes i update things in the notebook\n",
    "# so i need to make sure that the objects in the history cb are updated\n",
    "try:\n",
    "    history_cb\n",
    "    \n",
    "except NameError:\n",
    "    logger.info(\"Creating a new history callback.\")\n",
    "    \n",
    "    history_cb = tomo2seg_callbacks.History(\n",
    "        optimizer=model.optimizer,\n",
    "        crop_seq_train=crop_seq_train,\n",
    "        crop_seq_val=crop_seq_val,\n",
    "        backup=1,\n",
    "        csv_path=tomo2seg_model.history_path,\n",
    "    )\n",
    "    \n",
    "else:\n",
    "    logger.warning(\"The history callback already exists!\")\n",
    "    \n",
    "    history_df = history_cb.dataframe\n",
    "\n",
    "    try:\n",
    "        history_df_temp = pd.read_csv(tomo2seg_model.history_path)\n",
    "        # keep the longest one\n",
    "        history_df = history_df if history_df.shape[0] >= history_df_temp.shape[0] else history_df_temp\n",
    "        del history_df_temp\n",
    "    \n",
    "    except FileNotFoundError:\n",
    "        logger.info(\"History hasn't been saved yet.\")\n",
    "        \n",
    "    except pd.errors.EmptyDataError:\n",
    "        logger.info(\"History hasn't been saved yet.\")\n",
    "        \n",
    "finally:\n",
    "    # make sure the correct objects are linked \n",
    "    history_cb.optimizer = model.optimizer\n",
    "    history_cb.crop_seq_train = crop_seq_train\n",
    "    history_cb.crop_seq_val = crop_seq_val\n",
    "\n",
    "logger.debug(f\"{history_cb=}\")"
   ]
  },
  {
   "cell_type": "code",
   "execution_count": 46,
   "metadata": {},
   "outputs": [
    {
     "name": "stdout",
     "output_type": "stream",
     "text": [
      "DEBUG::tomo2seg::{<ipython-input-46-81847b52d74e>:<module>:001}::[2020-12-11::11:37:40.458]\n",
      "history_cb.dataframe.index.size=326\n",
      "\n",
      "DEBUG::tomo2seg::{<ipython-input-46-81847b52d74e>:<module>:002}::[2020-12-11::11:37:40.460]\n",
      "history_cb.last_epoch=325\n",
      "\n"
     ]
    }
   ],
   "source": [
    "logger.debug(f\"{history_cb.dataframe.index.size=}\")\n",
    "logger.debug(f\"{history_cb.last_epoch=}\")"
   ]
  },
  {
   "cell_type": "code",
   "execution_count": 47,
   "metadata": {
    "executionInfo": {
     "elapsed": 8834,
     "status": "aborted",
     "timestamp": 1602255923910,
     "user": {
      "displayName": "João Paulo Casagrande Bertoldo",
      "photoUrl": "https://lh3.googleusercontent.com/a-/AOh14GioL6iQ5PNE9hm2XaOtZd36rClxQBdpy33-9-QsTUs=s64",
      "userId": "13620585220725745309"
     },
     "user_tz": -120
    },
    "id": "zRp2b17np-48"
   },
   "outputs": [
    {
     "name": "stdout",
     "output_type": "stream",
     "text": [
      "DEBUG::tomo2seg::{<ipython-input-47-6edf00a82883>:<module>:005}::[2020-12-11::11:37:51.281]\n",
      "history_plot_cb=HistoryPlot(history_callback=<tomo2seg.callbacks.History object at 0x7fb220598ac0>, save_path=PosixPath('/home/users/jcasagrande/projects/tomo2seg/data/models/unet3d/unet3d.crop112-f12.fold000.1607-466-349/train-hist-plot-wip.png'))\n",
      "\n"
     ]
    }
   ],
   "source": [
    "history_plot_cb = tomo2seg_callbacks.HistoryPlot(\n",
    "    history_callback=history_cb,\n",
    "    save_path=tomo2seg_model.train_history_plot_wip_path\n",
    ")\n",
    "logger.debug(f\"{history_plot_cb=}\")"
   ]
  },
  {
   "cell_type": "code",
   "execution_count": 48,
   "metadata": {
    "executionInfo": {
     "elapsed": 8834,
     "status": "aborted",
     "timestamp": 1602255923910,
     "user": {
      "displayName": "João Paulo Casagrande Bertoldo",
      "photoUrl": "https://lh3.googleusercontent.com/a-/AOh14GioL6iQ5PNE9hm2XaOtZd36rClxQBdpy33-9-QsTUs=s64",
      "userId": "13620585220725745309"
     },
     "user_tz": -120
    },
    "id": "zRp2b17np-48"
   },
   "outputs": [
    {
     "name": "stdout",
     "output_type": "stream",
     "text": [
      "INFO::tomo2seg::{<ipython-input-48-1b2efaf987e7>:<module>:001}::[2020-12-11::11:37:56.205]\n",
      "Setting up early stop with args.early_stop_mode=<EarlyStopMode.no_early_stop: 0>\n",
      "\n"
     ]
    }
   ],
   "source": [
    "logger.info(f\"Setting up early stop with {args.early_stop_mode=}\")\n",
    "\n",
    "if args.early_stop_mode == Args.EarlyStopMode.no_early_stop:\n",
    "    pass\n",
    "\n",
    "else:\n",
    "    raise NotImplementedError(f\"{args.early_stop_mode=}\")\n",
    "#     # todo modify the early stopping to take more conditions (don't stop too early before it doesnt break the jaccard2=.32)\n",
    "#     early_stop_cb = keras_callbacks.EarlyStopping(  \n",
    "#         monitor='val_loss', \n",
    "#         min_delta=.1 / 100, \n",
    "#         patience=50,\n",
    "#         verbose=2, \n",
    "#         mode='auto',\n",
    "#         baseline=.71,  # 0th-order classifier\n",
    "#         restore_best_weights=False,\n",
    "#     )"
   ]
  },
  {
   "cell_type": "markdown",
   "metadata": {
    "id": "7kYnLzlFdDeY"
   },
   "source": [
    "# Summary before training\n",
    "\n",
    "stuff that i use after the training but i want it to appear in the \n"
   ]
  },
  {
   "cell_type": "markdown",
   "metadata": {},
   "source": [
    "mode## Metadata\n",
    "\n",
    "todo put this back to work\n",
    "\n",
    "## Volume slices\n",
    "\n",
    "todo do this in a notebook\n",
    "\n",
    "## Generator samples\n",
    "\n",
    "todo do this in a notebook\n"
   ]
  },
  {
   "cell_type": "markdown",
   "metadata": {
    "id": "WuEmT2AZODXi"
   },
   "source": [
    "# Training\n"
   ]
  },
  {
   "cell_type": "markdown",
   "metadata": {},
   "source": [
    "## Teeth log lr schedule"
   ]
  },
  {
   "cell_type": "code",
   "execution_count": 50,
   "metadata": {},
   "outputs": [
    {
     "name": "stdout",
     "output_type": "stream",
     "text": [
      "INFO::tomo2seg::{schedule.py:__post_init__:071}::[2020-12-11::11:38:36.443]\n",
      "LogSpaceSchedule ==> self.n=10\n",
      "\n",
      "INFO::tomo2seg::{schedule.py:__post_init__:071}::[2020-12-11::11:38:36.445]\n",
      "LogSpaceSchedule ==> self.n=30\n",
      "\n",
      "INFO::tomo2seg::{schedule.py:__post_init__:071}::[2020-12-11::11:38:36.446]\n",
      "LogSpaceSchedule ==> self.n=20\n",
      "\n",
      "INFO::tomo2seg::{schedule.py:__post_init__:071}::[2020-12-11::11:38:36.447]\n",
      "LogSpaceSchedule ==> self.n=40\n",
      "\n",
      "INFO::tomo2seg::{schedule.py:__post_init__:071}::[2020-12-11::11:38:36.448]\n",
      "LogSpaceSchedule ==> self.n=20\n",
      "\n",
      "INFO::tomo2seg::{schedule.py:__post_init__:071}::[2020-12-11::11:38:36.449]\n",
      "LogSpaceSchedule ==> self.n=40\n",
      "\n",
      "INFO::tomo2seg::{schedule.py:__post_init__:071}::[2020-12-11::11:38:36.450]\n",
      "LogSpaceSchedule ==> self.n=100\n",
      "\n",
      "INFO::tomo2seg::{schedule.py:__post_init__:107}::[2020-12-11::11:38:36.452]\n",
      "ComposedSchedule ==> self.n=260\n",
      "\n",
      "INFO::tomo2seg::{<ipython-input-50-6d0c3ba87163>:<module>:006}::[2020-12-11::11:38:36.453]\n",
      "lr_schedule_cb.schedule.range=(0, 260)\n",
      "\n"
     ]
    }
   ],
   "source": [
    "lr_schedule_cb = keras_callbacks.LearningRateScheduler(\n",
    "    schedule=(schedule := tomo2seg_schedule.get_schedule00()),\n",
    "    verbose=2,\n",
    ")\n",
    "\n",
    "logger.info(f\"{lr_schedule_cb.schedule.range=}\")"
   ]
  },
  {
   "cell_type": "code",
   "execution_count": 51,
   "metadata": {},
   "outputs": [
    {
     "name": "stdout",
     "output_type": "stream",
     "text": [
      "DEBUG::tomo2seg::{<ipython-input-51-c16af9d5fdc3>:<module>:019}::[2020-12-11::11:38:39.628]\n",
      "using callback TerminateOnNaN\n",
      "\n",
      "DEBUG::tomo2seg::{<ipython-input-51-c16af9d5fdc3>:<module>:019}::[2020-12-11::11:38:39.629]\n",
      "using callback ModelCheckpoint\n",
      "\n",
      "DEBUG::tomo2seg::{<ipython-input-51-c16af9d5fdc3>:<module>:019}::[2020-12-11::11:38:39.631]\n",
      "using callback History\n",
      "\n",
      "DEBUG::tomo2seg::{<ipython-input-51-c16af9d5fdc3>:<module>:019}::[2020-12-11::11:38:39.632]\n",
      "using callback HistoryPlot\n",
      "\n",
      "DEBUG::tomo2seg::{<ipython-input-51-c16af9d5fdc3>:<module>:019}::[2020-12-11::11:38:39.632]\n",
      "using callback LearningRateScheduler\n",
      "\n"
     ]
    }
   ],
   "source": [
    "callbacks = [\n",
    "    keras_callbacks.TerminateOnNaN(),\n",
    "    autosave_cb,\n",
    "    history_cb,\n",
    "    history_plot_cb,\n",
    "    lr_schedule_cb,\n",
    "]\n",
    "\n",
    "try:\n",
    "    early_stop_cb\n",
    "\n",
    "except NameError:\n",
    "    pass\n",
    "\n",
    "else:\n",
    "    callbacks.append(early_stop_cb)\n",
    "\n",
    "for cb in callbacks:\n",
    "    logger.debug(f\"using callback {cb.__class__.__name__}\")"
   ]
  },
  {
   "cell_type": "code",
   "execution_count": 52,
   "metadata": {},
   "outputs": [
    {
     "name": "stdout",
     "output_type": "stream",
     "text": [
      "\n",
      "Epoch 00327: LearningRateScheduler reducing learning rate to 1e-05.\n",
      "Epoch 327/400\n",
      "INFO:tensorflow:batch_all_reduce: 142 all-reduces with algorithm = nccl, num_packs = 1\n",
      "INFO:tensorflow:batch_all_reduce: 142 all-reduces with algorithm = nccl, num_packs = 1\n",
      "\n",
      "Epoch 00327: val_loss improved from inf to 0.01828, saving model to /home/users/jcasagrande/projects/tomo2seg/data/models/unet3d/unet3d.crop112-f12.fold000.1607-466-349/unet3d.crop112-f12.fold000.1607-466-349.autosaved.327-0.0183.hdf5\n",
      "INFO::tomo2seg::{callbacks.py:on_epoch_end:110}::[2020-12-11::11:53:42.865]\n",
      "Saving backup of the training history epoch=326 self.csv_path=PosixPath('/home/users/jcasagrande/projects/tomo2seg/data/models/unet3d/unet3d.crop112-f12.fold000.1607-466-349/history.csv')\n",
      "\n",
      "DEBUG::tomo2seg::{viz.py:plot:297}::[2020-12-11::11:53:43.047]\n",
      "TrainingHistoryDisplay.plot plotting loss\n",
      "\n",
      "INFO::tomo2seg::{viz.py:mark_min_values:392}::[2020-12-11::11:53:43.108]\n",
      "train: argmin=215 --> min=0.0147\n",
      "\n",
      "INFO::tomo2seg::{viz.py:mark_min_values:392}::[2020-12-11::11:53:43.114]\n",
      "val: argmin=311 --> min=0.018\n",
      "\n",
      "10/10 - 434s - loss: 0.0165 - val_loss: 0.0183 - lr: 1.0000e-05\n",
      "\n",
      "Epoch 00328: LearningRateScheduler reducing learning rate to 1e-05.\n",
      "Epoch 328/400\n",
      "\n",
      "Epoch 00328: val_loss improved from 0.01828 to 0.01827, saving model to /home/users/jcasagrande/projects/tomo2seg/data/models/unet3d/unet3d.crop112-f12.fold000.1607-466-349/unet3d.crop112-f12.fold000.1607-466-349.autosaved.328-0.0183.hdf5\n",
      "INFO::tomo2seg::{callbacks.py:on_epoch_end:110}::[2020-12-11::12:00:56.772]\n",
      "Saving backup of the training history epoch=327 self.csv_path=PosixPath('/home/users/jcasagrande/projects/tomo2seg/data/models/unet3d/unet3d.crop112-f12.fold000.1607-466-349/history.csv')\n",
      "\n",
      "DEBUG::tomo2seg::{viz.py:plot:297}::[2020-12-11::12:00:56.882]\n",
      "TrainingHistoryDisplay.plot plotting loss\n",
      "\n",
      "INFO::tomo2seg::{viz.py:mark_min_values:392}::[2020-12-11::12:00:56.928]\n",
      "train: argmin=215 --> min=0.0147\n",
      "\n",
      "INFO::tomo2seg::{viz.py:mark_min_values:392}::[2020-12-11::12:00:56.931]\n",
      "val: argmin=311 --> min=0.018\n",
      "\n",
      "10/10 - 432s - loss: 0.0150 - val_loss: 0.0183 - lr: 1.0000e-05\n",
      "\n",
      "Epoch 00329: LearningRateScheduler reducing learning rate to 1e-05.\n",
      "Epoch 329/400\n",
      "\n",
      "Epoch 00329: val_loss improved from 0.01827 to 0.01824, saving model to /home/users/jcasagrande/projects/tomo2seg/data/models/unet3d/unet3d.crop112-f12.fold000.1607-466-349/unet3d.crop112-f12.fold000.1607-466-349.autosaved.329-0.0182.hdf5\n",
      "INFO::tomo2seg::{callbacks.py:on_epoch_end:110}::[2020-12-11::12:08:11.067]\n",
      "Saving backup of the training history epoch=328 self.csv_path=PosixPath('/home/users/jcasagrande/projects/tomo2seg/data/models/unet3d/unet3d.crop112-f12.fold000.1607-466-349/history.csv')\n",
      "\n",
      "DEBUG::tomo2seg::{viz.py:plot:297}::[2020-12-11::12:08:11.164]\n",
      "TrainingHistoryDisplay.plot plotting loss\n",
      "\n",
      "INFO::tomo2seg::{viz.py:mark_min_values:392}::[2020-12-11::12:08:11.201]\n",
      "train: argmin=215 --> min=0.0147\n",
      "\n",
      "INFO::tomo2seg::{viz.py:mark_min_values:392}::[2020-12-11::12:08:11.204]\n",
      "val: argmin=311 --> min=0.018\n",
      "\n",
      "10/10 - 432s - loss: 0.0177 - val_loss: 0.0182 - lr: 1.0000e-05\n",
      "\n",
      "Epoch 00330: LearningRateScheduler reducing learning rate to 1e-05.\n",
      "Epoch 330/400\n",
      "\n",
      "Epoch 00330: val_loss did not improve from 0.01824\n",
      "INFO::tomo2seg::{callbacks.py:on_epoch_end:110}::[2020-12-11::12:15:23.652]\n",
      "Saving backup of the training history epoch=329 self.csv_path=PosixPath('/home/users/jcasagrande/projects/tomo2seg/data/models/unet3d/unet3d.crop112-f12.fold000.1607-466-349/history.csv')\n",
      "\n",
      "DEBUG::tomo2seg::{viz.py:plot:297}::[2020-12-11::12:15:23.769]\n",
      "TrainingHistoryDisplay.plot plotting loss\n",
      "\n",
      "INFO::tomo2seg::{viz.py:mark_min_values:392}::[2020-12-11::12:15:23.814]\n",
      "train: argmin=215 --> min=0.0147\n",
      "\n",
      "INFO::tomo2seg::{viz.py:mark_min_values:392}::[2020-12-11::12:15:23.817]\n",
      "val: argmin=311 --> min=0.018\n",
      "\n",
      "10/10 - 430s - loss: 0.0177 - val_loss: 0.0183 - lr: 1.0000e-05\n",
      "\n",
      "Epoch 00331: LearningRateScheduler reducing learning rate to 1e-05.\n",
      "Epoch 331/400\n",
      "\n",
      "Epoch 00331: val_loss did not improve from 0.01824\n",
      "INFO::tomo2seg::{callbacks.py:on_epoch_end:110}::[2020-12-11::12:22:34.526]\n",
      "Saving backup of the training history epoch=330 self.csv_path=PosixPath('/home/users/jcasagrande/projects/tomo2seg/data/models/unet3d/unet3d.crop112-f12.fold000.1607-466-349/history.csv')\n",
      "\n",
      "DEBUG::tomo2seg::{viz.py:plot:297}::[2020-12-11::12:22:34.639]\n",
      "TrainingHistoryDisplay.plot plotting loss\n",
      "\n",
      "INFO::tomo2seg::{viz.py:mark_min_values:392}::[2020-12-11::12:22:34.685]\n",
      "train: argmin=215 --> min=0.0147\n",
      "\n",
      "INFO::tomo2seg::{viz.py:mark_min_values:392}::[2020-12-11::12:22:34.688]\n",
      "val: argmin=311 --> min=0.018\n",
      "\n",
      "10/10 - 429s - loss: 0.0174 - val_loss: 0.0183 - lr: 1.0000e-05\n",
      "\n",
      "Epoch 00332: LearningRateScheduler reducing learning rate to 1e-05.\n",
      "Epoch 332/400\n",
      "\n",
      "Epoch 00332: val_loss did not improve from 0.01824\n",
      "INFO::tomo2seg::{callbacks.py:on_epoch_end:110}::[2020-12-11::12:29:45.313]\n",
      "Saving backup of the training history epoch=331 self.csv_path=PosixPath('/home/users/jcasagrande/projects/tomo2seg/data/models/unet3d/unet3d.crop112-f12.fold000.1607-466-349/history.csv')\n",
      "\n",
      "DEBUG::tomo2seg::{viz.py:plot:297}::[2020-12-11::12:29:45.405]\n",
      "TrainingHistoryDisplay.plot plotting loss\n",
      "\n",
      "INFO::tomo2seg::{viz.py:mark_min_values:392}::[2020-12-11::12:29:45.440]\n",
      "train: argmin=215 --> min=0.0147\n",
      "\n",
      "INFO::tomo2seg::{viz.py:mark_min_values:392}::[2020-12-11::12:29:45.443]\n",
      "val: argmin=311 --> min=0.018\n",
      "\n",
      "10/10 - 429s - loss: 0.0169 - val_loss: 0.0183 - lr: 1.0000e-05\n",
      "\n",
      "Epoch 00333: LearningRateScheduler reducing learning rate to 1e-05.\n",
      "Epoch 333/400\n",
      "\n",
      "Epoch 00333: val_loss improved from 0.01824 to 0.01822, saving model to /home/users/jcasagrande/projects/tomo2seg/data/models/unet3d/unet3d.crop112-f12.fold000.1607-466-349/unet3d.crop112-f12.fold000.1607-466-349.autosaved.333-0.0182.hdf5\n",
      "INFO::tomo2seg::{callbacks.py:on_epoch_end:110}::[2020-12-11::12:36:58.505]\n",
      "Saving backup of the training history epoch=332 self.csv_path=PosixPath('/home/users/jcasagrande/projects/tomo2seg/data/models/unet3d/unet3d.crop112-f12.fold000.1607-466-349/history.csv')\n",
      "\n",
      "DEBUG::tomo2seg::{viz.py:plot:297}::[2020-12-11::12:36:58.599]\n",
      "TrainingHistoryDisplay.plot plotting loss\n",
      "\n",
      "INFO::tomo2seg::{viz.py:mark_min_values:392}::[2020-12-11::12:36:58.641]\n",
      "train: argmin=215 --> min=0.0147\n",
      "\n",
      "INFO::tomo2seg::{viz.py:mark_min_values:392}::[2020-12-11::12:36:58.644]\n",
      "val: argmin=311 --> min=0.018\n",
      "\n",
      "10/10 - 431s - loss: 0.0165 - val_loss: 0.0182 - lr: 1.0000e-05\n",
      "\n",
      "Epoch 00334: LearningRateScheduler reducing learning rate to 1e-05.\n",
      "Epoch 334/400\n",
      "\n",
      "Epoch 00334: val_loss improved from 0.01822 to 0.01818, saving model to /home/users/jcasagrande/projects/tomo2seg/data/models/unet3d/unet3d.crop112-f12.fold000.1607-466-349/unet3d.crop112-f12.fold000.1607-466-349.autosaved.334-0.0182.hdf5\n",
      "INFO::tomo2seg::{callbacks.py:on_epoch_end:110}::[2020-12-11::12:44:12.065]\n",
      "Saving backup of the training history epoch=333 self.csv_path=PosixPath('/home/users/jcasagrande/projects/tomo2seg/data/models/unet3d/unet3d.crop112-f12.fold000.1607-466-349/history.csv')\n",
      "\n",
      "DEBUG::tomo2seg::{viz.py:plot:297}::[2020-12-11::12:44:12.180]\n",
      "TrainingHistoryDisplay.plot plotting loss\n",
      "\n",
      "INFO::tomo2seg::{viz.py:mark_min_values:392}::[2020-12-11::12:44:12.228]\n",
      "train: argmin=215 --> min=0.0147\n",
      "\n",
      "INFO::tomo2seg::{viz.py:mark_min_values:392}::[2020-12-11::12:44:12.231]\n",
      "val: argmin=311 --> min=0.018\n",
      "\n",
      "10/10 - 432s - loss: 0.0179 - val_loss: 0.0182 - lr: 1.0000e-05\n",
      "\n",
      "Epoch 00335: LearningRateScheduler reducing learning rate to 1e-05.\n",
      "Epoch 335/400\n",
      "\n",
      "Epoch 00335: val_loss did not improve from 0.01818\n",
      "INFO::tomo2seg::{callbacks.py:on_epoch_end:110}::[2020-12-11::12:51:22.678]\n",
      "Saving backup of the training history epoch=334 self.csv_path=PosixPath('/home/users/jcasagrande/projects/tomo2seg/data/models/unet3d/unet3d.crop112-f12.fold000.1607-466-349/history.csv')\n",
      "\n",
      "DEBUG::tomo2seg::{viz.py:plot:297}::[2020-12-11::12:51:22.786]\n",
      "TrainingHistoryDisplay.plot plotting loss\n",
      "\n",
      "INFO::tomo2seg::{viz.py:mark_min_values:392}::[2020-12-11::12:51:22.843]\n",
      "train: argmin=215 --> min=0.0147\n",
      "\n",
      "INFO::tomo2seg::{viz.py:mark_min_values:392}::[2020-12-11::12:51:22.846]\n",
      "val: argmin=311 --> min=0.018\n",
      "\n",
      "10/10 - 429s - loss: 0.0173 - val_loss: 0.0182 - lr: 1.0000e-05\n",
      "\n",
      "Epoch 00336: LearningRateScheduler reducing learning rate to 1e-05.\n",
      "Epoch 336/400\n",
      "\n",
      "Epoch 00336: val_loss did not improve from 0.01818\n",
      "INFO::tomo2seg::{callbacks.py:on_epoch_end:110}::[2020-12-11::12:58:33.454]\n",
      "Saving backup of the training history epoch=335 self.csv_path=PosixPath('/home/users/jcasagrande/projects/tomo2seg/data/models/unet3d/unet3d.crop112-f12.fold000.1607-466-349/history.csv')\n",
      "\n",
      "DEBUG::tomo2seg::{viz.py:plot:297}::[2020-12-11::12:58:33.555]\n",
      "TrainingHistoryDisplay.plot plotting loss\n",
      "\n",
      "INFO::tomo2seg::{viz.py:mark_min_values:392}::[2020-12-11::12:58:33.612]\n",
      "train: argmin=215 --> min=0.0147\n",
      "\n",
      "INFO::tomo2seg::{viz.py:mark_min_values:392}::[2020-12-11::12:58:33.615]\n",
      "val: argmin=311 --> min=0.018\n",
      "\n",
      "10/10 - 429s - loss: 0.0164 - val_loss: 0.0182 - lr: 1.0000e-05\n",
      "\n",
      "Epoch 00337: LearningRateScheduler reducing learning rate to 1e-05.\n",
      "Epoch 337/400\n",
      "\n",
      "Epoch 00337: val_loss did not improve from 0.01818\n",
      "INFO::tomo2seg::{callbacks.py:on_epoch_end:110}::[2020-12-11::13:05:44.527]\n",
      "Saving backup of the training history epoch=336 self.csv_path=PosixPath('/home/users/jcasagrande/projects/tomo2seg/data/models/unet3d/unet3d.crop112-f12.fold000.1607-466-349/history.csv')\n",
      "\n",
      "DEBUG::tomo2seg::{viz.py:plot:297}::[2020-12-11::13:05:44.640]\n",
      "TrainingHistoryDisplay.plot plotting loss\n",
      "\n",
      "INFO::tomo2seg::{viz.py:mark_min_values:392}::[2020-12-11::13:05:44.686]\n",
      "train: argmin=215 --> min=0.0147\n",
      "\n",
      "INFO::tomo2seg::{viz.py:mark_min_values:392}::[2020-12-11::13:05:44.689]\n",
      "val: argmin=311 --> min=0.018\n",
      "\n",
      "10/10 - 429s - loss: 0.0165 - val_loss: 0.0182 - lr: 1.0000e-05\n",
      "\n",
      "Epoch 00338: LearningRateScheduler reducing learning rate to 1e-05.\n",
      "Epoch 338/400\n",
      "\n",
      "Epoch 00338: val_loss did not improve from 0.01818\n",
      "INFO::tomo2seg::{callbacks.py:on_epoch_end:110}::[2020-12-11::13:12:55.589]\n",
      "Saving backup of the training history epoch=337 self.csv_path=PosixPath('/home/users/jcasagrande/projects/tomo2seg/data/models/unet3d/unet3d.crop112-f12.fold000.1607-466-349/history.csv')\n",
      "\n",
      "DEBUG::tomo2seg::{viz.py:plot:297}::[2020-12-11::13:12:55.685]\n",
      "TrainingHistoryDisplay.plot plotting loss\n",
      "\n",
      "INFO::tomo2seg::{viz.py:mark_min_values:392}::[2020-12-11::13:12:55.725]\n",
      "train: argmin=215 --> min=0.0147\n",
      "\n",
      "INFO::tomo2seg::{viz.py:mark_min_values:392}::[2020-12-11::13:12:55.728]\n",
      "val: argmin=311 --> min=0.018\n",
      "\n",
      "10/10 - 429s - loss: 0.0159 - val_loss: 0.0182 - lr: 1.0000e-05\n",
      "\n",
      "Epoch 00339: LearningRateScheduler reducing learning rate to 1e-05.\n",
      "Epoch 339/400\n",
      "\n",
      "Epoch 00339: val_loss improved from 0.01818 to 0.01814, saving model to /home/users/jcasagrande/projects/tomo2seg/data/models/unet3d/unet3d.crop112-f12.fold000.1607-466-349/unet3d.crop112-f12.fold000.1607-466-349.autosaved.339-0.0181.hdf5\n",
      "INFO::tomo2seg::{callbacks.py:on_epoch_end:110}::[2020-12-11::13:20:09.369]\n",
      "Saving backup of the training history epoch=338 self.csv_path=PosixPath('/home/users/jcasagrande/projects/tomo2seg/data/models/unet3d/unet3d.crop112-f12.fold000.1607-466-349/history.csv')\n",
      "\n",
      "DEBUG::tomo2seg::{viz.py:plot:297}::[2020-12-11::13:20:09.845]\n",
      "TrainingHistoryDisplay.plot plotting loss\n",
      "\n",
      "INFO::tomo2seg::{viz.py:mark_min_values:392}::[2020-12-11::13:20:09.894]\n",
      "train: argmin=215 --> min=0.0147\n",
      "\n",
      "INFO::tomo2seg::{viz.py:mark_min_values:392}::[2020-12-11::13:20:09.897]\n",
      "val: argmin=311 --> min=0.018\n",
      "\n",
      "10/10 - 432s - loss: 0.0181 - val_loss: 0.0181 - lr: 1.0000e-05\n",
      "\n",
      "Epoch 00340: LearningRateScheduler reducing learning rate to 1e-05.\n",
      "Epoch 340/400\n",
      "\n",
      "Epoch 00340: val_loss did not improve from 0.01814\n",
      "INFO::tomo2seg::{callbacks.py:on_epoch_end:110}::[2020-12-11::13:27:21.686]\n",
      "Saving backup of the training history epoch=339 self.csv_path=PosixPath('/home/users/jcasagrande/projects/tomo2seg/data/models/unet3d/unet3d.crop112-f12.fold000.1607-466-349/history.csv')\n",
      "\n",
      "DEBUG::tomo2seg::{viz.py:plot:297}::[2020-12-11::13:27:21.745]\n",
      "TrainingHistoryDisplay.plot plotting loss\n",
      "\n",
      "INFO::tomo2seg::{viz.py:mark_min_values:392}::[2020-12-11::13:27:21.776]\n",
      "train: argmin=215 --> min=0.0147\n",
      "\n",
      "INFO::tomo2seg::{viz.py:mark_min_values:392}::[2020-12-11::13:27:21.779]\n",
      "val: argmin=311 --> min=0.018\n",
      "\n",
      "10/10 - 430s - loss: 0.0158 - val_loss: 0.0182 - lr: 1.0000e-05\n",
      "\n",
      "Epoch 00341: LearningRateScheduler reducing learning rate to 1e-05.\n",
      "Epoch 341/400\n",
      "\n",
      "Epoch 00341: val_loss did not improve from 0.01814\n",
      "INFO::tomo2seg::{callbacks.py:on_epoch_end:110}::[2020-12-11::13:34:33.556]\n",
      "Saving backup of the training history epoch=340 self.csv_path=PosixPath('/home/users/jcasagrande/projects/tomo2seg/data/models/unet3d/unet3d.crop112-f12.fold000.1607-466-349/history.csv')\n",
      "\n",
      "DEBUG::tomo2seg::{viz.py:plot:297}::[2020-12-11::13:34:33.668]\n",
      "TrainingHistoryDisplay.plot plotting loss\n",
      "\n",
      "INFO::tomo2seg::{viz.py:mark_min_values:392}::[2020-12-11::13:34:33.715]\n",
      "train: argmin=215 --> min=0.0147\n",
      "\n",
      "INFO::tomo2seg::{viz.py:mark_min_values:392}::[2020-12-11::13:34:33.718]\n",
      "val: argmin=311 --> min=0.018\n",
      "\n",
      "10/10 - 429s - loss: 0.0172 - val_loss: 0.0182 - lr: 1.0000e-05\n",
      "\n",
      "Epoch 00342: LearningRateScheduler reducing learning rate to 1e-05.\n",
      "Epoch 342/400\n",
      "\n",
      "Epoch 00342: val_loss did not improve from 0.01814\n",
      "INFO::tomo2seg::{callbacks.py:on_epoch_end:110}::[2020-12-11::13:41:45.006]\n",
      "Saving backup of the training history epoch=341 self.csv_path=PosixPath('/home/users/jcasagrande/projects/tomo2seg/data/models/unet3d/unet3d.crop112-f12.fold000.1607-466-349/history.csv')\n",
      "\n",
      "DEBUG::tomo2seg::{viz.py:plot:297}::[2020-12-11::13:41:45.111]\n",
      "TrainingHistoryDisplay.plot plotting loss\n",
      "\n",
      "INFO::tomo2seg::{viz.py:mark_min_values:392}::[2020-12-11::13:41:45.154]\n",
      "train: argmin=215 --> min=0.0147\n",
      "\n",
      "INFO::tomo2seg::{viz.py:mark_min_values:392}::[2020-12-11::13:41:45.157]\n",
      "val: argmin=311 --> min=0.018\n",
      "\n",
      "10/10 - 430s - loss: 0.0168 - val_loss: 0.0182 - lr: 1.0000e-05\n",
      "\n",
      "Epoch 00343: LearningRateScheduler reducing learning rate to 1e-05.\n",
      "Epoch 343/400\n",
      "\n",
      "Epoch 00343: val_loss did not improve from 0.01814\n",
      "INFO::tomo2seg::{callbacks.py:on_epoch_end:110}::[2020-12-11::13:48:56.634]\n",
      "Saving backup of the training history epoch=342 self.csv_path=PosixPath('/home/users/jcasagrande/projects/tomo2seg/data/models/unet3d/unet3d.crop112-f12.fold000.1607-466-349/history.csv')\n",
      "\n",
      "DEBUG::tomo2seg::{viz.py:plot:297}::[2020-12-11::13:48:56.700]\n",
      "TrainingHistoryDisplay.plot plotting loss\n",
      "\n",
      "INFO::tomo2seg::{viz.py:mark_min_values:392}::[2020-12-11::13:48:56.730]\n",
      "train: argmin=215 --> min=0.0147\n",
      "\n",
      "INFO::tomo2seg::{viz.py:mark_min_values:392}::[2020-12-11::13:48:56.733]\n",
      "val: argmin=311 --> min=0.018\n",
      "\n",
      "10/10 - 430s - loss: 0.0172 - val_loss: 0.0182 - lr: 1.0000e-05\n",
      "\n",
      "Epoch 00344: LearningRateScheduler reducing learning rate to 1e-05.\n",
      "Epoch 344/400\n",
      "\n",
      "Epoch 00344: val_loss did not improve from 0.01814\n",
      "INFO::tomo2seg::{callbacks.py:on_epoch_end:110}::[2020-12-11::13:56:08.116]\n",
      "Saving backup of the training history epoch=343 self.csv_path=PosixPath('/home/users/jcasagrande/projects/tomo2seg/data/models/unet3d/unet3d.crop112-f12.fold000.1607-466-349/history.csv')\n",
      "\n",
      "DEBUG::tomo2seg::{viz.py:plot:297}::[2020-12-11::13:56:08.243]\n",
      "TrainingHistoryDisplay.plot plotting loss\n",
      "\n",
      "INFO::tomo2seg::{viz.py:mark_min_values:392}::[2020-12-11::13:56:08.291]\n",
      "train: argmin=215 --> min=0.0147\n",
      "\n",
      "INFO::tomo2seg::{viz.py:mark_min_values:392}::[2020-12-11::13:56:08.294]\n",
      "val: argmin=311 --> min=0.018\n",
      "\n",
      "10/10 - 429s - loss: 0.0170 - val_loss: 0.0182 - lr: 1.0000e-05\n",
      "\n",
      "Epoch 00345: LearningRateScheduler reducing learning rate to 1e-05.\n",
      "Epoch 345/400\n",
      "\n",
      "Epoch 00345: val_loss did not improve from 0.01814\n",
      "INFO::tomo2seg::{callbacks.py:on_epoch_end:110}::[2020-12-11::14:03:19.854]\n",
      "Saving backup of the training history epoch=344 self.csv_path=PosixPath('/home/users/jcasagrande/projects/tomo2seg/data/models/unet3d/unet3d.crop112-f12.fold000.1607-466-349/history.csv')\n",
      "\n",
      "DEBUG::tomo2seg::{viz.py:plot:297}::[2020-12-11::14:03:19.972]\n",
      "TrainingHistoryDisplay.plot plotting loss\n",
      "\n",
      "INFO::tomo2seg::{viz.py:mark_min_values:392}::[2020-12-11::14:03:20.018]\n",
      "train: argmin=215 --> min=0.0147\n",
      "\n",
      "INFO::tomo2seg::{viz.py:mark_min_values:392}::[2020-12-11::14:03:20.021]\n",
      "val: argmin=311 --> min=0.018\n",
      "\n",
      "10/10 - 430s - loss: 0.0183 - val_loss: 0.0183 - lr: 1.0000e-05\n",
      "\n",
      "Epoch 00346: LearningRateScheduler reducing learning rate to 1e-05.\n",
      "Epoch 346/400\n",
      "\n",
      "Epoch 00346: val_loss did not improve from 0.01814\n",
      "INFO::tomo2seg::{callbacks.py:on_epoch_end:110}::[2020-12-11::14:10:31.490]\n",
      "Saving backup of the training history epoch=345 self.csv_path=PosixPath('/home/users/jcasagrande/projects/tomo2seg/data/models/unet3d/unet3d.crop112-f12.fold000.1607-466-349/history.csv')\n",
      "\n",
      "DEBUG::tomo2seg::{viz.py:plot:297}::[2020-12-11::14:10:31.599]\n",
      "TrainingHistoryDisplay.plot plotting loss\n",
      "\n",
      "INFO::tomo2seg::{viz.py:mark_min_values:392}::[2020-12-11::14:10:31.644]\n",
      "train: argmin=215 --> min=0.0147\n",
      "\n",
      "INFO::tomo2seg::{viz.py:mark_min_values:392}::[2020-12-11::14:10:31.647]\n",
      "val: argmin=311 --> min=0.018\n",
      "\n",
      "10/10 - 430s - loss: 0.0162 - val_loss: 0.0182 - lr: 1.0000e-05\n",
      "\n",
      "Epoch 00347: LearningRateScheduler reducing learning rate to 1e-05.\n",
      "Epoch 347/400\n"
     ]
    },
    {
     "ename": "KeyboardInterrupt",
     "evalue": "",
     "output_type": "error",
     "traceback": [
      "\u001b[0;31m---------------------------------------------------------------------------\u001b[0m",
      "\u001b[0;31mKeyboardInterrupt\u001b[0m                         Traceback (most recent call last)",
      "\u001b[0;32m<ipython-input-52-b0ca94d60bc5>\u001b[0m in \u001b[0;36m<module>\u001b[0;34m\u001b[0m\n\u001b[1;32m      1\u001b[0m \u001b[0mn_epochs\u001b[0m \u001b[0;34m=\u001b[0m \u001b[0;36m400\u001b[0m\u001b[0;34m\u001b[0m\u001b[0;34m\u001b[0m\u001b[0m\n\u001b[1;32m      2\u001b[0m \u001b[0;34m\u001b[0m\u001b[0m\n\u001b[0;32m----> 3\u001b[0;31m model.fit(\n\u001b[0m\u001b[1;32m      4\u001b[0m \u001b[0;34m\u001b[0m\u001b[0m\n\u001b[1;32m      5\u001b[0m     \u001b[0;31m# data sequences\u001b[0m\u001b[0;34m\u001b[0m\u001b[0;34m\u001b[0m\u001b[0;34m\u001b[0m\u001b[0m\n",
      "\u001b[0;32m~/projects/tomo2seg/condaenv/lib/python3.8/site-packages/tensorflow/python/keras/engine/training.py\u001b[0m in \u001b[0;36m_method_wrapper\u001b[0;34m(self, *args, **kwargs)\u001b[0m\n\u001b[1;32m     64\u001b[0m   \u001b[0;32mdef\u001b[0m \u001b[0m_method_wrapper\u001b[0m\u001b[0;34m(\u001b[0m\u001b[0mself\u001b[0m\u001b[0;34m,\u001b[0m \u001b[0;34m*\u001b[0m\u001b[0margs\u001b[0m\u001b[0;34m,\u001b[0m \u001b[0;34m**\u001b[0m\u001b[0mkwargs\u001b[0m\u001b[0;34m)\u001b[0m\u001b[0;34m:\u001b[0m\u001b[0;34m\u001b[0m\u001b[0;34m\u001b[0m\u001b[0m\n\u001b[1;32m     65\u001b[0m     \u001b[0;32mif\u001b[0m \u001b[0;32mnot\u001b[0m \u001b[0mself\u001b[0m\u001b[0;34m.\u001b[0m\u001b[0m_in_multi_worker_mode\u001b[0m\u001b[0;34m(\u001b[0m\u001b[0;34m)\u001b[0m\u001b[0;34m:\u001b[0m  \u001b[0;31m# pylint: disable=protected-access\u001b[0m\u001b[0;34m\u001b[0m\u001b[0;34m\u001b[0m\u001b[0m\n\u001b[0;32m---> 66\u001b[0;31m       \u001b[0;32mreturn\u001b[0m \u001b[0mmethod\u001b[0m\u001b[0;34m(\u001b[0m\u001b[0mself\u001b[0m\u001b[0;34m,\u001b[0m \u001b[0;34m*\u001b[0m\u001b[0margs\u001b[0m\u001b[0;34m,\u001b[0m \u001b[0;34m**\u001b[0m\u001b[0mkwargs\u001b[0m\u001b[0;34m)\u001b[0m\u001b[0;34m\u001b[0m\u001b[0;34m\u001b[0m\u001b[0m\n\u001b[0m\u001b[1;32m     67\u001b[0m \u001b[0;34m\u001b[0m\u001b[0m\n\u001b[1;32m     68\u001b[0m     \u001b[0;31m# Running inside `run_distribute_coordinator` already.\u001b[0m\u001b[0;34m\u001b[0m\u001b[0;34m\u001b[0m\u001b[0;34m\u001b[0m\u001b[0m\n",
      "\u001b[0;32m~/projects/tomo2seg/condaenv/lib/python3.8/site-packages/tensorflow/python/keras/engine/training.py\u001b[0m in \u001b[0;36mfit\u001b[0;34m(self, x, y, batch_size, epochs, verbose, callbacks, validation_split, validation_data, shuffle, class_weight, sample_weight, initial_epoch, steps_per_epoch, validation_steps, validation_batch_size, validation_freq, max_queue_size, workers, use_multiprocessing)\u001b[0m\n\u001b[1;32m    860\u001b[0m           val_x, val_y, val_sample_weight = (\n\u001b[1;32m    861\u001b[0m               data_adapter.unpack_x_y_sample_weight(validation_data))\n\u001b[0;32m--> 862\u001b[0;31m           val_logs = self.evaluate(\n\u001b[0m\u001b[1;32m    863\u001b[0m               \u001b[0mx\u001b[0m\u001b[0;34m=\u001b[0m\u001b[0mval_x\u001b[0m\u001b[0;34m,\u001b[0m\u001b[0;34m\u001b[0m\u001b[0;34m\u001b[0m\u001b[0m\n\u001b[1;32m    864\u001b[0m               \u001b[0my\u001b[0m\u001b[0;34m=\u001b[0m\u001b[0mval_y\u001b[0m\u001b[0;34m,\u001b[0m\u001b[0;34m\u001b[0m\u001b[0;34m\u001b[0m\u001b[0m\n",
      "\u001b[0;32m~/projects/tomo2seg/condaenv/lib/python3.8/site-packages/tensorflow/python/keras/engine/training.py\u001b[0m in \u001b[0;36m_method_wrapper\u001b[0;34m(self, *args, **kwargs)\u001b[0m\n\u001b[1;32m     64\u001b[0m   \u001b[0;32mdef\u001b[0m \u001b[0m_method_wrapper\u001b[0m\u001b[0;34m(\u001b[0m\u001b[0mself\u001b[0m\u001b[0;34m,\u001b[0m \u001b[0;34m*\u001b[0m\u001b[0margs\u001b[0m\u001b[0;34m,\u001b[0m \u001b[0;34m**\u001b[0m\u001b[0mkwargs\u001b[0m\u001b[0;34m)\u001b[0m\u001b[0;34m:\u001b[0m\u001b[0;34m\u001b[0m\u001b[0;34m\u001b[0m\u001b[0m\n\u001b[1;32m     65\u001b[0m     \u001b[0;32mif\u001b[0m \u001b[0;32mnot\u001b[0m \u001b[0mself\u001b[0m\u001b[0;34m.\u001b[0m\u001b[0m_in_multi_worker_mode\u001b[0m\u001b[0;34m(\u001b[0m\u001b[0;34m)\u001b[0m\u001b[0;34m:\u001b[0m  \u001b[0;31m# pylint: disable=protected-access\u001b[0m\u001b[0;34m\u001b[0m\u001b[0;34m\u001b[0m\u001b[0m\n\u001b[0;32m---> 66\u001b[0;31m       \u001b[0;32mreturn\u001b[0m \u001b[0mmethod\u001b[0m\u001b[0;34m(\u001b[0m\u001b[0mself\u001b[0m\u001b[0;34m,\u001b[0m \u001b[0;34m*\u001b[0m\u001b[0margs\u001b[0m\u001b[0;34m,\u001b[0m \u001b[0;34m**\u001b[0m\u001b[0mkwargs\u001b[0m\u001b[0;34m)\u001b[0m\u001b[0;34m\u001b[0m\u001b[0;34m\u001b[0m\u001b[0m\n\u001b[0m\u001b[1;32m     67\u001b[0m \u001b[0;34m\u001b[0m\u001b[0m\n\u001b[1;32m     68\u001b[0m     \u001b[0;31m# Running inside `run_distribute_coordinator` already.\u001b[0m\u001b[0;34m\u001b[0m\u001b[0;34m\u001b[0m\u001b[0;34m\u001b[0m\u001b[0m\n",
      "\u001b[0;32m~/projects/tomo2seg/condaenv/lib/python3.8/site-packages/tensorflow/python/keras/engine/training.py\u001b[0m in \u001b[0;36mevaluate\u001b[0;34m(self, x, y, batch_size, verbose, sample_weight, steps, callbacks, max_queue_size, workers, use_multiprocessing, return_dict)\u001b[0m\n\u001b[1;32m   1079\u001b[0m                 step_num=step):\n\u001b[1;32m   1080\u001b[0m               \u001b[0mcallbacks\u001b[0m\u001b[0;34m.\u001b[0m\u001b[0mon_test_batch_begin\u001b[0m\u001b[0;34m(\u001b[0m\u001b[0mstep\u001b[0m\u001b[0;34m)\u001b[0m\u001b[0;34m\u001b[0m\u001b[0;34m\u001b[0m\u001b[0m\n\u001b[0;32m-> 1081\u001b[0;31m               \u001b[0mtmp_logs\u001b[0m \u001b[0;34m=\u001b[0m \u001b[0mtest_function\u001b[0m\u001b[0;34m(\u001b[0m\u001b[0miterator\u001b[0m\u001b[0;34m)\u001b[0m\u001b[0;34m\u001b[0m\u001b[0;34m\u001b[0m\u001b[0m\n\u001b[0m\u001b[1;32m   1082\u001b[0m               \u001b[0;31m# Catch OutOfRangeError for Datasets of unknown size.\u001b[0m\u001b[0;34m\u001b[0m\u001b[0;34m\u001b[0m\u001b[0;34m\u001b[0m\u001b[0m\n\u001b[1;32m   1083\u001b[0m               \u001b[0;31m# This blocks until the batch has finished executing.\u001b[0m\u001b[0;34m\u001b[0m\u001b[0;34m\u001b[0m\u001b[0;34m\u001b[0m\u001b[0m\n",
      "\u001b[0;32m~/projects/tomo2seg/condaenv/lib/python3.8/site-packages/tensorflow/python/eager/def_function.py\u001b[0m in \u001b[0;36m__call__\u001b[0;34m(self, *args, **kwds)\u001b[0m\n\u001b[1;32m    578\u001b[0m         \u001b[0mxla_context\u001b[0m\u001b[0;34m.\u001b[0m\u001b[0mExit\u001b[0m\u001b[0;34m(\u001b[0m\u001b[0;34m)\u001b[0m\u001b[0;34m\u001b[0m\u001b[0;34m\u001b[0m\u001b[0m\n\u001b[1;32m    579\u001b[0m     \u001b[0;32melse\u001b[0m\u001b[0;34m:\u001b[0m\u001b[0;34m\u001b[0m\u001b[0;34m\u001b[0m\u001b[0m\n\u001b[0;32m--> 580\u001b[0;31m       \u001b[0mresult\u001b[0m \u001b[0;34m=\u001b[0m \u001b[0mself\u001b[0m\u001b[0;34m.\u001b[0m\u001b[0m_call\u001b[0m\u001b[0;34m(\u001b[0m\u001b[0;34m*\u001b[0m\u001b[0margs\u001b[0m\u001b[0;34m,\u001b[0m \u001b[0;34m**\u001b[0m\u001b[0mkwds\u001b[0m\u001b[0;34m)\u001b[0m\u001b[0;34m\u001b[0m\u001b[0;34m\u001b[0m\u001b[0m\n\u001b[0m\u001b[1;32m    581\u001b[0m \u001b[0;34m\u001b[0m\u001b[0m\n\u001b[1;32m    582\u001b[0m     \u001b[0;32mif\u001b[0m \u001b[0mtracing_count\u001b[0m \u001b[0;34m==\u001b[0m \u001b[0mself\u001b[0m\u001b[0;34m.\u001b[0m\u001b[0m_get_tracing_count\u001b[0m\u001b[0;34m(\u001b[0m\u001b[0;34m)\u001b[0m\u001b[0;34m:\u001b[0m\u001b[0;34m\u001b[0m\u001b[0;34m\u001b[0m\u001b[0m\n",
      "\u001b[0;32m~/projects/tomo2seg/condaenv/lib/python3.8/site-packages/tensorflow/python/eager/def_function.py\u001b[0m in \u001b[0;36m_call\u001b[0;34m(self, *args, **kwds)\u001b[0m\n\u001b[1;32m    616\u001b[0m       \u001b[0;31m# In this case we have not created variables on the first call. So we can\u001b[0m\u001b[0;34m\u001b[0m\u001b[0;34m\u001b[0m\u001b[0;34m\u001b[0m\u001b[0m\n\u001b[1;32m    617\u001b[0m       \u001b[0;31m# run the first trace but we should fail if variables are created.\u001b[0m\u001b[0;34m\u001b[0m\u001b[0;34m\u001b[0m\u001b[0;34m\u001b[0m\u001b[0m\n\u001b[0;32m--> 618\u001b[0;31m       \u001b[0mresults\u001b[0m \u001b[0;34m=\u001b[0m \u001b[0mself\u001b[0m\u001b[0;34m.\u001b[0m\u001b[0m_stateful_fn\u001b[0m\u001b[0;34m(\u001b[0m\u001b[0;34m*\u001b[0m\u001b[0margs\u001b[0m\u001b[0;34m,\u001b[0m \u001b[0;34m**\u001b[0m\u001b[0mkwds\u001b[0m\u001b[0;34m)\u001b[0m\u001b[0;34m\u001b[0m\u001b[0;34m\u001b[0m\u001b[0m\n\u001b[0m\u001b[1;32m    619\u001b[0m       \u001b[0;32mif\u001b[0m \u001b[0mself\u001b[0m\u001b[0;34m.\u001b[0m\u001b[0m_created_variables\u001b[0m\u001b[0;34m:\u001b[0m\u001b[0;34m\u001b[0m\u001b[0;34m\u001b[0m\u001b[0m\n\u001b[1;32m    620\u001b[0m         raise ValueError(\"Creating variables on a non-first call to a function\"\n",
      "\u001b[0;32m~/projects/tomo2seg/condaenv/lib/python3.8/site-packages/tensorflow/python/eager/function.py\u001b[0m in \u001b[0;36m__call__\u001b[0;34m(self, *args, **kwargs)\u001b[0m\n\u001b[1;32m   2418\u001b[0m     \u001b[0;32mwith\u001b[0m \u001b[0mself\u001b[0m\u001b[0;34m.\u001b[0m\u001b[0m_lock\u001b[0m\u001b[0;34m:\u001b[0m\u001b[0;34m\u001b[0m\u001b[0;34m\u001b[0m\u001b[0m\n\u001b[1;32m   2419\u001b[0m       \u001b[0mgraph_function\u001b[0m\u001b[0;34m,\u001b[0m \u001b[0margs\u001b[0m\u001b[0;34m,\u001b[0m \u001b[0mkwargs\u001b[0m \u001b[0;34m=\u001b[0m \u001b[0mself\u001b[0m\u001b[0;34m.\u001b[0m\u001b[0m_maybe_define_function\u001b[0m\u001b[0;34m(\u001b[0m\u001b[0margs\u001b[0m\u001b[0;34m,\u001b[0m \u001b[0mkwargs\u001b[0m\u001b[0;34m)\u001b[0m\u001b[0;34m\u001b[0m\u001b[0;34m\u001b[0m\u001b[0m\n\u001b[0;32m-> 2420\u001b[0;31m     \u001b[0;32mreturn\u001b[0m \u001b[0mgraph_function\u001b[0m\u001b[0;34m.\u001b[0m\u001b[0m_filtered_call\u001b[0m\u001b[0;34m(\u001b[0m\u001b[0margs\u001b[0m\u001b[0;34m,\u001b[0m \u001b[0mkwargs\u001b[0m\u001b[0;34m)\u001b[0m  \u001b[0;31m# pylint: disable=protected-access\u001b[0m\u001b[0;34m\u001b[0m\u001b[0;34m\u001b[0m\u001b[0m\n\u001b[0m\u001b[1;32m   2421\u001b[0m \u001b[0;34m\u001b[0m\u001b[0m\n\u001b[1;32m   2422\u001b[0m   \u001b[0;34m@\u001b[0m\u001b[0mproperty\u001b[0m\u001b[0;34m\u001b[0m\u001b[0;34m\u001b[0m\u001b[0m\n",
      "\u001b[0;32m~/projects/tomo2seg/condaenv/lib/python3.8/site-packages/tensorflow/python/eager/function.py\u001b[0m in \u001b[0;36m_filtered_call\u001b[0;34m(self, args, kwargs)\u001b[0m\n\u001b[1;32m   1659\u001b[0m       \u001b[0;31m`\u001b[0m\u001b[0margs\u001b[0m\u001b[0;31m`\u001b[0m \u001b[0;32mand\u001b[0m\u001b[0;31m \u001b[0m\u001b[0;31m`\u001b[0m\u001b[0mkwargs\u001b[0m\u001b[0;31m`\u001b[0m\u001b[0;34m.\u001b[0m\u001b[0;34m\u001b[0m\u001b[0;34m\u001b[0m\u001b[0m\n\u001b[1;32m   1660\u001b[0m     \"\"\"\n\u001b[0;32m-> 1661\u001b[0;31m     return self._call_flat(\n\u001b[0m\u001b[1;32m   1662\u001b[0m         (t for t in nest.flatten((args, kwargs), expand_composites=True)\n\u001b[1;32m   1663\u001b[0m          if isinstance(t, (ops.Tensor,\n",
      "\u001b[0;32m~/projects/tomo2seg/condaenv/lib/python3.8/site-packages/tensorflow/python/eager/function.py\u001b[0m in \u001b[0;36m_call_flat\u001b[0;34m(self, args, captured_inputs, cancellation_manager)\u001b[0m\n\u001b[1;32m   1743\u001b[0m         and executing_eagerly):\n\u001b[1;32m   1744\u001b[0m       \u001b[0;31m# No tape is watching; skip to running the function.\u001b[0m\u001b[0;34m\u001b[0m\u001b[0;34m\u001b[0m\u001b[0;34m\u001b[0m\u001b[0m\n\u001b[0;32m-> 1745\u001b[0;31m       return self._build_call_outputs(self._inference_function.call(\n\u001b[0m\u001b[1;32m   1746\u001b[0m           ctx, args, cancellation_manager=cancellation_manager))\n\u001b[1;32m   1747\u001b[0m     forward_backward = self._select_forward_and_backward_functions(\n",
      "\u001b[0;32m~/projects/tomo2seg/condaenv/lib/python3.8/site-packages/tensorflow/python/eager/function.py\u001b[0m in \u001b[0;36mcall\u001b[0;34m(self, ctx, args, cancellation_manager)\u001b[0m\n\u001b[1;32m    591\u001b[0m       \u001b[0;32mwith\u001b[0m \u001b[0m_InterpolateFunctionError\u001b[0m\u001b[0;34m(\u001b[0m\u001b[0mself\u001b[0m\u001b[0;34m)\u001b[0m\u001b[0;34m:\u001b[0m\u001b[0;34m\u001b[0m\u001b[0;34m\u001b[0m\u001b[0m\n\u001b[1;32m    592\u001b[0m         \u001b[0;32mif\u001b[0m \u001b[0mcancellation_manager\u001b[0m \u001b[0;32mis\u001b[0m \u001b[0;32mNone\u001b[0m\u001b[0;34m:\u001b[0m\u001b[0;34m\u001b[0m\u001b[0;34m\u001b[0m\u001b[0m\n\u001b[0;32m--> 593\u001b[0;31m           outputs = execute.execute(\n\u001b[0m\u001b[1;32m    594\u001b[0m               \u001b[0mstr\u001b[0m\u001b[0;34m(\u001b[0m\u001b[0mself\u001b[0m\u001b[0;34m.\u001b[0m\u001b[0msignature\u001b[0m\u001b[0;34m.\u001b[0m\u001b[0mname\u001b[0m\u001b[0;34m)\u001b[0m\u001b[0;34m,\u001b[0m\u001b[0;34m\u001b[0m\u001b[0;34m\u001b[0m\u001b[0m\n\u001b[1;32m    595\u001b[0m               \u001b[0mnum_outputs\u001b[0m\u001b[0;34m=\u001b[0m\u001b[0mself\u001b[0m\u001b[0;34m.\u001b[0m\u001b[0m_num_outputs\u001b[0m\u001b[0;34m,\u001b[0m\u001b[0;34m\u001b[0m\u001b[0;34m\u001b[0m\u001b[0m\n",
      "\u001b[0;32m~/projects/tomo2seg/condaenv/lib/python3.8/site-packages/tensorflow/python/eager/execute.py\u001b[0m in \u001b[0;36mquick_execute\u001b[0;34m(op_name, num_outputs, inputs, attrs, ctx, name)\u001b[0m\n\u001b[1;32m     57\u001b[0m   \u001b[0;32mtry\u001b[0m\u001b[0;34m:\u001b[0m\u001b[0;34m\u001b[0m\u001b[0;34m\u001b[0m\u001b[0m\n\u001b[1;32m     58\u001b[0m     \u001b[0mctx\u001b[0m\u001b[0;34m.\u001b[0m\u001b[0mensure_initialized\u001b[0m\u001b[0;34m(\u001b[0m\u001b[0;34m)\u001b[0m\u001b[0;34m\u001b[0m\u001b[0;34m\u001b[0m\u001b[0m\n\u001b[0;32m---> 59\u001b[0;31m     tensors = pywrap_tfe.TFE_Py_Execute(ctx._handle, device_name, op_name,\n\u001b[0m\u001b[1;32m     60\u001b[0m                                         inputs, attrs, num_outputs)\n\u001b[1;32m     61\u001b[0m   \u001b[0;32mexcept\u001b[0m \u001b[0mcore\u001b[0m\u001b[0;34m.\u001b[0m\u001b[0m_NotOkStatusException\u001b[0m \u001b[0;32mas\u001b[0m \u001b[0me\u001b[0m\u001b[0;34m:\u001b[0m\u001b[0;34m\u001b[0m\u001b[0;34m\u001b[0m\u001b[0m\n",
      "\u001b[0;31mKeyboardInterrupt\u001b[0m: "
     ]
    }
   ],
   "source": [
    "n_epochs = 400\n",
    "\n",
    "model.fit(\n",
    "    \n",
    "    # data sequences\n",
    "    x=crop_seq_train,\n",
    "    validation_data=crop_seq_val,\n",
    "\n",
    "    # epochs\n",
    "#         initial_epoch=0,\n",
    "    epochs=n_epochs,\n",
    "    initial_epoch=history_cb.last_epoch + 1,  # for some reason it is 0-starting and others 1-starting...\n",
    "#         epochs=history_cb.last_epoch + 1 + n_epochs,  \n",
    "\n",
    "    # others\n",
    "    callbacks=callbacks,  \n",
    "    verbose=2,\n",
    "\n",
    "    # todo change the volume sequence to dinamically load the volume\n",
    "    # because it would allow me to pass just a path string therefore\n",
    "    # making it serializible ==> i will be able to multithread (:\n",
    "    use_multiprocessing=False,   \n",
    ");\n",
    "\n",
    "slack.notify_finished()"
   ]
  },
  {
   "cell_type": "markdown",
   "metadata": {},
   "source": [
    "# History"
   ]
  },
  {
   "cell_type": "code",
   "execution_count": 53,
   "metadata": {},
   "outputs": [
    {
     "name": "stdout",
     "output_type": "stream",
     "text": [
      "DEBUG::tomo2seg::{viz.py:plot:297}::[2020-12-11::14:15:32.142]\n",
      "TrainingHistoryDisplay.plot plotting loss\n",
      "\n",
      "INFO::tomo2seg::{viz.py:mark_min_values:392}::[2020-12-11::14:15:32.178]\n",
      "train: argmin=215 --> min=0.0147\n",
      "\n",
      "INFO::tomo2seg::{viz.py:mark_min_values:392}::[2020-12-11::14:15:32.180]\n",
      "val: argmin=311 --> min=0.018\n",
      "\n"
     ]
    },
    {
     "data": {
      "image/png": "[encoded data removed]",
      "text/plain": [
       "<Figure size 1250x1000 with 2 Axes>"
      ]
     },
     "metadata": {
      "needs_background": "light"
     },
     "output_type": "display_data"
    }
   ],
   "source": [
    "fig, axs = plt.subplots(nrows := 2, ncols := 1, figsize=(2.5 * (sz := 5), nrows * sz), dpi=100)\n",
    "fig.set_tight_layout(True)\n",
    "\n",
    "hist_display = viz.TrainingHistoryDisplay(\n",
    "    history_cb.history, \n",
    "    model_name=tomo2seg_model.name,\n",
    "    loss_name=model.loss.__name__,\n",
    "    x_axis_mode=(\n",
    "        \"epoch\", \"batch\", \"crop\", \"voxel\", \"time\",\n",
    "    ),\n",
    ").plot(\n",
    "    axs, \n",
    "    with_lr=True,\n",
    "    metrics=(\n",
    "        \"loss\", \n",
    "    ),\n",
    ")\n",
    "\n",
    "axs[0].set_yscale(\"log\")\n",
    "axs[-1].set_yscale(\"log\")\n",
    "\n",
    "viz.mark_min_values(hist_display.axs_metrics_[0], hist_display.plots_[\"loss\"][0])\n",
    "viz.mark_min_values(hist_display.axs_metrics_[0], hist_display.plots_[\"val_loss\"][0], txt_kwargs=dict(rotation=0))\n",
    "\n",
    "hist_display.fig_.savefig(\n",
    "    tomo2seg_model.model_path / (hist_display.title + \".png\"),\n",
    "    format='png',\n",
    ")\n",
    "# plt.close()"
   ]
  },
  {
   "cell_type": "code",
   "execution_count": 54,
   "metadata": {
    "executionInfo": {
     "elapsed": 8793,
     "status": "aborted",
     "timestamp": 1602255923919,
     "user": {
      "displayName": "João Paulo Casagrande Bertoldo",
      "photoUrl": "https://lh3.googleusercontent.com/a-/AOh14GioL6iQ5PNE9hm2XaOtZd36rClxQBdpy33-9-QsTUs=s64",
      "userId": "13620585220725745309"
     },
     "user_tz": -120
    },
    "id": "d-EnhRhrrEGQ"
   },
   "outputs": [],
   "source": [
    "history_cb.dataframe.to_csv(history_cb.csv_path, index=True)"
   ]
  },
  {
   "cell_type": "code",
   "execution_count": 55,
   "metadata": {
    "executionInfo": {
     "elapsed": 8791,
     "status": "aborted",
     "timestamp": 1602255923920,
     "user": {
      "displayName": "João Paulo Casagrande Bertoldo",
      "photoUrl": "https://lh3.googleusercontent.com/a-/AOh14GioL6iQ5PNE9hm2XaOtZd36rClxQBdpy33-9-QsTUs=s64",
      "userId": "13620585220725745309"
     },
     "user_tz": -120
    },
    "id": "LQz6HBJss1o4"
   },
   "outputs": [
    {
     "name": "stdout",
     "output_type": "stream",
     "text": [
      "WARNING:tensorflow:From /home/users/jcasagrande/projects/tomo2seg/condaenv/lib/python3.8/site-packages/tensorflow/python/ops/resource_variable_ops.py:1813: calling BaseResourceVariable.__init__ (from tensorflow.python.ops.resource_variable_ops) with constraint is deprecated and will be removed in a future version.\n",
      "Instructions for updating:\n",
      "If using Keras pass *_constraint arguments to layers.\n",
      "INFO:tensorflow:Assets written to: /home/users/jcasagrande/projects/tomo2seg/data/models/unet3d/unet3d.crop112-f12.fold000.1607-466-349/assets\n"
     ]
    }
   ],
   "source": [
    "model.save(tomo2seg_model.model_path)"
   ]
  },
  {
   "cell_type": "code",
   "execution_count": 58,
   "metadata": {},
   "outputs": [
    {
     "name": "stdout",
     "output_type": "stream",
     "text": [
      "WARNING::tomo2seg::{<ipython-input-58-68ab67b80a35>:<module>:004}::[2020-12-11::14:16:18.275]\n",
      "this_nb_name='train-04-tomo88.ipynb' this_dir='/home/users/jcasagrande/projects/tomo2seg/nbs'\n",
      "\n"
     ]
    },
    {
     "data": {
      "text/plain": [
       "0"
      ]
     },
     "execution_count": 58,
     "metadata": {},
     "output_type": "execute_result"
    }
   ],
   "source": [
    "this_nb_name = \"train-04-tomo88.ipynb\"\n",
    "import os\n",
    "this_dir = os.getcwd()\n",
    "logger.warning(f\"{this_nb_name=} {this_dir=}\")\n",
    "\n",
    "os.system(f\"jupyter nbconvert {this_dir}/{this_nb_name} --output-dir {str(tomo2seg_model.model_path)} --to html\")"
   ]
  },
  {
   "cell_type": "code",
   "execution_count": null,
   "metadata": {},
   "outputs": [],
   "source": []
  },
  {
   "cell_type": "code",
   "execution_count": null,
   "metadata": {},
   "outputs": [],
   "source": []
  },
  {
   "cell_type": "code",
   "execution_count": null,
   "metadata": {},
   "outputs": [],
   "source": []
  }
 ],
 "metadata": {
  "accelerator": "GPU",
  "colab": {
   "authorship_tag": "ABX9TyP2FW3h3DkQ4XcY6OgH7u/r",
   "collapsed_sections": [
    "EnVqPFS9BNCg",
    "j8e5FhmUaKND",
    "nJtppItnKn5G"
   ],
   "mount_file_id": "1LuEITv9j0lLf8Z418J3a94SjEZ8GvKvI",
   "name": "dryrun-02.ipynb",
   "provenance": [
    {
     "file_id": "1NiX28EcC_FVOYCJL4usp7n5iQ2x3aXIm",
     "timestamp": 1602152789440
    }
   ],
   "toc_visible": true
  },
  "kernelspec": {
   "display_name": "Python 3",
   "language": "python",
   "name": "python3"
  },
  "language_info": {
   "codemirror_mode": {
    "name": "ipython",
    "version": 3
   },
   "file_extension": ".py",
   "mimetype": "text/x-python",
   "name": "python",
   "nbconvert_exporter": "python",
   "pygments_lexer": "ipython3",
   "version": "3.8.2"
  }
 },
 "nbformat": 4,
 "nbformat_minor": 4
}
