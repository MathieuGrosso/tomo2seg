{
 "cells": [
  {
   "cell_type": "markdown",
   "metadata": {},
   "source": [
    "# Setup"
   ]
  },
  {
   "cell_type": "code",
   "execution_count": 13,
   "metadata": {},
   "outputs": [
    {
     "name": "stdout",
     "output_type": "stream",
     "text": [
      "The autoreload extension is already loaded. To reload it, use:\n",
      "  %reload_ext autoreload\n"
     ]
    }
   ],
   "source": [
    "%load_ext autoreload"
   ]
  },
  {
   "cell_type": "code",
   "execution_count": 14,
   "metadata": {},
   "outputs": [],
   "source": [
    "%autoreload 2\n",
    "\n",
    "import copy\n",
    "import functools\n",
    "import itertools\n",
    "import logging\n",
    "import re\n",
    "import time\n",
    "import yaml\n",
    "from collections import Counter\n",
    "\n",
    "import humanize\n",
    "from pymicro.file import file_utils\n",
    "import tensorflow as tf\n",
    "from tqdm import tqdm\n",
    "import numpy as np\n",
    "import scipy as sp\n",
    "from numpy import ndarray\n",
    "from matplotlib import pyplot as plt, patches, cm\n",
    "from sklearn import metrics as met\n",
    "from progressbar import progressbar as pbar\n",
    "from tensorflow.keras import layers\n",
    "from sklearn import metrics, preprocessing\n",
    "from sklearn import model_selection\n",
    "import skimage\n",
    "from skimage import measure, io\n",
    "import pandas as pd\n",
    "\n",
    "import tomo2seg.data as tomo2seg_data\n",
    "from tomo2seg.data import ModelPaths, Volume, EstimationVolume, SetPartition\n",
    "from tomo2seg.volume_img_segm import VolumeImgSegmSequence\n",
    "from tomo2seg import viz\n",
    "from tomo2seg.logger import logger"
   ]
  },
  {
   "cell_type": "code",
   "execution_count": 15,
   "metadata": {},
   "outputs": [
    {
     "name": "stdout",
     "output_type": "stream",
     "text": [
      "[2020-11-12::16:49:23.425] tomo2seg :: DEBUG :: {<ipython-input-15-626a1365fa0c>:<module>:002}\n",
      "VOL_NAME_VERSION=('PA66GF30', 'v1')\n",
      "\n"
     ]
    }
   ],
   "source": [
    "from tomo2seg.data import VOLUME_PRECIPITATES_V1 as VOL_NAME_VERSION\n",
    "logger.debug(f\"{VOL_NAME_VERSION=}\")"
   ]
  },
  {
   "cell_type": "code",
   "execution_count": 16,
   "metadata": {},
   "outputs": [],
   "source": [
    "logger.setLevel(logging.DEBUG)"
   ]
  },
  {
   "cell_type": "code",
   "execution_count": 17,
   "metadata": {},
   "outputs": [],
   "source": [
    "random_state = 42\n",
    "random_state = np.random.RandomState(random_state)"
   ]
  },
  {
   "cell_type": "markdown",
   "metadata": {},
   "source": [
    "# Load from the disk"
   ]
  },
  {
   "cell_type": "code",
   "execution_count": 22,
   "metadata": {},
   "outputs": [
    {
     "name": "stdout",
     "output_type": "stream",
     "text": [
      "[2020-11-12::16:50:08.854] tomo2seg :: DEBUG :: {data.py:with_check:214}\n",
      "vol=Volume(name='PA66GF30', version='v1', _metadata=None)\n",
      "\n",
      "[2020-11-12::16:50:08.856] tomo2seg :: ERROR :: {data.py:with_check:232}\n",
      "Missing file: /home/users/jcasagrande/projects/tomo2seg/data/PA66GF30.v1/PA66GF30.v1.labels.raw\n",
      "\n",
      "[2020-11-12::16:50:08.857] tomo2seg :: WARNING :: {data.py:with_check:236}\n",
      "Missing file: /home/users/jcasagrande/projects/tomo2seg/data/PA66GF30.v1/PA66GF30.v1.weights.raw\n",
      "\n",
      "[2020-11-12::16:50:08.857] tomo2seg :: DEBUG :: {data.py:metadata:171}\n",
      "Loading metadata from `/home/users/jcasagrande/projects/tomo2seg/data/PA66GF30.v1/PA66GF30.v1.metadata.yml`.\n",
      "\n",
      "[2020-11-12::16:50:08.863] tomo2seg :: INFO :: {<ipython-input-22-eaa8ce800c52>:<module>:008}\n",
      "volume=Volume(name='PA66GF30', version='v1', _metadata=Volume.Metadata(dimensions=[1300, 1040, 1900], dtype='uint8', labels=[0, 1, 2], labels_names={0: 'matrix', 1: 'fiber', 2: 'porosity'}, set_partitions={'train': {'x_range': [0, 1299], 'y_range': [0, 1039], 'z_range': [0, 1299], 'alias': 'train'}, 'val': {'x_range': [0, 1299], 'y_range': [0, 1039], 'z_range': [1600, 1899], 'alias': 'val'}, 'test': {'x_range': [0, 1299], 'y_range': [0, 1039], 'z_range': [1300, 1599], 'alias': 'test'}}))\n",
      "\n",
      "[2020-11-12::16:50:08.864] tomo2seg :: INFO :: {<ipython-input-22-eaa8ce800c52>:<module>:020}\n",
      "Loading data from disk.\n",
      "\n",
      "data type is uint8\n",
      "volume size is 1300 x 1040 x 1900\n",
      "reading volume... from byte 0\n",
      "[2020-11-12::16:50:12.084] tomo2seg :: DEBUG :: {<ipython-input-22-eaa8ce800c52>:<module>:026}\n",
      "labels_volume.shape=(1300, 1040, 1900)\n",
      "\n",
      "[2020-11-12::16:50:12.086] tomo2seg :: DEBUG :: {<ipython-input-22-eaa8ce800c52>:<module>:032}\n",
      "/home/users/jcasagrande/projects/tomo2seg/data/PA66GF30.v1/PA66GF30.v1.labels-refined.blobs3d.props.class_idx=1.csv\n",
      "/home/users/jcasagrande/projects/tomo2seg/data/PA66GF30.v1/PA66GF30.v1.labels-refined.blobs3d.class_idx=1.raw\n",
      "\n"
     ]
    }
   ],
   "source": [
    "# Metadata/paths objects\n",
    "\n",
    "## Volume\n",
    "volume = Volume.with_check(\n",
    "    volume_name := VOL_NAME_VERSION[0], \n",
    "    volume_version := VOL_NAME_VERSION[1]\n",
    ")\n",
    "logger.info(f\"{volume=}\")\n",
    "\n",
    "hst_read = lambda x: functools.partial(\n",
    "    # from pymicro\n",
    "    file_utils.HST_read,\n",
    "    # pre-loaded kwargs\n",
    "    autoparse_filename=False,  # the file names are not properly formatted\n",
    "    data_type=volume.metadata.dtype,\n",
    "    dims=volume.metadata.dimensions,\n",
    "    verbose=True,\n",
    ")(str(x))  # it doesn't accept paths...\n",
    "\n",
    "logger.info(\"Loading data from disk.\")\n",
    "\n",
    "labels_version = 'refined'\n",
    "\n",
    "## Labels\n",
    "labels_volume = hst_read(volume.versioned_labels_path(labels_version))\n",
    "logger.debug(f\"{labels_volume.shape=}\")\n",
    "\n",
    "blobs_target_label = 1\n",
    "blobs_table_path = volume.blobs3d_props_path(blobs_target_label, labels_version)\n",
    "blobs_volume_path = volume.blobs3d_volume_path(blobs_target_label, labels_version)\n",
    "\n",
    "logger.debug(f\"{blobs_table_path}\\n{blobs_volume_path}\")"
   ]
  },
  {
   "cell_type": "markdown",
   "metadata": {},
   "source": [
    "# Blobs\n"
   ]
  },
  {
   "cell_type": "code",
   "execution_count": 23,
   "metadata": {},
   "outputs": [
    {
     "name": "stdout",
     "output_type": "stream",
     "text": [
      "[2020-11-12::16:50:12.149] tomo2seg :: DEBUG :: {<timed exec>:get_3dblobs_props_table:015}\n",
      "Getting connected components (blobs).\n",
      "\n",
      "[2020-11-12::16:50:12.172] tomo2seg :: INFO :: {<timed exec>:get_3dblobs_props_table:020}\n",
      "Found 164 blobs.\n",
      "\n",
      "[2020-11-12::16:50:12.174] tomo2seg :: DEBUG :: {<timed exec>:get_3dblobs_props_table:025}\n",
      "Getting a table of props with `skimage.measure.regionprops_table()`.\n",
      "\n"
     ]
    },
    {
     "name": "stderr",
     "output_type": "stream",
     "text": [
      "region-properties-init 100% (164 of 164) || Elapsed Time: 0:00:00 Time:  0:00:00\n",
      "(1 /13) label 100% (164 of 164) |########| Elapsed Time: 0:00:00 Time:  0:00:00\n",
      "(2 /13) area 100% (164 of 164) |#########| Elapsed Time: 0:00:00 Time:  0:00:00\n",
      "(3 /13) bbox-(0,) 100% (164 of 164) |####| Elapsed Time: 0:00:00 Time:  0:00:00\n",
      "(3 /13) bbox-(1,) 100% (164 of 164) |####| Elapsed Time: 0:00:00 Time:  0:00:00\n",
      "(3 /13) bbox-(2,) 100% (164 of 164) |####| Elapsed Time: 0:00:00 Time:  0:00:00\n",
      "(3 /13) bbox-(3,) 100% (164 of 164) |####| Elapsed Time: 0:00:00 Time:  0:00:00\n",
      "(3 /13) bbox-(4,) 100% (164 of 164) |####| Elapsed Time: 0:00:00 Time:  0:00:00\n",
      "(3 /13) bbox-(5,) 100% (164 of 164) |####| Elapsed Time: 0:00:00 Time:  0:00:00\n",
      "(4 /13) bbox_area 100% (164 of 164) |####| Elapsed Time: 0:00:00 Time:  0:00:00\n",
      "(5 /13) extent 100% (164 of 164) |#######| Elapsed Time: 0:00:00 Time:  0:00:00\n",
      "(6 /13) filled_area 100% (164 of 164) |##| Elapsed Time: 0:00:00 Time:  0:00:00\n",
      "(7 /13) centroid-(0,) 100% (164 of 164) || Elapsed Time: 0:00:00 Time:  0:00:00\n",
      "(7 /13) centroid-(1,) 100% (164 of 164) || Elapsed Time: 0:00:00 Time:  0:00:00\n",
      "(7 /13) centroid-(2,) 100% (164 of 164) || Elapsed Time: 0:00:00 Time:  0:00:00\n",
      "(8 /13) local_centroid-(0,) 100% (164 of 164) || Elapsed Time: 0:00:00 Time:  0:00:00\n",
      "(8 /13) local_centroid-(1,) 100% (164 of 164) || Elapsed Time: 0:00:00 Time:  0:00:00\n",
      "(8 /13) local_centroid-(2,) 100% (164 of 164) || Elapsed Time: 0:00:00 Time:  0:00:00\n",
      "(9 /13) inertia_tensor-(0, 0) 100% (164 of 164) || Elapsed Time: 0:00:00 Time:  0:00:00\n",
      "(9 /13) inertia_tensor-(0, 1) 100% (164 of 164) || Elapsed Time: 0:00:00 Time:  0:00:00\n",
      "(9 /13) inertia_tensor-(0, 2) 100% (164 of 164) || Elapsed Time: 0:00:00 Time:  0:00:00\n",
      "(9 /13) inertia_tensor-(1, 0) 100% (164 of 164) || Elapsed Time: 0:00:00 Time:  0:00:00\n",
      "(9 /13) inertia_tensor-(1, 1) 100% (164 of 164) || Elapsed Time: 0:00:00 Time:  0:00:00\n",
      "(9 /13) inertia_tensor-(1, 2) 100% (164 of 164) || Elapsed Time: 0:00:00 Time:  0:00:00\n",
      "(9 /13) inertia_tensor-(2, 0) 100% (164 of 164) || Elapsed Time: 0:00:00 Time:  0:00:00\n",
      "(9 /13) inertia_tensor-(2, 1) 100% (164 of 164) || Elapsed Time: 0:00:00 Time:  0:00:00\n",
      "(9 /13) inertia_tensor-(2, 2) 100% (164 of 164) || Elapsed Time: 0:00:00 Time:  0:00:00\n",
      "(10 /13) moments_central-(0, 0, 0) 100% (164 of 164) || Elapsed Time: 0:00:00 Time:  0:00:00\n",
      "(10 /13) moments_central-(0, 0, 1) 100% (164 of 164) || Elapsed Time: 0:00:00 Time:  0:00:00\n",
      "(10 /13) moments_central-(0, 0, 2) 100% (164 of 164) || Elapsed Time: 0:00:00 Time:  0:00:00\n",
      "(10 /13) moments_central-(0, 0, 3) 100% (164 of 164) || Elapsed Time: 0:00:00 Time:  0:00:00\n",
      "(10 /13) moments_central-(0, 1, 0) 100% (164 of 164) || Elapsed Time: 0:00:00 Time:  0:00:00\n",
      "(10 /13) moments_central-(0, 1, 1) 100% (164 of 164) || Elapsed Time: 0:00:00 Time:  0:00:00\n",
      "(10 /13) moments_central-(0, 1, 2) 100% (164 of 164) || Elapsed Time: 0:00:00 Time:  0:00:00\n",
      "(10 /13) moments_central-(0, 1, 3) 100% (164 of 164) || Elapsed Time: 0:00:00 Time:  0:00:00\n",
      "(10 /13) moments_central-(0, 2, 0) 100% (164 of 164) || Elapsed Time: 0:00:00 Time:  0:00:00\n",
      "(10 /13) moments_central-(0, 2, 1) 100% (164 of 164) || Elapsed Time: 0:00:00 Time:  0:00:00\n",
      "(10 /13) moments_central-(0, 2, 2) 100% (164 of 164) || Elapsed Time: 0:00:00 Time:  0:00:00\n",
      "(10 /13) moments_central-(0, 2, 3) 100% (164 of 164) || Elapsed Time: 0:00:00 Time:  0:00:00\n",
      "(10 /13) moments_central-(0, 3, 0) 100% (164 of 164) || Elapsed Time: 0:00:00 Time:  0:00:00\n",
      "(10 /13) moments_central-(0, 3, 1) 100% (164 of 164) || Elapsed Time: 0:00:00 Time:  0:00:00\n",
      "(10 /13) moments_central-(0, 3, 2) 100% (164 of 164) || Elapsed Time: 0:00:00 Time:  0:00:00\n",
      "(10 /13) moments_central-(0, 3, 3) 100% (164 of 164) || Elapsed Time: 0:00:00 Time:  0:00:00\n",
      "(10 /13) moments_central-(1, 0, 0) 100% (164 of 164) || Elapsed Time: 0:00:00 Time:  0:00:00\n",
      "(10 /13) moments_central-(1, 0, 1) 100% (164 of 164) || Elapsed Time: 0:00:00 Time:  0:00:00\n",
      "(10 /13) moments_central-(1, 0, 2) 100% (164 of 164) || Elapsed Time: 0:00:00 Time:  0:00:00\n",
      "(10 /13) moments_central-(1, 0, 3) 100% (164 of 164) || Elapsed Time: 0:00:00 Time:  0:00:00\n",
      "(10 /13) moments_central-(1, 1, 0) 100% (164 of 164) || Elapsed Time: 0:00:00 Time:  0:00:00\n",
      "(10 /13) moments_central-(1, 1, 1) 100% (164 of 164) || Elapsed Time: 0:00:00 Time:  0:00:00\n",
      "(10 /13) moments_central-(1, 1, 2) 100% (164 of 164) || Elapsed Time: 0:00:00 Time:  0:00:00\n",
      "(10 /13) moments_central-(1, 1, 3) 100% (164 of 164) || Elapsed Time: 0:00:00 Time:  0:00:00\n",
      "(10 /13) moments_central-(1, 2, 0) 100% (164 of 164) || Elapsed Time: 0:00:00 Time:  0:00:00\n",
      "(10 /13) moments_central-(1, 2, 1) 100% (164 of 164) || Elapsed Time: 0:00:00 Time:  0:00:00\n",
      "(10 /13) moments_central-(1, 2, 2) 100% (164 of 164) || Elapsed Time: 0:00:00 Time:  0:00:00\n",
      "(10 /13) moments_central-(1, 2, 3) 100% (164 of 164) || Elapsed Time: 0:00:00 Time:  0:00:00\n",
      "(10 /13) moments_central-(1, 3, 0) 100% (164 of 164) || Elapsed Time: 0:00:00 Time:  0:00:00\n",
      "(10 /13) moments_central-(1, 3, 1) 100% (164 of 164) || Elapsed Time: 0:00:00 Time:  0:00:00\n",
      "(10 /13) moments_central-(1, 3, 2) 100% (164 of 164) || Elapsed Time: 0:00:00 Time:  0:00:00\n",
      "(10 /13) moments_central-(1, 3, 3) 100% (164 of 164) || Elapsed Time: 0:00:00 Time:  0:00:00\n",
      "(10 /13) moments_central-(2, 0, 0) 100% (164 of 164) || Elapsed Time: 0:00:00 Time:  0:00:00\n",
      "(10 /13) moments_central-(2, 0, 1) 100% (164 of 164) || Elapsed Time: 0:00:00 Time:  0:00:00\n",
      "(10 /13) moments_central-(2, 0, 2) 100% (164 of 164) || Elapsed Time: 0:00:00 Time:  0:00:00\n",
      "(10 /13) moments_central-(2, 0, 3) 100% (164 of 164) || Elapsed Time: 0:00:00 Time:  0:00:00\n",
      "(10 /13) moments_central-(2, 1, 0) 100% (164 of 164) || Elapsed Time: 0:00:00 Time:  0:00:00\n",
      "(10 /13) moments_central-(2, 1, 1) 100% (164 of 164) || Elapsed Time: 0:00:00 Time:  0:00:00\n",
      "(10 /13) moments_central-(2, 1, 2) 100% (164 of 164) || Elapsed Time: 0:00:00 Time:  0:00:00\n",
      "(10 /13) moments_central-(2, 1, 3) 100% (164 of 164) || Elapsed Time: 0:00:00 Time:  0:00:00\n",
      "(10 /13) moments_central-(2, 2, 0) 100% (164 of 164) || Elapsed Time: 0:00:00 Time:  0:00:00\n",
      "(10 /13) moments_central-(2, 2, 1) 100% (164 of 164) || Elapsed Time: 0:00:00 Time:  0:00:00\n",
      "(10 /13) moments_central-(2, 2, 2) 100% (164 of 164) || Elapsed Time: 0:00:00 Time:  0:00:00\n",
      "(10 /13) moments_central-(2, 2, 3) 100% (164 of 164) || Elapsed Time: 0:00:00 Time:  0:00:00\n",
      "(10 /13) moments_central-(2, 3, 0) 100% (164 of 164) || Elapsed Time: 0:00:00 Time:  0:00:00\n",
      "(10 /13) moments_central-(2, 3, 1) 100% (164 of 164) || Elapsed Time: 0:00:00 Time:  0:00:00\n",
      "(10 /13) moments_central-(2, 3, 2) 100% (164 of 164) || Elapsed Time: 0:00:00 Time:  0:00:00\n",
      "(10 /13) moments_central-(2, 3, 3) 100% (164 of 164) || Elapsed Time: 0:00:00 Time:  0:00:00\n",
      "(10 /13) moments_central-(3, 0, 0) 100% (164 of 164) || Elapsed Time: 0:00:00 Time:  0:00:00\n",
      "(10 /13) moments_central-(3, 0, 1) 100% (164 of 164) || Elapsed Time: 0:00:00 Time:  0:00:00\n",
      "(10 /13) moments_central-(3, 0, 2) 100% (164 of 164) || Elapsed Time: 0:00:00 Time:  0:00:00\n",
      "(10 /13) moments_central-(3, 0, 3) 100% (164 of 164) || Elapsed Time: 0:00:00 Time:  0:00:00\n",
      "(10 /13) moments_central-(3, 1, 0) 100% (164 of 164) || Elapsed Time: 0:00:00 Time:  0:00:00\n",
      "(10 /13) moments_central-(3, 1, 1) 100% (164 of 164) || Elapsed Time: 0:00:00 Time:  0:00:00\n",
      "(10 /13) moments_central-(3, 1, 2) 100% (164 of 164) || Elapsed Time: 0:00:00 Time:  0:00:00\n",
      "(10 /13) moments_central-(3, 1, 3) 100% (164 of 164) || Elapsed Time: 0:00:00 Time:  0:00:00\n",
      "(10 /13) moments_central-(3, 2, 0) 100% (164 of 164) || Elapsed Time: 0:00:00 Time:  0:00:00\n",
      "(10 /13) moments_central-(3, 2, 1) 100% (164 of 164) || Elapsed Time: 0:00:00 Time:  0:00:00\n",
      "(10 /13) moments_central-(3, 2, 2) 100% (164 of 164) || Elapsed Time: 0:00:00 Time:  0:00:00\n",
      "(10 /13) moments_central-(3, 2, 3) 100% (164 of 164) || Elapsed Time: 0:00:00 Time:  0:00:00\n",
      "(10 /13) moments_central-(3, 3, 0) 100% (164 of 164) || Elapsed Time: 0:00:00 Time:  0:00:00\n",
      "(10 /13) moments_central-(3, 3, 1) 100% (164 of 164) || Elapsed Time: 0:00:00 Time:  0:00:00\n",
      "(10 /13) moments_central-(3, 3, 2) 100% (164 of 164) || Elapsed Time: 0:00:00 Time:  0:00:00\n",
      "(10 /13) moments_central-(3, 3, 3) 100% (164 of 164) || Elapsed Time: 0:00:00 Time:  0:00:00\n",
      "(11 /13) major_axis_length 100% (164 of 164) || Elapsed Time: 0:00:00 Time:  0:00:00\n",
      "(12 /13) minor_axis_length 100% (164 of 164) || Elapsed Time: 0:00:00 Time:  0:00:00\n",
      "(13 /13) slice 100% (164 of 164) |#######| Elapsed Time: 0:00:00 Time:  0:00:00\n"
     ]
    },
    {
     "name": "stdout",
     "output_type": "stream",
     "text": [
      "[2020-11-12::16:50:12.742] tomo2seg :: DEBUG :: {<timed exec>:get_3dblobs_props_table:033}\n",
      "Adjusting some data.\n",
      "\n",
      "[2020-11-12::16:50:12.743] tomo2seg :: DEBUG :: {<timed exec>:get_3dblobs_props_table:042}\n",
      "Converting floats to float16.\n",
      "\n",
      "[2020-11-12::16:50:12.752] tomo2seg :: DEBUG :: {<timed exec>:<module>:080}\n",
      "len(test_blobs_table)=94   test_blobs_volume.shape=(100, 100, 100)\n",
      "\n",
      "CPU times: user 615 ms, sys: 70.1 ms, total: 685 ms\n",
      "Wall time: 612 ms\n"
     ]
    }
   ],
   "source": [
    "%%time\n",
    "from typing import Tuple, List, Optional\n",
    "\n",
    "\n",
    "def get_3dblobs_props_table(\n",
    "    binary_volume: ndarray, \n",
    "    props: List[str],\n",
    "    label: Optional[int] = None,\n",
    "    blobs_volume_use_int32: Optional[bool] = True,\n",
    "    table_use_float16: Optional[bool] = False,\n",
    "    return_blobs_volume: Optional[bool] = False,\n",
    "    skimage_label_kwargs: dict = dict(),\n",
    "    regionsprops_table_kwargs: dict = dict(),\n",
    "):\n",
    "    \n",
    "    logger.debug(\"Getting connected components (blobs).\")\n",
    "    blobs, nblobs = skimage.measure.label(\n",
    "        binary_volume, return_num=True,\n",
    "        **skimage_label_kwargs\n",
    "    )\n",
    "    logger.info(f\"Found {nblobs} blobs.\")\n",
    "    \n",
    "    if blobs_volume_use_int32:\n",
    "        blobs = blobs.astype(np.int32)  # reduce some memory, up to 2 billion bodies!\n",
    "\n",
    "    logger.debug(\"Getting a table of props with `skimage.measure.regionprops_table()`.\")\n",
    "    props_table = skimage.measure.regionprops_table(\n",
    "        blobs,\n",
    "        cache=True,\n",
    "        properties=props,\n",
    "        **regionsprops_table_kwargs\n",
    "    )\n",
    "    \n",
    "    logger.debug(\"Adjusting some data.\")\n",
    "    props_table[\"id\"] = props_table[\"label\"]\n",
    "    \n",
    "    if label is not None:\n",
    "        props_table[\"label\"] = label * np.ones_like(props_table[\"label\"])\n",
    "    else:\n",
    "        del props_table[\"label\"]\n",
    "        \n",
    "    if table_use_float16:\n",
    "        logger.debug(\"Converting floats to float16.\")\n",
    "        for k, v in props_table.items():\n",
    "            if v.dtype in (np.float, np.float64, np.float32, np.float128):\n",
    "                props_table[k] = v.astype(np.float16)  # reduce memory usage\n",
    "    \n",
    "    if return_blobs_volume:\n",
    "        return props_table, blobs\n",
    "    else:\n",
    "        return props_table\n",
    "\n",
    "    \n",
    "PROPS = [\n",
    "    \"label\", \n",
    "    \"area\", \n",
    "#     \"convex_area\",  # this breaks, error in `convex-hull-error-stack-trace.txt`\n",
    "    \"bbox\", \"bbox_area\", \"extent\", \"filled_area\", \n",
    "    \"centroid\", \"local_centroid\", \n",
    "    \"inertia_tensor\", \"moments_central\",\n",
    "    \"major_axis_length\", \"minor_axis_length\", \n",
    "    \"slice\",\n",
    "    # todo add properties using the intensity image\n",
    "]\n",
    "\n",
    "get_table_and_volume = functools.partial(\n",
    "    get_3dblobs_props_table,\n",
    "    props=PROPS,\n",
    "    blobs_volume_use_int32=True,\n",
    "    table_use_float16=True,\n",
    "    return_blobs_volume=True,\n",
    "    skimage_label_kwargs=dict(connectivity=3, background=0,),\n",
    "    regionsprops_table_kwargs=dict(separator=\"-\",)\n",
    ")\n",
    "\n",
    "\n",
    "test_vol = labels_volume \n",
    "test_label = blobs_target_label\n",
    "test_vol = test_vol[:(sz := 100), :sz, :sz]\n",
    "test_blobs_table, test_blobs_volume = get_table_and_volume(test_vol, label=test_label)\n",
    "logger.debug(f\"{len(test_blobs_table)=}   {test_blobs_volume.shape=}\")"
   ]
  },
  {
   "cell_type": "code",
   "execution_count": null,
   "metadata": {},
   "outputs": [
    {
     "name": "stdout",
     "output_type": "stream",
     "text": [
      "[2020-11-12::16:50:12.814] tomo2seg :: DEBUG :: {<timed exec>:<module>:001}\n",
      "Getting `fiber` (idx=1) blobs.\n",
      "\n",
      "[2020-11-12::16:50:14.577] tomo2seg :: DEBUG :: {<timed exec>:get_3dblobs_props_table:015}\n",
      "Getting connected components (blobs).\n",
      "\n",
      "[2020-11-12::16:52:10.937] tomo2seg :: INFO :: {<timed exec>:get_3dblobs_props_table:020}\n",
      "Found 52814 blobs.\n",
      "\n",
      "[2020-11-12::16:52:19.902] tomo2seg :: DEBUG :: {<timed exec>:get_3dblobs_props_table:025}\n",
      "Getting a table of props with `skimage.measure.regionprops_table()`.\n",
      "\n"
     ]
    },
    {
     "name": "stderr",
     "output_type": "stream",
     "text": [
      "region-properties-init 100% (52814 of 52814) || Elapsed Time: 0:00:00 Time:  0:00:00\n",
      "(1 /13) label 100% (52814 of 52814) |####| Elapsed Time: 0:00:00 Time:  0:00:00\n",
      "(2 /13) area 100% (52814 of 52814) |#####| Elapsed Time: 0:00:03 Time:  0:00:03\n",
      "(3 /13) bbox-(0,) 100% (52814 of 52814) || Elapsed Time: 0:00:00 Time:  0:00:00\n",
      "(3 /13) bbox-(1,) 100% (52814 of 52814) || Elapsed Time: 0:00:00 Time:  0:00:00\n",
      "(3 /13) bbox-(2,) 100% (52814 of 52814) || Elapsed Time: 0:00:00 Time:  0:00:00\n",
      "(3 /13) bbox-(3,) 100% (52814 of 52814) || Elapsed Time: 0:00:00 Time:  0:00:00\n",
      "(3 /13) bbox-(4,) 100% (52814 of 52814) || Elapsed Time: 0:00:00 Time:  0:00:00\n",
      "(3 /13) bbox-(5,) 100% (52814 of 52814) || Elapsed Time: 0:00:00 Time:  0:00:00\n",
      "(4 /13) bbox_area 100% (52814 of 52814) || Elapsed Time: 0:00:00 Time:  0:00:00\n",
      "(5 /13) extent 100% (52814 of 52814) |###| Elapsed Time: 0:00:00 Time:  0:00:00\n",
      "(6 /13) filled_area 100% (52814 of 52814) || Elapsed Time: 0:00:13 Time:  0:00:13:27\n",
      "(7 /13) centroid-(0,) 100% (52814 of 52814) || Elapsed Time: 0:00:43 Time:  0:00:435:52:29\n",
      "(7 /13) centroid-(1,) 100% (52814 of 52814) || Elapsed Time: 0:00:45 Time:  0:00:4512:45:37\n",
      "(7 /13) centroid-(2,) N/A% (0 of 52814) || Elapsed Time: 0:00:00 ETA:  --:--:--"
     ]
    }
   ],
   "source": [
    "%%time\n",
    "\n",
    "logger.debug(f\"Getting `{volume.metadata.labels_names[blobs_target_label]}` (idx={blobs_target_label}) blobs.\")\n",
    "blobs_table, blobs_volume = get_table_and_volume(\n",
    "    (labels_volume == blobs_target_label).astype(np.int8), \n",
    "    label=blobs_target_label\n",
    ")"
   ]
  },
  {
   "cell_type": "code",
   "execution_count": null,
   "metadata": {},
   "outputs": [],
   "source": [
    "logger.debug(f\"Converting table to panda.\")\n",
    "blobs_table = pd.DataFrame(blobs_table)"
   ]
  },
  {
   "cell_type": "code",
   "execution_count": null,
   "metadata": {},
   "outputs": [],
   "source": [
    "logger.debug(f\"Saving table at `{blobs_table_path=}`\")\n",
    "blobs_table.to_csv(blobs_table_path)\n",
    "\n",
    "logger.debug(f\"Saving volume at `{blobs_volume_path=}`\")\n",
    "file_utils.HST_write(blobs_volume, str(blobs_volume_path), mode='w', verbose=True)"
   ]
  },
  {
   "cell_type": "code",
   "execution_count": null,
   "metadata": {},
   "outputs": [],
   "source": []
  },
  {
   "cell_type": "code",
   "execution_count": null,
   "metadata": {},
   "outputs": [],
   "source": []
  },
  {
   "cell_type": "code",
   "execution_count": null,
   "metadata": {},
   "outputs": [],
   "source": []
  }
 ],
 "metadata": {
  "kernelspec": {
   "display_name": "Python 3",
   "language": "python",
   "name": "python3"
  },
  "language_info": {
   "codemirror_mode": {
    "name": "ipython",
    "version": 3
   },
   "file_extension": ".py",
   "mimetype": "text/x-python",
   "name": "python",
   "nbconvert_exporter": "python",
   "pygments_lexer": "ipython3",
   "version": "3.8.2"
  }
 },
 "nbformat": 4,
 "nbformat_minor": 4
}
