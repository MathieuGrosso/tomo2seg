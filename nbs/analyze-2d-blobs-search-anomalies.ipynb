{
 "cells": [
  {
   "cell_type": "markdown",
   "metadata": {},
   "source": [
    "# Setup"
   ]
  },
  {
   "cell_type": "code",
   "execution_count": 1,
   "metadata": {},
   "outputs": [],
   "source": [
    "%load_ext autoreload"
   ]
  },
  {
   "cell_type": "code",
   "execution_count": 11,
   "metadata": {},
   "outputs": [],
   "source": [
    "%autoreload 2\n",
    "\n",
    "import copy\n",
    "import functools\n",
    "import itertools\n",
    "import logging\n",
    "import re\n",
    "import time\n",
    "import yaml\n",
    "from collections import Counter\n",
    "\n",
    "import humanize\n",
    "from pymicro.file import file_utils\n",
    "import tensorflow as tf\n",
    "from tqdm import tqdm\n",
    "import numpy as np\n",
    "import scipy as sp\n",
    "from numpy import ndarray\n",
    "from matplotlib import pyplot as plt, patches, cm\n",
    "from sklearn import metrics as met\n",
    "from progressbar import progressbar as pbar\n",
    "from tensorflow.keras import layers\n",
    "from sklearn import metrics, preprocessing\n",
    "from sklearn import model_selection\n",
    "import skimage\n",
    "from skimage import measure, io\n",
    "import pandas as pd\n",
    "\n",
    "import tomo2seg.data as tomo2seg_data\n",
    "from tomo2seg.data import ModelPaths, Volume, EstimationVolume, SetPartition\n",
    "from tomo2seg.volume_img_segm import VolumeImgSegmSequence\n",
    "from tomo2seg import viz\n",
    "from tomo2seg.logger import logger"
   ]
  },
  {
   "cell_type": "code",
   "execution_count": 3,
   "metadata": {},
   "outputs": [],
   "source": [
    "from tomo2seg.data import VOLUME_PRECIPITATES_V1 as VOL_NAME_VERSION\n",
    "logger.debug(f\"{VOL_NAME_VERSION=}\")"
   ]
  },
  {
   "cell_type": "code",
   "execution_count": 4,
   "metadata": {},
   "outputs": [],
   "source": [
    "logger.setLevel(logging.DEBUG)"
   ]
  },
  {
   "cell_type": "code",
   "execution_count": 5,
   "metadata": {},
   "outputs": [],
   "source": [
    "random_state = 42\n",
    "random_state = np.random.RandomState(random_state)"
   ]
  },
  {
   "cell_type": "markdown",
   "metadata": {},
   "source": [
    "# Load from the disk"
   ]
  },
  {
   "cell_type": "code",
   "execution_count": 9,
   "metadata": {},
   "outputs": [
    {
     "name": "stdout",
     "output_type": "stream",
     "text": [
      "[2020-11-10::16:54:18.100] tomo2seg :: DEBUG :: {data.py:with_check:201}\n",
      "vol=Volume(name='PA66GF30', version='v1', _metadata=None)\n",
      "\n",
      "[2020-11-10::16:54:18.103] tomo2seg :: ERROR :: {data.py:with_check:219}\n",
      "Missing file: /home/users/jcasagrande/projects/tomo2seg/data/PA66GF30.v1/PA66GF30.v1.labels.raw\n",
      "\n",
      "[2020-11-10::16:54:18.104] tomo2seg :: WARNING :: {data.py:with_check:223}\n",
      "Missing file: /home/users/jcasagrande/projects/tomo2seg/data/PA66GF30.v1/PA66GF30.v1.weights.raw\n",
      "\n",
      "[2020-11-10::16:54:18.106] tomo2seg :: DEBUG :: {data.py:metadata:158}\n",
      "Loading metadata from `/home/users/jcasagrande/projects/tomo2seg/data/PA66GF30.v1/PA66GF30.v1.metadata.yml`.\n",
      "\n",
      "[2020-11-10::16:54:18.120] tomo2seg :: INFO :: {<ipython-input-9-4fefebe63d9f>:<module>:008}\n",
      "volume=Volume(name='PA66GF30', version='v1', _metadata=Volume.Metadata(dimensions=[1300, 1040, 1900], dtype='uint8', labels=[0, 1, 2], labels_names={0: 'matrix', 1: 'fiber', 2: 'porosity'}, set_partitions={'train': {'x_range': [0, 1299], 'y_range': [0, 1039], 'z_range': [0, 1299], 'alias': 'train'}, 'val': {'x_range': [0, 1299], 'y_range': [0, 1039], 'z_range': [1600, 1899], 'alias': 'val'}, 'test': {'x_range': [0, 1299], 'y_range': [0, 1039], 'z_range': [1300, 1599], 'alias': 'test'}}))\n",
      "\n",
      "[2020-11-10::16:54:18.122] tomo2seg :: DEBUG :: {<ipython-input-9-4fefebe63d9f>:<module>:021}\n",
      "blobs_path_prefix='/home/users/jcasagrande/projects/tomo2seg/data/PA66GF30.v1/PA66GF30.v1.labels-original'\n",
      "\n"
     ]
    }
   ],
   "source": [
    "# Metadata/paths objects\n",
    "\n",
    "## Volume\n",
    "volume = Volume.with_check(\n",
    "    volume_name := VOL_NAME_VERSION[0], \n",
    "    volume_version := VOL_NAME_VERSION[1]\n",
    ")\n",
    "logger.info(f\"{volume=}\")\n",
    "\n",
    "hst_read = lambda x: functools.partial(\n",
    "    # from pymicro\n",
    "    file_utils.HST_read,\n",
    "    # pre-loaded kwargs\n",
    "    autoparse_filename=False,  # the file names are not properly formatted\n",
    "    data_type=volume.metadata.dtype,\n",
    "    dims=volume.metadata.dimensions,\n",
    "    verbose=True,\n",
    ")(str(x))  # it doesn't accept paths...\n",
    "\n",
    "blobs_path_prefix = str(volume.versioned_labels_path(\"original\"))[:-4]\n",
    "logger.debug(f\"{blobs_path_prefix=}\")"
   ]
  },
  {
   "cell_type": "markdown",
   "metadata": {},
   "source": [
    "# Porosity blobs"
   ]
  },
  {
   "cell_type": "markdown",
   "metadata": {},
   "source": [
    "## z-axis 2d blobs\n",
    "\n",
    "**Note about the filenames here**\n",
    "\n",
    "Search for (Ctrl + F) `[filenames]` in the script `compute_2d_blob_props.py` to see where they come from."
   ]
  },
  {
   "cell_type": "code",
   "execution_count": 12,
   "metadata": {},
   "outputs": [
    {
     "name": "stdout",
     "output_type": "stream",
     "text": [
      "[2020-11-10::16:59:45.091] tomo2seg :: DEBUG :: {<ipython-input-12-9e0718de7087>:<module>:002}\n",
      "filename='/home/users/jcasagrande/projects/tomo2seg/data/PA66GF30.v1/PA66GF30.v1.labels-original.porosity.x-blobs.csv'\n",
      "\n",
      "[2020-11-10::16:59:46.844] tomo2seg :: DEBUG :: {<ipython-input-12-9e0718de7087>:<module>:005}\n",
      "(1147786, 23)\n",
      "\n"
     ]
    }
   ],
   "source": [
    "filename = f\"{blobs_path_prefix}.porosity.x-blobs.csv\"\n",
    "logger.debug(f\"{filename=}\")\n",
    "\n",
    "blobsdf = pd.read_csv(filename)\n",
    "logger.debug(f\"{blobsdf.shape}\")"
   ]
  }
 ],
 "metadata": {
  "kernelspec": {
   "display_name": "Python 3",
   "language": "python",
   "name": "python3"
  },
  "language_info": {
   "codemirror_mode": {
    "name": "ipython",
    "version": 3
   },
   "file_extension": ".py",
   "mimetype": "text/x-python",
   "name": "python",
   "nbconvert_exporter": "python",
   "pygments_lexer": "ipython3",
   "version": "3.8.2"
  }
 },
 "nbformat": 4,
 "nbformat_minor": 4
}
